{
 "cells": [
  {
   "cell_type": "code",
   "execution_count": 1,
   "id": "e99c1b42",
   "metadata": {
    "id": "e99c1b42"
   },
   "outputs": [],
   "source": [
    "import numpy as np\n",
    "from qiskit import QuantumCircuit"
   ]
  },
  {
   "cell_type": "code",
   "execution_count": 44,
   "id": "e50fa2d1",
   "metadata": {
    "id": "e50fa2d1"
   },
   "outputs": [],
   "source": [
    "import numpy as np\n",
    "\n",
    "def generate_bicycle_ldpc(m, n):\n",
    "    \"\"\"\n",
    "    Generate a bicycle LDPC code.\n",
    "    Parameters:\n",
    "        m: Number of rows (check bits).\n",
    "        n: Number of columns (code bits).\n",
    "    Returns:\n",
    "        Hx, Hz: LDPC parity-check matrices for X and Z errors.\n",
    "    \"\"\"\n",
    "    H = np.random.randint(0, 2, (m, n // 2))\n",
    "    Hx = np.concatenate((H, H), axis=1)\n",
    "    Hz = np.concatenate((H[:, ::-1], H[:, ::-1]), axis=1)\n",
    "    return Hx, Hz\n",
    "\n",
    "def generate_unicycle_ldpc(m, n):\n",
    "    \"\"\"\n",
    "    Generate a unicycle LDPC code.\n",
    "    Parameters:\n",
    "        m: Number of rows (check bits).\n",
    "        n: Number of columns (code bits).\n",
    "    Returns:\n",
    "        Hx, Hz: LDPC parity-check matrices for X and Z errors.\n",
    "    \"\"\"\n",
    "    H = np.random.randint(0, 2, (m, n))\n",
    "    Hx = H\n",
    "    Hz = H[:, ::-1]  # Reverse the columns for unicycle codes\n",
    "    return Hx, Hz\n",
    "\n",
    "def rand_bin_array(K, N):\n",
    "    arr = np.zeros(N)\n",
    "    arr[:K]  = 1\n",
    "    np.random.shuffle(arr)\n",
    "    return arr\n",
    "\n",
    "def cyclic_shift_matrix(arr):\n",
    "    N = len(arr)\n",
    "    matrix = np.zeros((N, N), dtype=arr.dtype)  # Create a matrix of size N x N\n",
    "    for i in range(N):\n",
    "        matrix[i] = np.roll(arr, i)  # Shift the array by i positions\n",
    "    return matrix\n",
    "\n",
    "def generate_bicycle_ldpc_1(n, m, k):\n",
    "    n_sub = int(n/2)\n",
    "    row = rand_bin_array(k, n_sub)\n",
    "    c = cyclic_shift_matrix(row)\n",
    "    return np.concatenate((c, c.T), axis=1)"
   ]
  },
  {
   "cell_type": "code",
   "execution_count": 60,
   "id": "a0378571",
   "metadata": {
    "id": "a0378571"
   },
   "outputs": [],
   "source": [
    "# H_X matrix from https://arxiv.org/pdf/2405.07242\n",
    "# Hx = np.array([\n",
    "#     [1, 0, 0, 0, 1, 0, 0, 0, 1, 1],\n",
    "#     [0, 1, 0, 0, 0, 1, 1, 0, 0, 1],\n",
    "#     [0, 0, 1, 1, 0, 0, 0, 1, 0, 1]\n",
    "# ])\n",
    "\n",
    "# # H_Z matrix\n",
    "# Hz = np.array([\n",
    "#     [1, 0, 0, 0, 0, 1, 0, 1, 0, 1],\n",
    "#     [0, 1, 0, 1, 0, 0, 0, 0, 1, 1],\n",
    "#     [0, 0, 1, 0, 1, 0, 1, 0, 0, 1]\n",
    "# ])\n",
    "\n",
    "#USE BICYCLE PARITY CHECK MATRICES\n",
    "Hx = generate_bicycle_ldpc_1(8, 4, 1)\n",
    "Hz = Hx\n",
    "\n",
    "### USE STEANE CODE \n",
    "# Hx = np.array([\n",
    "#             [1, 1, 1, 1, 0, 0, 0],\n",
    "#             [1, 1, 0, 0, 1, 1, 0],\n",
    "#             [1, 0, 1, 0, 1, 0, 1]\n",
    "#         ], dtype=int)\n",
    "\n",
    "# Hz = np.array([\n",
    "#             [1, 1, 1, 1, 0, 0, 0],\n",
    "#             [1, 1, 0, 0, 1, 1, 0],\n",
    "#             [1, 0, 1, 0, 1, 0, 1]\n",
    "#         ], dtype=int)\n",
    "\n",
    "zeros = np.zeros(Hx.shape)\n"
   ]
  },
  {
   "cell_type": "code",
   "execution_count": 61,
   "id": "9a521c8c",
   "metadata": {},
   "outputs": [],
   "source": [
    "H0 = np.concatenate((np.concatenate((Hx, zeros), axis=1), np.concatenate((zeros, Hz), axis=1))) #in the standard form for a CSS code"
   ]
  },
  {
   "cell_type": "code",
   "execution_count": 62,
   "id": "0c1c05ea",
   "metadata": {},
   "outputs": [
    {
     "data": {
      "text/plain": [
       "array([[1., 0., 0., 0., 1., 0., 0., 0., 0., 0., 0., 0., 0., 0., 0., 0.],\n",
       "       [0., 1., 0., 0., 0., 1., 0., 0., 0., 0., 0., 0., 0., 0., 0., 0.],\n",
       "       [0., 0., 1., 0., 0., 0., 1., 0., 0., 0., 0., 0., 0., 0., 0., 0.],\n",
       "       [0., 0., 0., 1., 0., 0., 0., 1., 0., 0., 0., 0., 0., 0., 0., 0.],\n",
       "       [0., 0., 0., 0., 0., 0., 0., 0., 1., 0., 0., 0., 1., 0., 0., 0.],\n",
       "       [0., 0., 0., 0., 0., 0., 0., 0., 0., 1., 0., 0., 0., 1., 0., 0.],\n",
       "       [0., 0., 0., 0., 0., 0., 0., 0., 0., 0., 1., 0., 0., 0., 1., 0.],\n",
       "       [0., 0., 0., 0., 0., 0., 0., 0., 0., 0., 0., 1., 0., 0., 0., 1.]])"
      ]
     },
     "execution_count": 62,
     "metadata": {},
     "output_type": "execute_result"
    }
   ],
   "source": [
    "H0"
   ]
  },
  {
   "cell_type": "code",
   "execution_count": 63,
   "id": "a76a7a47",
   "metadata": {
    "id": "a76a7a47"
   },
   "outputs": [],
   "source": [
    "def get_stabilizers(H_sub, stab):\n",
    "    all_stab = []\n",
    "    for n in range(len(H_sub)):\n",
    "        curr_str = ''\n",
    "        row = H_sub[n]\n",
    "        for m in row:\n",
    "            if m:\n",
    "                curr_str += stab\n",
    "            else:\n",
    "                curr_str += 'I'\n",
    "        print(curr_str)\n",
    "        all_stab.append(curr_str)\n",
    "    return all_stab"
   ]
  },
  {
   "cell_type": "code",
   "execution_count": 64,
   "id": "c4b50765",
   "metadata": {
    "id": "c4b50765",
    "outputId": "c48773a4-926a-421b-d854-300f519a55c6"
   },
   "outputs": [
    {
     "name": "stdout",
     "output_type": "stream",
     "text": [
      "XIIIXIII\n",
      "IXIIIXII\n",
      "IIXIIIXI\n",
      "IIIXIIIX\n"
     ]
    },
    {
     "data": {
      "text/plain": [
       "['XIIIXIII', 'IXIIIXII', 'IIXIIIXI', 'IIIXIIIX']"
      ]
     },
     "execution_count": 64,
     "metadata": {},
     "output_type": "execute_result"
    }
   ],
   "source": [
    "get_stabilizers(Hx, 'X')"
   ]
  },
  {
   "cell_type": "code",
   "execution_count": 65,
   "id": "b6796ee1",
   "metadata": {
    "id": "b6796ee1",
    "outputId": "0e04ee64-45c4-459a-a304-2901694385c9",
    "scrolled": true
   },
   "outputs": [],
   "source": [
    "def make_stabilizer_circ(Hx, Hz, noise_inject=None, input_qc=None):\n",
    "    \"\"\"\n",
    "    Generate a stabilizer circuit given Hx and Hz. \n",
    "    noise_inject: a list of functions which take in a qc and with probability p, adds a single pauli to each qubit. \n",
    "    ^The functions in noise_inject are shown in below example, and require error prob and number of data qubits\n",
    "    as input (so the ancillas will not have errors). \n",
    "    \n",
    "    \"\"\"\n",
    "    if input_qc:\n",
    "        data = input_qc.qregs[0]\n",
    "        ancilla = input_qc.qregs[1]\n",
    "        \n",
    "    qc = QuantumCircuit(Hx.shape[1] + Hx.shape[0] + Hz.shape[0], Hx.shape[0] + Hz.shape[0])\n",
    "    x_offset = Hx.shape[1]\n",
    "    z_offset = Hx.shape[1] + Hx.shape[0]\n",
    "\n",
    "    for i in range(len(Hx)):\n",
    "        row  = Hx[i]\n",
    "        #print(row)\n",
    "        for j in range(len(row)):\n",
    "            curr = row[j]\n",
    "            #print(curr)\n",
    "            if curr:\n",
    "                #print(i, j, curr)\n",
    "                qc.cx(j, i + x_offset) #need to track offset\n",
    "                print(\"Added X stabilizer from qubit \" + str(j) + \" to ancilla \" + str(i))\n",
    "                qc.barrier()\n",
    "\n",
    "    for i in range(len(Hz)):\n",
    "        row  = Hz[i]\n",
    "        #print(row)\n",
    "        for j in range(len(row)):\n",
    "            curr = row[j]\n",
    "            #print(curr)\n",
    "            if curr:\n",
    "                #print(i, j, curr)\n",
    "                qc.cz(j, i + z_offset) #need to track offset\n",
    "                print(\"Added Z stabilizer from qubit \" + str(j) + \" to ancilla \" + str(i))\n",
    "                qc.barrier()\n",
    "\n",
    "    #log where errors were added \n",
    "    logs = []\n",
    "    for f in noise_inject:\n",
    "        log = None\n",
    "        logs.append(log)\n",
    "    #qc.x(10)\n",
    "    qc.measure(range(Hx.shape[1], Hx.shape[1] + Hx.shape[0] + Hz.shape[0]), range(Hx.shape[0] + Hz.shape[0]))\n",
    "    if input_qc:\n",
    "        qc = input_qc.append(qc)\n",
    "    if noise_inject:\n",
    "        return qc, logs\n",
    "    else:\n",
    "        return qc"
   ]
  },
  {
   "cell_type": "code",
   "execution_count": 66,
   "id": "3c843ebd",
   "metadata": {},
   "outputs": [],
   "source": [
    "def make_stabilizer_circ_1(Hx, Hz,  qc, noise_inject=None):\n",
    "    \"\"\"\n",
    "    Generate a stabilizer circuit given Hx and Hz. \n",
    "    noise_inject: a list of functions which take in a qc and with probability p, adds a single pauli to each qubit. \n",
    "    ^The functions in noise_inject are shown in below example, and require error prob and number of data qubits\n",
    "    as input (so the ancillas will not have errors). \n",
    "    \n",
    "    \"\"\"\n",
    "    qc.barrier()\n",
    "    data = qc.qregs[0]\n",
    "    ancilla = qc.qregs[1]\n",
    "\n",
    "    x_offset = 0\n",
    "    z_offset = Hx.shape[0]\n",
    "    \n",
    "    for i in range(len(Hx)):\n",
    "        row  = Hx[i]\n",
    "        #print(row)\n",
    "        for j in range(len(row)):\n",
    "            curr = row[j]\n",
    "            #print(curr)\n",
    "            if curr:\n",
    "                #print(i, j, curr)\n",
    "                qc.cx(data[j], ancilla[i]) #need to track offset\n",
    "                print(j, i)\n",
    "                print(\"Added X stabilizer from qubit \" + str(j) + \" to ancilla \" + str(i))\n",
    "                qc.barrier()\n",
    "\n",
    "    for i in range(len(Hz)):\n",
    "        row  = Hz[i]\n",
    "        #print(row)\n",
    "        for j in range(len(row)):\n",
    "            curr = row[j]\n",
    "            #print(curr)\n",
    "            if curr:\n",
    "                #print(i, j, curr)\n",
    "                print(j, i)\n",
    "                qc.cz(data[j], ancilla[i + z_offset]) #need to track offset\n",
    "                print(\"Added Z stabilizer from qubit \" + str(j) + \" to ancilla \" + str(i+ z_offset))\n",
    "                qc.barrier()\n",
    "\n",
    "    #log where errors were added \n",
    "    logs = []\n",
    "#     for f in noise_inject:\n",
    "#         log = None\n",
    "#         logs.append(log)\n",
    "    #qc.x(10)\n",
    "    print(ancilla)\n",
    "    print(qc.cregs[0])\n",
    "    qc.measure(ancilla, qc.cregs[0])\n",
    "    if noise_inject:\n",
    "        return qc, logs\n",
    "    else:\n",
    "        return qc"
   ]
  },
  {
   "cell_type": "code",
   "execution_count": 67,
   "id": "2b22897f",
   "metadata": {},
   "outputs": [],
   "source": [
    "# cd = stac.CommonCodes.generate_code('[[7,1,3]]')\n",
    "# stac.print_matrix(cd.generator_matrix, augmented=True)\n",
    "# cd.construct_standard_form()\n",
    "# stac.print_matrix(cd.standard_generator_matrix, augmented=True)\n",
    "\n",
    "\n",
    "# cd.construct_logical_operators()\n",
    "# print(\"Logical X =\", cd.logical_xs)\n",
    "# stac.print_paulis(cd.logical_xs)\n",
    "\n",
    "# print(\"\\nLogical Z =\", cd.logical_zs)\n",
    "# stac.print_paulis(cd.logical_zs)\n",
    "\n",
    "# matrix3 = np.array([\n",
    "#     [0, 1, 1, 0, 0, 0, 0, 0, 0, 1, 1, 0, 0, 0, 0, 0],\n",
    "#     [1, 1, 0, 1, 0, 0, 0, 0, 1, 1, 0, 1, 0, 0, 0, 0],\n",
    "#     [1, 1, 1, 0, 1, 0, 0, 0, 1, 1, 1, 0, 1, 0, 0, 0],\n",
    "#     [1, 0, 0, 1, 1, 1, 0, 0, 1, 0, 0, 1, 1, 1, 0, 0],\n",
    "#     [0, 0, 1, 0, 1, 1, 1, 0, 0, 0, 1, 0, 1, 1, 1, 0],\n",
    "#     [0, 0, 0, 1, 0, 1, 1, 1, 0, 0, 0, 1, 0, 1, 1, 1]\n",
    "# ])\n",
    "\n",
    "# matrix4 = np.array([\n",
    "#     [0, 1, 1, 0, 0, 0, 0, 0],\n",
    "#     [1, 1, 0, 1, 0, 0, 0, 0],\n",
    "#     [1, 1, 1, 0, 1, 0, 0, 0],\n",
    "#     [1, 0, 0, 1, 1, 1, 0, 0],\n",
    "#     [0, 0, 1, 0, 1, 1, 1, 0],\n",
    "#     [0, 0, 0, 1, 0, 1, 1, 1]\n",
    "# ])"
   ]
  },
  {
   "cell_type": "code",
   "execution_count": 1,
   "id": "2b54b762",
   "metadata": {},
   "outputs": [
    {
     "ename": "ModuleNotFoundError",
     "evalue": "No module named 'stac'",
     "output_type": "error",
     "traceback": [
      "\u001b[0;31m---------------------------------------------------------------------------\u001b[0m",
      "\u001b[0;31mModuleNotFoundError\u001b[0m                       Traceback (most recent call last)",
      "Cell \u001b[0;32mIn[1], line 1\u001b[0m\n\u001b[0;32m----> 1\u001b[0m \u001b[38;5;28;01mimport\u001b[39;00m \u001b[38;5;21;01mstac\u001b[39;00m\n\u001b[1;32m      2\u001b[0m \u001b[38;5;28;01mfrom\u001b[39;00m \u001b[38;5;21;01mqiskit\u001b[39;00m \u001b[38;5;28;01mimport\u001b[39;00m QuantumRegister\n\u001b[1;32m      4\u001b[0m \u001b[38;5;66;03m# Hx = matrix3\u001b[39;00m\n\u001b[1;32m      5\u001b[0m \u001b[38;5;66;03m# Hz = Hx\u001b[39;00m\n",
      "\u001b[0;31mModuleNotFoundError\u001b[0m: No module named 'stac'"
     ]
    }
   ],
   "source": [
    "import stac\n",
    "from qiskit import QuantumRegister\n",
    "\n",
    "# Hx = matrix3\n",
    "# Hz = Hx\n",
    "\n",
    "\n",
    "cd = stac.Code(np.concatenate((Hx, zeros)).astype(int), np.concatenate((zeros, Hz)).astype(int))\n",
    "\n",
    "#cd = stac.Code(Hx.astype(int),Hz.astype(int))\n",
    "stac.print_matrix(cd.generator_matrix, augmented=True)\n",
    "cd.construct_logical_operators()\n",
    "cd.construct_standard_form()\n",
    "stac.print_matrix(cd.standard_generator_matrix, augmented=True)\n",
    "print(\"Logical X =\", cd.logical_xs)\n",
    "print(\"Logical Z =\", cd.logical_zs)\n"
   ]
  },
  {
   "cell_type": "code",
   "execution_count": 69,
   "id": "d15bb33f",
   "metadata": {
    "scrolled": true
   },
   "outputs": [],
   "source": [
    "# enc_circ = cd.construct_encoding_circuit()\n",
    "# enc_qc = QuantumCircuit.from_qasm_str(enc_circ.qasm())\n",
    "\n",
    "# syn_circ= cd.construct_syndrome_circuit()\n",
    "# syn_qc = QuantumCircuit.from_qasm_str(syn_circ.qasm())\n",
    "\n",
    "# # ### ADD ERROR \n",
    "# # enc_qc.barrier()\n",
    "# # enc_qc.x(1)\n",
    "# # enc_qc.barrier()\n",
    "\n",
    "# qr2 = QuantumRegister(len(enc_qc.qregs[0]))\n",
    "# enc_qc.add_register(qr2)\n",
    "# qc = make_stabilizer_circ_1(Hx, Hz, enc_qc)\n",
    "# qc.draw(output=\"mpl\")"
   ]
  },
  {
   "cell_type": "code",
   "execution_count": 70,
   "id": "cde9899d",
   "metadata": {},
   "outputs": [
    {
     "data": {
      "image/svg+xml": [
       "<svg xmlns=\"http://www.w3.org/2000/svg\" viewBox=\"0 0 1397 736\" width=\"1397\"><style>\n",
       "            .backgroundrect {fill: white;}\n",
       "            .labeltext { font-family: Bitstream Vera Sans Mono;\n",
       "                        font-size: 12px; font-weight: 400; fill: black;}\n",
       "            .qubitline { stroke: black; stroke-width: 2; }\n",
       "            .gatetext { font-family: Latin Modern Math, Cambria Math;\n",
       "                        font-size: 20px; font-weight: 400; fill: black;}\n",
       "            .gaterect { fill: white; stroke: black; stroke-width: 2 }\n",
       "            .control1 { fill: black; stroke: black; stroke-width: 1 }\n",
       "            .controlline { stroke: black; stroke-width: 2}\n",
       "            .tickline { stroke: black; stroke-width: 0.75; stroke-dasharray: 6,3}\n",
       "            .tp_highlight1 { fill: red; opacity: 0.2;}\n",
       "            .tp_highlight2 { fill: blue; opacity: 0.2;}</style><rect class=\"backgroundrect\" x=\"0\" y=\"0\" width=\"1397\" height=\"736\"/><line class=\"qubitline\" x1=\"160\" y1=\"20\" x2=\"1397\" y2=\"20\"/><line class=\"qubitline\" x1=\"160\" y1=\"66\" x2=\"1397\" y2=\"66\"/><line class=\"qubitline\" x1=\"160\" y1=\"112\" x2=\"1397\" y2=\"112\"/><line class=\"qubitline\" x1=\"160\" y1=\"158\" x2=\"1397\" y2=\"158\"/><line class=\"qubitline\" x1=\"160\" y1=\"204\" x2=\"1397\" y2=\"204\"/><line class=\"qubitline\" x1=\"160\" y1=\"250\" x2=\"1397\" y2=\"250\"/><line class=\"qubitline\" x1=\"160\" y1=\"296\" x2=\"1397\" y2=\"296\"/><line class=\"qubitline\" x1=\"160\" y1=\"342\" x2=\"1397\" y2=\"342\"/><line class=\"qubitline\" x1=\"160\" y1=\"388\" x2=\"1397\" y2=\"388\"/><line class=\"qubitline\" x1=\"160\" y1=\"434\" x2=\"1397\" y2=\"434\"/><line class=\"qubitline\" x1=\"160\" y1=\"480\" x2=\"1397\" y2=\"480\"/><line class=\"qubitline\" x1=\"160\" y1=\"526\" x2=\"1397\" y2=\"526\"/><line class=\"qubitline\" x1=\"160\" y1=\"572\" x2=\"1397\" y2=\"572\"/><line class=\"qubitline\" x1=\"160\" y1=\"618\" x2=\"1397\" y2=\"618\"/><line class=\"qubitline\" x1=\"160\" y1=\"664\" x2=\"1397\" y2=\"664\"/><line class=\"qubitline\" x1=\"160\" y1=\"710\" x2=\"1397\" y2=\"710\"/><text dominant-baseline=\"central\" class=\"labeltext\" x=\"0\" y=\"20\">(0, 0, 0, 0)    :  0</text><text dominant-baseline=\"central\" class=\"labeltext\" x=\"0\" y=\"66\">(0, 0, 0, 1)    :  1</text><text dominant-baseline=\"central\" class=\"labeltext\" x=\"0\" y=\"112\">(0, 0, 0, 2)    :  2</text><text dominant-baseline=\"central\" class=\"labeltext\" x=\"0\" y=\"158\">(0, 0, 0, 3)    :  3</text><text dominant-baseline=\"central\" class=\"labeltext\" x=\"0\" y=\"204\">(0, 0, 0, 4)    :  4</text><text dominant-baseline=\"central\" class=\"labeltext\" x=\"0\" y=\"250\">(0, 0, 0, 5)    :  5</text><text dominant-baseline=\"central\" class=\"labeltext\" x=\"0\" y=\"296\">(0, 0, 0, 6)    :  6</text><text dominant-baseline=\"central\" class=\"labeltext\" x=\"0\" y=\"342\">(0, 0, 0, 7)    :  7</text><text dominant-baseline=\"central\" class=\"labeltext\" x=\"0\" y=\"388\">(0, 0, 1, 0, 0) :  8</text><text dominant-baseline=\"central\" class=\"labeltext\" x=\"0\" y=\"434\">(0, 0, 1, 1, 0) :  9</text><text dominant-baseline=\"central\" class=\"labeltext\" x=\"0\" y=\"480\">(0, 0, 1, 2, 0) : 10</text><text dominant-baseline=\"central\" class=\"labeltext\" x=\"0\" y=\"526\">(0, 0, 1, 3, 0) : 11</text><text dominant-baseline=\"central\" class=\"labeltext\" x=\"0\" y=\"572\">(0, 0, 1, 4, 0) : 12</text><text dominant-baseline=\"central\" class=\"labeltext\" x=\"0\" y=\"618\">(0, 0, 1, 5, 0) : 13</text><text dominant-baseline=\"central\" class=\"labeltext\" x=\"0\" y=\"664\">(0, 0, 1, 6, 0) : 14</text><text dominant-baseline=\"central\" class=\"labeltext\" x=\"0\" y=\"710\">(0, 0, 1, 7, 0) : 15</text><rect class=\"gaterect\" x=\"175\" y=\"7.0\" width=\"28\" height=\"26\"/><text dominant-baseline=\"central\" text-anchor=\"middle\" class=\"gatetext\" x=\"189.0\" y=\"20.0\">H</text><circle class=\"control1\" cx=\"232.0\" cy=\"20\" r=\"3\"/><line class=\"controlline\" x1=\"232.0\" y1=\"23\" x2=\"232.0\" y2=\"191.0\"/><rect class=\"gaterect\" x=\"218\" y=\"191.0\" width=\"28\" height=\"26\"/><text dominant-baseline=\"central\" text-anchor=\"middle\" class=\"gatetext\" x=\"232.0\" y=\"204.0\">X</text><rect class=\"gaterect\" x=\"261\" y=\"53.0\" width=\"28\" height=\"26\"/><text dominant-baseline=\"central\" text-anchor=\"middle\" class=\"gatetext\" x=\"275.0\" y=\"66.0\">H</text><circle class=\"control1\" cx=\"318.0\" cy=\"66\" r=\"3\"/><line class=\"controlline\" x1=\"318.0\" y1=\"69\" x2=\"318.0\" y2=\"237.0\"/><rect class=\"gaterect\" x=\"304\" y=\"237.0\" width=\"28\" height=\"26\"/><text dominant-baseline=\"central\" text-anchor=\"middle\" class=\"gatetext\" x=\"318.0\" y=\"250.0\">X</text><rect class=\"gaterect\" x=\"347\" y=\"99.0\" width=\"28\" height=\"26\"/><text dominant-baseline=\"central\" text-anchor=\"middle\" class=\"gatetext\" x=\"361.0\" y=\"112.0\">H</text><circle class=\"control1\" cx=\"404.0\" cy=\"112\" r=\"3\"/><line class=\"controlline\" x1=\"404.0\" y1=\"115\" x2=\"404.0\" y2=\"283.0\"/><rect class=\"gaterect\" x=\"390\" y=\"283.0\" width=\"28\" height=\"26\"/><text dominant-baseline=\"central\" text-anchor=\"middle\" class=\"gatetext\" x=\"404.0\" y=\"296.0\">X</text><rect class=\"gaterect\" x=\"433\" y=\"145.0\" width=\"28\" height=\"26\"/><text dominant-baseline=\"central\" text-anchor=\"middle\" class=\"gatetext\" x=\"447.0\" y=\"158.0\">H</text><circle class=\"control1\" cx=\"490.0\" cy=\"158\" r=\"3\"/><line class=\"controlline\" x1=\"490.0\" y1=\"161\" x2=\"490.0\" y2=\"329.0\"/><rect class=\"gaterect\" x=\"476\" y=\"329.0\" width=\"28\" height=\"26\"/><text dominant-baseline=\"central\" text-anchor=\"middle\" class=\"gatetext\" x=\"490.0\" y=\"342.0\">X</text><line class=\"tickline\" x1=\"511.5\" y1=\"0\" x2=\"511.5\" y2=\"730\"/><rect class=\"gaterect\" x=\"519\" y=\"99.0\" width=\"28\" height=\"26\"/><text dominant-baseline=\"central\" text-anchor=\"middle\" class=\"gatetext\" x=\"533.0\" y=\"112.0\">X</text><rect class=\"gaterect\" x=\"562\" y=\"375.0\" width=\"28\" height=\"26\"/><text dominant-baseline=\"central\" text-anchor=\"middle\" class=\"gatetext\" x=\"576.0\" y=\"388.0\">H</text><rect class=\"gaterect\" x=\"562\" y=\"421.0\" width=\"28\" height=\"26\"/><text dominant-baseline=\"central\" text-anchor=\"middle\" class=\"gatetext\" x=\"576.0\" y=\"434.0\">H</text><rect class=\"gaterect\" x=\"562\" y=\"467.0\" width=\"28\" height=\"26\"/><text dominant-baseline=\"central\" text-anchor=\"middle\" class=\"gatetext\" x=\"576.0\" y=\"480.0\">H</text><rect class=\"gaterect\" x=\"562\" y=\"513.0\" width=\"28\" height=\"26\"/><text dominant-baseline=\"central\" text-anchor=\"middle\" class=\"gatetext\" x=\"576.0\" y=\"526.0\">H</text><rect class=\"gaterect\" x=\"562\" y=\"559.0\" width=\"28\" height=\"26\"/><text dominant-baseline=\"central\" text-anchor=\"middle\" class=\"gatetext\" x=\"576.0\" y=\"572.0\">H</text><rect class=\"gaterect\" x=\"562\" y=\"605.0\" width=\"28\" height=\"26\"/><text dominant-baseline=\"central\" text-anchor=\"middle\" class=\"gatetext\" x=\"576.0\" y=\"618.0\">H</text><rect class=\"gaterect\" x=\"562\" y=\"651.0\" width=\"28\" height=\"26\"/><text dominant-baseline=\"central\" text-anchor=\"middle\" class=\"gatetext\" x=\"576.0\" y=\"664.0\">H</text><rect class=\"gaterect\" x=\"562\" y=\"697.0\" width=\"28\" height=\"26\"/><text dominant-baseline=\"central\" text-anchor=\"middle\" class=\"gatetext\" x=\"576.0\" y=\"710.0\">H</text><circle class=\"control1\" cx=\"619.0\" cy=\"388\" r=\"3\"/><line class=\"controlline\" x1=\"619.0\" y1=\"391\" x2=\"619.0\" y2=\"7.0\"/><rect class=\"gaterect\" x=\"605\" y=\"7.0\" width=\"28\" height=\"26\"/><text dominant-baseline=\"central\" text-anchor=\"middle\" class=\"gatetext\" x=\"619.0\" y=\"20.0\">X</text><circle class=\"control1\" cx=\"662.0\" cy=\"388\" r=\"3\"/><line class=\"controlline\" x1=\"662.0\" y1=\"391\" x2=\"662.0\" y2=\"191.0\"/><rect class=\"gaterect\" x=\"648\" y=\"191.0\" width=\"28\" height=\"26\"/><text dominant-baseline=\"central\" text-anchor=\"middle\" class=\"gatetext\" x=\"662.0\" y=\"204.0\">X</text><circle class=\"control1\" cx=\"705.0\" cy=\"434\" r=\"3\"/><line class=\"controlline\" x1=\"705.0\" y1=\"437\" x2=\"705.0\" y2=\"53.0\"/><rect class=\"gaterect\" x=\"691\" y=\"53.0\" width=\"28\" height=\"26\"/><text dominant-baseline=\"central\" text-anchor=\"middle\" class=\"gatetext\" x=\"705.0\" y=\"66.0\">X</text><circle class=\"control1\" cx=\"748.0\" cy=\"434\" r=\"3\"/><line class=\"controlline\" x1=\"748.0\" y1=\"437\" x2=\"748.0\" y2=\"237.0\"/><rect class=\"gaterect\" x=\"734\" y=\"237.0\" width=\"28\" height=\"26\"/><text dominant-baseline=\"central\" text-anchor=\"middle\" class=\"gatetext\" x=\"748.0\" y=\"250.0\">X</text><circle class=\"control1\" cx=\"791.0\" cy=\"480\" r=\"3\"/><line class=\"controlline\" x1=\"791.0\" y1=\"483\" x2=\"791.0\" y2=\"99.0\"/><rect class=\"gaterect\" x=\"777\" y=\"99.0\" width=\"28\" height=\"26\"/><text dominant-baseline=\"central\" text-anchor=\"middle\" class=\"gatetext\" x=\"791.0\" y=\"112.0\">X</text><circle class=\"control1\" cx=\"834.0\" cy=\"480\" r=\"3\"/><line class=\"controlline\" x1=\"834.0\" y1=\"483\" x2=\"834.0\" y2=\"283.0\"/><rect class=\"gaterect\" x=\"820\" y=\"283.0\" width=\"28\" height=\"26\"/><text dominant-baseline=\"central\" text-anchor=\"middle\" class=\"gatetext\" x=\"834.0\" y=\"296.0\">X</text><circle class=\"control1\" cx=\"877.0\" cy=\"526\" r=\"3\"/><line class=\"controlline\" x1=\"877.0\" y1=\"529\" x2=\"877.0\" y2=\"145.0\"/><rect class=\"gaterect\" x=\"863\" y=\"145.0\" width=\"28\" height=\"26\"/><text dominant-baseline=\"central\" text-anchor=\"middle\" class=\"gatetext\" x=\"877.0\" y=\"158.0\">X</text><circle class=\"control1\" cx=\"920.0\" cy=\"526\" r=\"3\"/><line class=\"controlline\" x1=\"920.0\" y1=\"529\" x2=\"920.0\" y2=\"329.0\"/><rect class=\"gaterect\" x=\"906\" y=\"329.0\" width=\"28\" height=\"26\"/><text dominant-baseline=\"central\" text-anchor=\"middle\" class=\"gatetext\" x=\"920.0\" y=\"342.0\">X</text><circle class=\"control1\" cx=\"963.0\" cy=\"572\" r=\"3\"/><line class=\"controlline\" x1=\"963.0\" y1=\"575\" x2=\"963.0\" y2=\"7.0\"/><rect class=\"gaterect\" x=\"949\" y=\"7.0\" width=\"28\" height=\"26\"/><text dominant-baseline=\"central\" text-anchor=\"middle\" class=\"gatetext\" x=\"963.0\" y=\"20.0\">Z</text><circle class=\"control1\" cx=\"1006.0\" cy=\"572\" r=\"3\"/><line class=\"controlline\" x1=\"1006.0\" y1=\"575\" x2=\"1006.0\" y2=\"191.0\"/><rect class=\"gaterect\" x=\"992\" y=\"191.0\" width=\"28\" height=\"26\"/><text dominant-baseline=\"central\" text-anchor=\"middle\" class=\"gatetext\" x=\"1006.0\" y=\"204.0\">Z</text><circle class=\"control1\" cx=\"1049.0\" cy=\"618\" r=\"3\"/><line class=\"controlline\" x1=\"1049.0\" y1=\"621\" x2=\"1049.0\" y2=\"53.0\"/><rect class=\"gaterect\" x=\"1035\" y=\"53.0\" width=\"28\" height=\"26\"/><text dominant-baseline=\"central\" text-anchor=\"middle\" class=\"gatetext\" x=\"1049.0\" y=\"66.0\">Z</text><circle class=\"control1\" cx=\"1092.0\" cy=\"618\" r=\"3\"/><line class=\"controlline\" x1=\"1092.0\" y1=\"621\" x2=\"1092.0\" y2=\"237.0\"/><rect class=\"gaterect\" x=\"1078\" y=\"237.0\" width=\"28\" height=\"26\"/><text dominant-baseline=\"central\" text-anchor=\"middle\" class=\"gatetext\" x=\"1092.0\" y=\"250.0\">Z</text><circle class=\"control1\" cx=\"1135.0\" cy=\"664\" r=\"3\"/><line class=\"controlline\" x1=\"1135.0\" y1=\"667\" x2=\"1135.0\" y2=\"99.0\"/><rect class=\"gaterect\" x=\"1121\" y=\"99.0\" width=\"28\" height=\"26\"/><text dominant-baseline=\"central\" text-anchor=\"middle\" class=\"gatetext\" x=\"1135.0\" y=\"112.0\">Z</text><circle class=\"control1\" cx=\"1178.0\" cy=\"664\" r=\"3\"/><line class=\"controlline\" x1=\"1178.0\" y1=\"667\" x2=\"1178.0\" y2=\"283.0\"/><rect class=\"gaterect\" x=\"1164\" y=\"283.0\" width=\"28\" height=\"26\"/><text dominant-baseline=\"central\" text-anchor=\"middle\" class=\"gatetext\" x=\"1178.0\" y=\"296.0\">Z</text><circle class=\"control1\" cx=\"1221.0\" cy=\"710\" r=\"3\"/><line class=\"controlline\" x1=\"1221.0\" y1=\"713\" x2=\"1221.0\" y2=\"145.0\"/><rect class=\"gaterect\" x=\"1207\" y=\"145.0\" width=\"28\" height=\"26\"/><text dominant-baseline=\"central\" text-anchor=\"middle\" class=\"gatetext\" x=\"1221.0\" y=\"158.0\">Z</text><circle class=\"control1\" cx=\"1264.0\" cy=\"710\" r=\"3\"/><line class=\"controlline\" x1=\"1264.0\" y1=\"713\" x2=\"1264.0\" y2=\"329.0\"/><rect class=\"gaterect\" x=\"1250\" y=\"329.0\" width=\"28\" height=\"26\"/><text dominant-baseline=\"central\" text-anchor=\"middle\" class=\"gatetext\" x=\"1264.0\" y=\"342.0\">Z</text><rect class=\"gaterect\" x=\"1293\" y=\"375.0\" width=\"28\" height=\"26\"/><text dominant-baseline=\"central\" text-anchor=\"middle\" class=\"gatetext\" x=\"1307.0\" y=\"388.0\">H</text><rect class=\"gaterect\" x=\"1293\" y=\"421.0\" width=\"28\" height=\"26\"/><text dominant-baseline=\"central\" text-anchor=\"middle\" class=\"gatetext\" x=\"1307.0\" y=\"434.0\">H</text><rect class=\"gaterect\" x=\"1293\" y=\"467.0\" width=\"28\" height=\"26\"/><text dominant-baseline=\"central\" text-anchor=\"middle\" class=\"gatetext\" x=\"1307.0\" y=\"480.0\">H</text><rect class=\"gaterect\" x=\"1293\" y=\"513.0\" width=\"28\" height=\"26\"/><text dominant-baseline=\"central\" text-anchor=\"middle\" class=\"gatetext\" x=\"1307.0\" y=\"526.0\">H</text><rect class=\"gaterect\" x=\"1293\" y=\"559.0\" width=\"28\" height=\"26\"/><text dominant-baseline=\"central\" text-anchor=\"middle\" class=\"gatetext\" x=\"1307.0\" y=\"572.0\">H</text><rect class=\"gaterect\" x=\"1293\" y=\"605.0\" width=\"28\" height=\"26\"/><text dominant-baseline=\"central\" text-anchor=\"middle\" class=\"gatetext\" x=\"1307.0\" y=\"618.0\">H</text><rect class=\"gaterect\" x=\"1293\" y=\"651.0\" width=\"28\" height=\"26\"/><text dominant-baseline=\"central\" text-anchor=\"middle\" class=\"gatetext\" x=\"1307.0\" y=\"664.0\">H</text><rect class=\"gaterect\" x=\"1293\" y=\"697.0\" width=\"28\" height=\"26\"/><text dominant-baseline=\"central\" text-anchor=\"middle\" class=\"gatetext\" x=\"1307.0\" y=\"710.0\">H</text><rect class=\"gaterect\" x=\"1336\" y=\"375.0\" width=\"46\" height=\"26\"/><text dominant-baseline=\"central\" text-anchor=\"middle\" class=\"gatetext\" x=\"1359.0\" y=\"388.0\">MR</text><rect class=\"gaterect\" x=\"1336\" y=\"421.0\" width=\"46\" height=\"26\"/><text dominant-baseline=\"central\" text-anchor=\"middle\" class=\"gatetext\" x=\"1359.0\" y=\"434.0\">MR</text><rect class=\"gaterect\" x=\"1336\" y=\"467.0\" width=\"46\" height=\"26\"/><text dominant-baseline=\"central\" text-anchor=\"middle\" class=\"gatetext\" x=\"1359.0\" y=\"480.0\">MR</text><rect class=\"gaterect\" x=\"1336\" y=\"513.0\" width=\"46\" height=\"26\"/><text dominant-baseline=\"central\" text-anchor=\"middle\" class=\"gatetext\" x=\"1359.0\" y=\"526.0\">MR</text><rect class=\"gaterect\" x=\"1336\" y=\"559.0\" width=\"46\" height=\"26\"/><text dominant-baseline=\"central\" text-anchor=\"middle\" class=\"gatetext\" x=\"1359.0\" y=\"572.0\">MR</text><rect class=\"gaterect\" x=\"1336\" y=\"605.0\" width=\"46\" height=\"26\"/><text dominant-baseline=\"central\" text-anchor=\"middle\" class=\"gatetext\" x=\"1359.0\" y=\"618.0\">MR</text><rect class=\"gaterect\" x=\"1336\" y=\"651.0\" width=\"46\" height=\"26\"/><text dominant-baseline=\"central\" text-anchor=\"middle\" class=\"gatetext\" x=\"1359.0\" y=\"664.0\">MR</text><rect class=\"gaterect\" x=\"1336\" y=\"697.0\" width=\"46\" height=\"26\"/><text dominant-baseline=\"central\" text-anchor=\"middle\" class=\"gatetext\" x=\"1359.0\" y=\"710.0\">MR</text></svg>"
      ],
      "text/plain": [
       "<IPython.core.display.SVG object>"
      ]
     },
     "metadata": {},
     "output_type": "display_data"
    }
   ],
   "source": [
    "circ = cd.construct_encoding_circuit('non_ft')\n",
    "circ.append('TICK')\n",
    "\n",
    "# Step 2\n",
    "#circ.append('Z', 2)\n",
    "circ.append('X', 2)\n",
    "\n",
    "# Step 3\n",
    "cd.construct_syndrome_circuit();\n",
    "circ += cd.syndrome_circuit\n",
    "\n",
    "circ.draw()\n"
   ]
  },
  {
   "cell_type": "code",
   "execution_count": 71,
   "id": "cd7e15de",
   "metadata": {},
   "outputs": [],
   "source": [
    "circ = QuantumCircuit.from_qasm_str(circ.qasm())"
   ]
  },
  {
   "cell_type": "code",
   "execution_count": null,
   "id": "4cc35633",
   "metadata": {},
   "outputs": [],
   "source": []
  },
  {
   "cell_type": "code",
   "execution_count": 72,
   "id": "324eb215",
   "metadata": {
    "id": "324eb215"
   },
   "outputs": [],
   "source": [
    "from qiskit_aer.noise import NoiseModel, depolarizing_error\n",
    "from qiskit.quantum_info import SparsePauliOp\n",
    "from qiskit.transpiler.preset_passmanagers import generate_preset_pass_manager\n",
    "from qiskit_aer import AerSimulator, Aer\n",
    "from qiskit_aer.primitives import EstimatorV2\n",
    "from qiskit import transpile"
   ]
  },
  {
   "cell_type": "code",
   "execution_count": 73,
   "id": "f0e95848",
   "metadata": {},
   "outputs": [],
   "source": [
    "def add_random_x_gate(circuit, p, n):\n",
    "    \"\"\"\n",
    "    Randomly applies an X gate to each qubit in the quantum circuit with probability p.\n",
    "    \n",
    "    Parameters:\n",
    "    - circuit (QuantumCircuit): The quantum circuit to modify.\n",
    "    - p (float): The probability of applying an X gate to each qubit.\n",
    "    \"\"\"\n",
    "    num_qubits = n\n",
    "    log = []\n",
    "    # For each qubit in the circuit, apply an X gate with probability p\n",
    "    for qubit in range(num_qubits):\n",
    "        if np.random.random() < p:  # With probability p, apply the X gate\n",
    "            circuit.x(qubit)  # Apply X gate to the qubit\n",
    "            log.append(qubit)\n",
    "    return log\n",
    "            \n",
    "def add_random_z_gate(circuit, p, n):\n",
    "    \"\"\"\n",
    "    Randomly applies an Z gate to each qubit in the quantum circuit with probability p.\n",
    "    \n",
    "    Parameters:\n",
    "    - circuit (QuantumCircuit): The quantum circuit to modify.\n",
    "    - p (float): The probability of applying an z gate to each qubit.\n",
    "    \"\"\"\n",
    "    num_qubits = n\n",
    "    log = []\n",
    "    # For each qubit in the circuit, apply a z gate with probability p\n",
    "    for qubit in range(num_qubits):\n",
    "        if np.random.random() < p:  # With probability p, apply the z gate\n",
    "            circuit.z(qubit)  # Apply z gate to the qubit\n",
    "            log.append(qubit)\n",
    "        \n",
    "    return log\n",
    "\n",
    "# Helper functions to parameterize above in terms of only qc.\n",
    "def add_x(p, n):\n",
    "    return lambda qc: add_random_x_gate(qc, p, n)\n",
    "\n",
    "def add_z(p, n):\n",
    "    return lambda qc: add_random_z_gate(qc, p, n)"
   ]
  },
  {
   "cell_type": "code",
   "execution_count": 74,
   "id": "43e7decb",
   "metadata": {
    "id": "43e7decb",
    "outputId": "cb1f14c2-1088-4506-9c35-dfe9fa5a0efe"
   },
   "outputs": [
    {
     "name": "stdout",
     "output_type": "stream",
     "text": [
      "Measurement results:\n",
      "{'0100000000000000': 1024}\n"
     ]
    }
   ],
   "source": [
    "# Transpile the circuit for the qasm simulator\n",
    "\n",
    "qc = circ\n",
    "\n",
    "simulator = Aer.get_backend('qasm_simulator')\n",
    "transpiled_circuit = transpile(qc, backend=simulator)\n",
    "\n",
    "# Simulate the circuit\n",
    "job = simulator.run(transpiled_circuit, shots=1024)\n",
    "result = job.result()\n",
    "counts = result.get_counts()\n",
    "\n",
    "# Display the measurement results\n",
    "print(\"Measurement results:\")\n",
    "print(counts)\n",
    "\n",
    "# # Calculate expectation values of stabilizers\n",
    "# stabilizers = get_stabilizers(Hx, 'X') + get_stabilizers(Hz, 'Z')\n",
    "\n",
    "\n",
    "# print(\"\\nStabilizer operators:\")\n",
    "# print(stabilizers)\n",
    "\n",
    "# # Expectation value calculation\n",
    "# expectation_values = {}\n",
    "# for stabilizer in stabilizers:\n",
    "#     pauli_op = SparsePauliOp.from_list([(stabilizer, 1)])\n",
    "#     exp_val = result.get_counts(qc)\n",
    "#     expectation_values[stabilizer] = exp_val\n",
    "\n",
    "# print(\"\\nExpectation values:\")\n",
    "# for stabilizer, value in expectation_values.items():\n",
    "#     print(f\"{stabilizer}: {value}\")"
   ]
  },
  {
   "cell_type": "code",
   "execution_count": null,
   "id": "8a1e0518",
   "metadata": {},
   "outputs": [],
   "source": []
  },
  {
   "cell_type": "code",
   "execution_count": null,
   "id": "735149f7",
   "metadata": {},
   "outputs": [],
   "source": []
  },
  {
   "cell_type": "code",
   "execution_count": null,
   "id": "d7131149",
   "metadata": {},
   "outputs": [],
   "source": []
  },
  {
   "cell_type": "code",
   "execution_count": null,
   "id": "e7c615f6",
   "metadata": {},
   "outputs": [],
   "source": []
  },
  {
   "cell_type": "code",
   "execution_count": null,
   "id": "2432e002",
   "metadata": {},
   "outputs": [],
   "source": []
  },
  {
   "cell_type": "code",
   "execution_count": null,
   "id": "03a3ab2d",
   "metadata": {},
   "outputs": [],
   "source": []
  },
  {
   "cell_type": "code",
   "execution_count": null,
   "id": "c32a6302",
   "metadata": {},
   "outputs": [],
   "source": []
  },
  {
   "cell_type": "code",
   "execution_count": null,
   "id": "da0c9d87",
   "metadata": {},
   "outputs": [],
   "source": []
  },
  {
   "cell_type": "code",
   "execution_count": 102,
   "id": "47dae235",
   "metadata": {
    "id": "47dae235",
    "outputId": "15a610b1-7f51-4fb0-d69a-431f917d6d04"
   },
   "outputs": [
    {
     "name": "stdout",
     "output_type": "stream",
     "text": [
      "\n",
      "Stabilizer Expectation Values:\n",
      "XXXXII: -1.0\n",
      "XXIIXX: -1.0\n",
      "XIXIXI: -1.0\n",
      "ZZZZII: -1.0\n",
      "ZZIIZZ: -1.0\n",
      "ZIZIZI: -1.0\n"
     ]
    }
   ],
   "source": [
    "# Adjust stabilizers to match the number of measured qubits\n",
    "num_measured_qubits = len(Hx) + len(Hz)  # Number of stabilizer measurements\n",
    "aligned_stabilizers = [stabilizer[:num_measured_qubits] for stabilizer in stabilizers]\n",
    "\n",
    "def compute_stabilizer_expectation(counts, stabilizer):\n",
    "    expectation = 0\n",
    "    total_shots = sum(counts.values())\n",
    "\n",
    "    for bitstring, count in counts.items():\n",
    "        parity = 1\n",
    "        for i, char in enumerate(stabilizer[::-1]): #account for little endian-ness!\n",
    "            if char == 'X':\n",
    "                parity *= (-1) ** int(bitstring[i])\n",
    "            if char == 'Z':\n",
    "                parity *= (-1) ** int(bitstring[i])  # Flip sign based on bit value\n",
    "        expectation += parity * count\n",
    "\n",
    "    return expectation / total_shots\n",
    "\n",
    "# Compute expectation values for aligned stabilizers\n",
    "print(\"\\nStabilizer Expectation Values:\")\n",
    "for stabilizer in aligned_stabilizers:\n",
    "    expectation = compute_stabilizer_expectation(counts, stabilizer)\n",
    "    print(f\"{stabilizer}: {expectation}\")\n",
    "\n",
    "\n"
   ]
  },
  {
   "cell_type": "code",
   "execution_count": 225,
   "id": "0f4a0426",
   "metadata": {
    "id": "0f4a0426",
    "outputId": "75779a1b-c288-4bbb-d037-b70ca317f129"
   },
   "outputs": [
    {
     "name": "stdout",
     "output_type": "stream",
     "text": [
      "Noisy simulation counts:\n",
      "{'00000100': 845, '00000101': 14, '00000000': 32, '00001100': 51, '00000110': 35, '00000111': 15, '00001001': 1, '00001101': 9, '00000010': 10, '00001110': 2, '00001000': 9, '00000001': 1}\n"
     ]
    }
   ],
   "source": [
    "###ok, let's try for noisy simulation\n",
    "# i removed params and replcaed it with None in pub\n",
    "\n",
    "from qiskit.quantum_info import SparsePauliOp\n",
    "from qiskit.transpiler.preset_passmanagers import generate_preset_pass_manager\n",
    "from qiskit_aer import AerSimulator\n",
    "from qiskit_aer.primitives import SamplerV2 as Sampler\n",
    "from qiskit_aer.noise import NoiseModel, depolarizing_error\n",
    "from qiskit import transpile\n",
    "\n",
    "# Define the noise model\n",
    "num_shots = 1024\n",
    "noise_model = NoiseModel()\n",
    "cx_depolarizing_prob = 0.02\n",
    "\n",
    "noise_model.add_all_qubit_quantum_error(\n",
    "    depolarizing_error(cx_depolarizing_prob, 2), [\"cx\"]\n",
    ")\n",
    "\n",
    "# Define the sampler with the noise model\n",
    "noisy_sampler = Sampler(\n",
    "    options=dict(backend_options=dict(noise_model=noise_model))\n",
    ")\n",
    "\n",
    "\n",
    "# Transpile the circuit for the AerSimulator\n",
    "simulator = AerSimulator()\n",
    "pass_manager = generate_preset_pass_manager(3, simulator)\n",
    "isa_circuit = pass_manager.run(qc)\n",
    "\n",
    "# Submit the job to the noisy sampler\n",
    "pub = (isa_circuit, None, num_shots)  # No params required\n",
    "job = noisy_sampler.run([pub])\n",
    "\n",
    "# Retrieve and display results\n",
    "result = job.result()\n",
    "pub_result = result[0]\n",
    "\n",
    "# Retrieve and print counts\n",
    "counts = pub_result.data.c.get_counts()\n",
    "print(\"Noisy simulation counts:\")\n",
    "print(counts)\n"
   ]
  },
  {
   "cell_type": "code",
   "execution_count": 226,
   "id": "d6fd48ba",
   "metadata": {},
   "outputs": [],
   "source": [
    "from qiskit_aer.noise import NoiseModel, depolarizing_error, pauli_error, amplitude_damping_error\n",
    "\n",
    "def create_noise_model(noise_type=\"depolarizing\", prob=0.01):\n",
    "    # Create different noise models.\n",
    "    noise_model = NoiseModel()\n",
    "\n",
    "    if noise_type == \"depolarizing\":\n",
    "        noise_model.add_all_qubit_quantum_error(depolarizing_error(prob, 1), [\"u1\", \"u2\", \"u3\"])\n",
    "        noise_model.add_all_qubit_quantum_error(depolarizing_error(prob, 2), [\"cx\"])\n",
    "    elif noise_type == \"bit_flip\":\n",
    "        noise_model.add_all_qubit_quantum_error(pauli_error([(\"X\", prob), (\"I\", 1 - prob)]), [\"u1\", \"u2\", \"u3\"])\n",
    "    elif noise_type == \"amplitude_damping\":\n",
    "        noise_model.add_all_qubit_quantum_error(amplitude_damping_error(prob), [\"u1\", \"u2\", \"u3\"])\n",
    "    else:\n",
    "        raise ValueError(\"Unsupported noise type. Choose from 'depolarizing', 'bit_flip', or 'amplitude_damping'.\")\n",
    "\n",
    "    return noise_model\n",
    "\n",
    "def simulate_noisy_circuit(qc, noise_model, shots=1024):\n",
    "    # Simulate qc with different noise models\n",
    "    simulator = AerSimulator()\n",
    "    transpiled_circuit = transpile(qc, backend=simulator)\n",
    "    simulator.set_options(noise_model=noise_model)\n",
    "    job = simulator.run(transpiled_circuit, shots=shots)\n",
    "    result = job.result()\n",
    "    return result.get_counts()\n",
    "\n",
    "\n",
    "def create_noise_model(noise_type=\"depolarizing\", prob=0.01):\n",
    "    # Create different noise models\n",
    "    noise_model = NoiseModel()\n",
    "\n",
    "    if noise_type == \"depolarizing\":\n",
    "        noise_model.add_all_qubit_quantum_error(depolarizing_error(prob, 1), [\"u1\", \"u2\", \"u3\"])\n",
    "        noise_model.add_all_qubit_quantum_error(depolarizing_error(prob, 2), [\"cx\"])\n",
    "    elif noise_type == \"bit_flip\":\n",
    "        noise_model.add_all_qubit_quantum_error(pauli_error([(\"X\", prob), (\"I\", 1 - prob)]), [\"u1\", \"u2\", \"u3\"])\n",
    "    elif noise_type == \"amplitude_damping\":\n",
    "        noise_model.add_all_qubit_quantum_error(amplitude_damping_error(prob), [\"u1\", \"u2\", \"u3\"])\n",
    "    else:\n",
    "        raise ValueError(\"Unsupported noise type. Choose from 'depolarizing', 'bit_flip', or 'amplitude_damping'.\")\n",
    "\n",
    "    return noise_model"
   ]
  },
  {
   "cell_type": "code",
   "execution_count": 265,
   "id": "4dd98fbc",
   "metadata": {},
   "outputs": [
    {
     "data": {
      "text/latex": [
       "$\\displaystyle                 \\left(\\begin{array}{cccccccc|cccccccc}\n",
       "                       0 & 0 & 1 & 1 & 0 & 1 & 1 & 0 & 0 & 0 & 1 & 1 & 0 & 1 & 1 & 0 \\\\\n",
       "1 & 0 & 0 & 1 & 0 & 0 & 1 & 1 & 1 & 0 & 0 & 1 & 0 & 0 & 1 & 1 \\\\\n",
       "1 & 1 & 0 & 0 & 1 & 0 & 0 & 1 & 1 & 1 & 0 & 0 & 1 & 0 & 0 & 1 \\\\\n",
       "0 & 1 & 1 & 0 & 1 & 1 & 0 & 0 & 0 & 1 & 1 & 0 & 1 & 1 & 0 & 0 \\\\\n",
       "\n",
       "                       \\end{array}\\right)                    $"
      ],
      "text/plain": [
       "<IPython.core.display.Math object>"
      ]
     },
     "metadata": {},
     "output_type": "display_data"
    },
    {
     "name": "stdout",
     "output_type": "stream",
     "text": [
      "Logical X = [[0 0 0 0 1 0 0 0 0 1 0 0 0 0 0 0]\n",
      " [0 0 0 0 0 1 0 0 0 0 1 0 0 0 0 0]\n",
      " [0 0 0 0 0 0 1 0 1 1 1 0 0 0 0 0]\n",
      " [0 0 0 0 0 0 0 1 1 0 0 0 0 0 0 0]]\n",
      "Logical Z = [[0 0 0 0 0 0 0 0 0 1 0 0 1 0 0 0]\n",
      " [0 0 0 0 0 0 0 0 0 0 1 0 0 1 0 0]\n",
      " [0 0 0 0 0 0 0 0 1 1 1 0 0 0 1 0]\n",
      " [0 0 0 0 0 0 0 0 1 0 0 0 0 0 0 1]]\n"
     ]
    }
   ],
   "source": [
    "import stac\n",
    "\n",
    "cd = stac.Code(Hx.astype(int), Hz.astype(int))\n",
    "stac.print_matrix(cd.generator_matrix, augmented=True)\n",
    "cd.construct_logical_operators()\n",
    "print(\"Logical X =\", cd.logical_xs)\n",
    "print(\"Logical Z =\", cd.logical_zs)\n",
    "enc_circ = cd.construct_encoding_circuit()\n",
    "qasmqc = QuantumCircuit.from_qasm_str(enc_circ.qasm())"
   ]
  },
  {
   "cell_type": "code",
   "execution_count": 229,
   "id": "be3ec50f",
   "metadata": {},
   "outputs": [
    {
     "data": {
      "text/latex": [
       "$\\displaystyle                 \\left(\\begin{array}{cccccccc|cccccccc}\n",
       "                       1 & 0 & 0 & 1 & 0 & 0 & 1 & 1 & 1 & 0 & 0 & 1 & 0 & 0 & 1 & 1 \\\\\n",
       "0 & 1 & 0 & 1 & 1 & 0 & 1 & 0 & 0 & 1 & 0 & 1 & 1 & 0 & 1 & 0 \\\\\n",
       "0 & 0 & 1 & 1 & 0 & 1 & 1 & 0 & 0 & 0 & 1 & 1 & 0 & 1 & 1 & 0 \\\\\n",
       "0 & 0 & 0 & 0 & 0 & 0 & 0 & 0 & 0 & 0 & 0 & 0 & 0 & 0 & 0 & 0 \\\\\n",
       "\n",
       "                       \\end{array}\\right)                    $"
      ],
      "text/plain": [
       "<IPython.core.display.Math object>"
      ]
     },
     "metadata": {},
     "output_type": "display_data"
    },
    {
     "name": "stdout",
     "output_type": "stream",
     "text": [
      "Logical X = [[0 0 0 0 1 0 0 0 0 1 0 0 0 0 0 0]\n",
      " [0 0 0 0 0 1 0 0 0 0 1 0 0 0 0 0]\n",
      " [0 0 0 0 0 0 1 0 1 1 1 0 0 0 0 0]\n",
      " [0 0 0 0 0 0 0 1 1 0 0 0 0 0 0 0]]\n",
      "Logical Z = [[0 0 0 0 0 0 0 0 0 1 0 0 1 0 0 0]\n",
      " [0 0 0 0 0 0 0 0 0 0 1 0 0 1 0 0]\n",
      " [0 0 0 0 0 0 0 0 1 1 1 0 0 0 1 0]\n",
      " [0 0 0 0 0 0 0 0 1 0 0 0 0 0 0 1]]\n"
     ]
    }
   ],
   "source": [
    "cd.construct_standard_form()\n",
    "stac.print_matrix(cd.standard_generator_matrix, augmented=True)\n",
    "\n",
    "print(\"Logical X =\", cd.logical_xs)\n",
    "print(\"Logical Z =\", cd.logical_zs)\n"
   ]
  },
  {
   "cell_type": "code",
   "execution_count": 251,
   "id": "3eb9c1ab",
   "metadata": {},
   "outputs": [],
   "source": [
    "enc_circ = cd.construct_encoding_circuit()"
   ]
  },
  {
   "cell_type": "code",
   "execution_count": 252,
   "id": "9f1c25ef",
   "metadata": {},
   "outputs": [
    {
     "data": {
      "image/svg+xml": [
       "<svg xmlns=\"http://www.w3.org/2000/svg\" viewBox=\"0 0 1022 368\" width=\"1022\"><style>\n",
       "            .backgroundrect {fill: white;}\n",
       "            .labeltext { font-family: Bitstream Vera Sans Mono;\n",
       "                        font-size: 12px; font-weight: 400; fill: black;}\n",
       "            .qubitline { stroke: black; stroke-width: 2; }\n",
       "            .gatetext { font-family: Latin Modern Math, Cambria Math;\n",
       "                        font-size: 20px; font-weight: 400; fill: black;}\n",
       "            .gaterect { fill: white; stroke: black; stroke-width: 2 }\n",
       "            .control1 { fill: black; stroke: black; stroke-width: 1 }\n",
       "            .controlline { stroke: black; stroke-width: 2}\n",
       "            .tickline { stroke: black; stroke-width: 0.75; stroke-dasharray: 6,3}\n",
       "            .tp_highlight1 { fill: red; opacity: 0.2;}\n",
       "            .tp_highlight2 { fill: blue; opacity: 0.2;}</style><rect class=\"backgroundrect\" x=\"0\" y=\"0\" width=\"1022\" height=\"368\"/><line class=\"qubitline\" x1=\"104\" y1=\"20\" x2=\"1022\" y2=\"20\"/><line class=\"qubitline\" x1=\"104\" y1=\"66\" x2=\"1022\" y2=\"66\"/><line class=\"qubitline\" x1=\"104\" y1=\"112\" x2=\"1022\" y2=\"112\"/><line class=\"qubitline\" x1=\"104\" y1=\"158\" x2=\"1022\" y2=\"158\"/><line class=\"qubitline\" x1=\"104\" y1=\"204\" x2=\"1022\" y2=\"204\"/><line class=\"qubitline\" x1=\"104\" y1=\"250\" x2=\"1022\" y2=\"250\"/><line class=\"qubitline\" x1=\"104\" y1=\"296\" x2=\"1022\" y2=\"296\"/><line class=\"qubitline\" x1=\"104\" y1=\"342\" x2=\"1022\" y2=\"342\"/><text dominant-baseline=\"central\" class=\"labeltext\" x=\"0\" y=\"20\">(0, 0, 0) : 0</text><text dominant-baseline=\"central\" class=\"labeltext\" x=\"0\" y=\"66\">(0, 0, 1) : 1</text><text dominant-baseline=\"central\" class=\"labeltext\" x=\"0\" y=\"112\">(0, 0, 2) : 2</text><text dominant-baseline=\"central\" class=\"labeltext\" x=\"0\" y=\"158\">(0, 0, 3) : 3</text><text dominant-baseline=\"central\" class=\"labeltext\" x=\"0\" y=\"204\">(0, 0, 4) : 4</text><text dominant-baseline=\"central\" class=\"labeltext\" x=\"0\" y=\"250\">(0, 0, 5) : 5</text><text dominant-baseline=\"central\" class=\"labeltext\" x=\"0\" y=\"296\">(0, 0, 6) : 6</text><text dominant-baseline=\"central\" class=\"labeltext\" x=\"0\" y=\"342\">(0, 0, 7) : 7</text><rect class=\"gaterect\" x=\"119\" y=\"7.0\" width=\"28\" height=\"26\"/><text dominant-baseline=\"central\" text-anchor=\"middle\" class=\"gatetext\" x=\"133.0\" y=\"20.0\">H</text><circle class=\"control1\" cx=\"176.0\" cy=\"20\" r=\"3\"/><line class=\"controlline\" x1=\"176.0\" y1=\"23\" x2=\"176.0\" y2=\"145.0\"/><rect class=\"gaterect\" x=\"162\" y=\"145.0\" width=\"28\" height=\"26\"/><text dominant-baseline=\"central\" text-anchor=\"middle\" class=\"gatetext\" x=\"176.0\" y=\"158.0\">X</text><circle class=\"control1\" cx=\"219.0\" cy=\"20\" r=\"3\"/><line class=\"controlline\" x1=\"219.0\" y1=\"23\" x2=\"219.0\" y2=\"145.0\"/><rect class=\"gaterect\" x=\"205\" y=\"145.0\" width=\"28\" height=\"26\"/><text dominant-baseline=\"central\" text-anchor=\"middle\" class=\"gatetext\" x=\"219.0\" y=\"158.0\">Z</text><circle class=\"control1\" cx=\"262.0\" cy=\"20\" r=\"3\"/><line class=\"controlline\" x1=\"262.0\" y1=\"23\" x2=\"262.0\" y2=\"283.0\"/><rect class=\"gaterect\" x=\"248\" y=\"283.0\" width=\"28\" height=\"26\"/><text dominant-baseline=\"central\" text-anchor=\"middle\" class=\"gatetext\" x=\"262.0\" y=\"296.0\">X</text><circle class=\"control1\" cx=\"305.0\" cy=\"20\" r=\"3\"/><line class=\"controlline\" x1=\"305.0\" y1=\"23\" x2=\"305.0\" y2=\"283.0\"/><rect class=\"gaterect\" x=\"291\" y=\"283.0\" width=\"28\" height=\"26\"/><text dominant-baseline=\"central\" text-anchor=\"middle\" class=\"gatetext\" x=\"305.0\" y=\"296.0\">Z</text><circle class=\"control1\" cx=\"348.0\" cy=\"20\" r=\"3\"/><line class=\"controlline\" x1=\"348.0\" y1=\"23\" x2=\"348.0\" y2=\"329.0\"/><rect class=\"gaterect\" x=\"334\" y=\"329.0\" width=\"28\" height=\"26\"/><text dominant-baseline=\"central\" text-anchor=\"middle\" class=\"gatetext\" x=\"348.0\" y=\"342.0\">X</text><circle class=\"control1\" cx=\"391.0\" cy=\"20\" r=\"3\"/><line class=\"controlline\" x1=\"391.0\" y1=\"23\" x2=\"391.0\" y2=\"329.0\"/><rect class=\"gaterect\" x=\"377\" y=\"329.0\" width=\"28\" height=\"26\"/><text dominant-baseline=\"central\" text-anchor=\"middle\" class=\"gatetext\" x=\"391.0\" y=\"342.0\">Z</text><rect class=\"gaterect\" x=\"420\" y=\"53.0\" width=\"28\" height=\"26\"/><text dominant-baseline=\"central\" text-anchor=\"middle\" class=\"gatetext\" x=\"434.0\" y=\"66.0\">H</text><circle class=\"control1\" cx=\"477.0\" cy=\"66\" r=\"3\"/><line class=\"controlline\" x1=\"477.0\" y1=\"69\" x2=\"477.0\" y2=\"145.0\"/><rect class=\"gaterect\" x=\"463\" y=\"145.0\" width=\"28\" height=\"26\"/><text dominant-baseline=\"central\" text-anchor=\"middle\" class=\"gatetext\" x=\"477.0\" y=\"158.0\">X</text><circle class=\"control1\" cx=\"520.0\" cy=\"66\" r=\"3\"/><line class=\"controlline\" x1=\"520.0\" y1=\"69\" x2=\"520.0\" y2=\"145.0\"/><rect class=\"gaterect\" x=\"506\" y=\"145.0\" width=\"28\" height=\"26\"/><text dominant-baseline=\"central\" text-anchor=\"middle\" class=\"gatetext\" x=\"520.0\" y=\"158.0\">Z</text><circle class=\"control1\" cx=\"563.0\" cy=\"66\" r=\"3\"/><line class=\"controlline\" x1=\"563.0\" y1=\"69\" x2=\"563.0\" y2=\"191.0\"/><rect class=\"gaterect\" x=\"549\" y=\"191.0\" width=\"28\" height=\"26\"/><text dominant-baseline=\"central\" text-anchor=\"middle\" class=\"gatetext\" x=\"563.0\" y=\"204.0\">X</text><circle class=\"control1\" cx=\"606.0\" cy=\"66\" r=\"3\"/><line class=\"controlline\" x1=\"606.0\" y1=\"69\" x2=\"606.0\" y2=\"191.0\"/><rect class=\"gaterect\" x=\"592\" y=\"191.0\" width=\"28\" height=\"26\"/><text dominant-baseline=\"central\" text-anchor=\"middle\" class=\"gatetext\" x=\"606.0\" y=\"204.0\">Z</text><circle class=\"control1\" cx=\"649.0\" cy=\"66\" r=\"3\"/><line class=\"controlline\" x1=\"649.0\" y1=\"69\" x2=\"649.0\" y2=\"283.0\"/><rect class=\"gaterect\" x=\"635\" y=\"283.0\" width=\"28\" height=\"26\"/><text dominant-baseline=\"central\" text-anchor=\"middle\" class=\"gatetext\" x=\"649.0\" y=\"296.0\">X</text><circle class=\"control1\" cx=\"692.0\" cy=\"66\" r=\"3\"/><line class=\"controlline\" x1=\"692.0\" y1=\"69\" x2=\"692.0\" y2=\"283.0\"/><rect class=\"gaterect\" x=\"678\" y=\"283.0\" width=\"28\" height=\"26\"/><text dominant-baseline=\"central\" text-anchor=\"middle\" class=\"gatetext\" x=\"692.0\" y=\"296.0\">Z</text><rect class=\"gaterect\" x=\"721\" y=\"99.0\" width=\"28\" height=\"26\"/><text dominant-baseline=\"central\" text-anchor=\"middle\" class=\"gatetext\" x=\"735.0\" y=\"112.0\">H</text><circle class=\"control1\" cx=\"778.0\" cy=\"112\" r=\"3\"/><line class=\"controlline\" x1=\"778.0\" y1=\"115\" x2=\"778.0\" y2=\"145.0\"/><rect class=\"gaterect\" x=\"764\" y=\"145.0\" width=\"28\" height=\"26\"/><text dominant-baseline=\"central\" text-anchor=\"middle\" class=\"gatetext\" x=\"778.0\" y=\"158.0\">X</text><circle class=\"control1\" cx=\"821.0\" cy=\"112\" r=\"3\"/><line class=\"controlline\" x1=\"821.0\" y1=\"115\" x2=\"821.0\" y2=\"145.0\"/><rect class=\"gaterect\" x=\"807\" y=\"145.0\" width=\"28\" height=\"26\"/><text dominant-baseline=\"central\" text-anchor=\"middle\" class=\"gatetext\" x=\"821.0\" y=\"158.0\">Z</text><circle class=\"control1\" cx=\"864.0\" cy=\"112\" r=\"3\"/><line class=\"controlline\" x1=\"864.0\" y1=\"115\" x2=\"864.0\" y2=\"237.0\"/><rect class=\"gaterect\" x=\"850\" y=\"237.0\" width=\"28\" height=\"26\"/><text dominant-baseline=\"central\" text-anchor=\"middle\" class=\"gatetext\" x=\"864.0\" y=\"250.0\">X</text><circle class=\"control1\" cx=\"907.0\" cy=\"112\" r=\"3\"/><line class=\"controlline\" x1=\"907.0\" y1=\"115\" x2=\"907.0\" y2=\"237.0\"/><rect class=\"gaterect\" x=\"893\" y=\"237.0\" width=\"28\" height=\"26\"/><text dominant-baseline=\"central\" text-anchor=\"middle\" class=\"gatetext\" x=\"907.0\" y=\"250.0\">Z</text><circle class=\"control1\" cx=\"950.0\" cy=\"112\" r=\"3\"/><line class=\"controlline\" x1=\"950.0\" y1=\"115\" x2=\"950.0\" y2=\"283.0\"/><rect class=\"gaterect\" x=\"936\" y=\"283.0\" width=\"28\" height=\"26\"/><text dominant-baseline=\"central\" text-anchor=\"middle\" class=\"gatetext\" x=\"950.0\" y=\"296.0\">X</text><circle class=\"control1\" cx=\"993.0\" cy=\"112\" r=\"3\"/><line class=\"controlline\" x1=\"993.0\" y1=\"115\" x2=\"993.0\" y2=\"283.0\"/><rect class=\"gaterect\" x=\"979\" y=\"283.0\" width=\"28\" height=\"26\"/><text dominant-baseline=\"central\" text-anchor=\"middle\" class=\"gatetext\" x=\"993.0\" y=\"296.0\">Z</text></svg>"
      ],
      "text/plain": [
       "<IPython.core.display.SVG object>"
      ]
     },
     "metadata": {},
     "output_type": "display_data"
    }
   ],
   "source": [
    "enc_circ.draw()"
   ]
  },
  {
   "cell_type": "code",
   "execution_count": 239,
   "id": "afefd73a",
   "metadata": {},
   "outputs": [
    {
     "data": {
      "text/plain": [
       "'OPENQASM 2.0;\\ninclude \"qelib1.inc\";\\n\\nqreg q[8];\\ncreg c[8];\\n\\nh q[0];\\ncx q[0],q[3];\\ncz q[0],q[3];\\ncx q[0],q[6];\\ncz q[0],q[6];\\ncx q[0],q[7];\\ncz q[0],q[7];\\nh q[1];\\ncx q[1],q[3];\\ncz q[1],q[3];\\ncx q[1],q[4];\\ncz q[1],q[4];\\ncx q[1],q[6];\\ncz q[1],q[6];\\nh q[2];\\ncx q[2],q[3];\\ncz q[2],q[3];\\ncx q[2],q[5];\\ncz q[2],q[5];\\ncx q[2],q[6];\\ncz q[2],q[6];\\n'"
      ]
     },
     "execution_count": 239,
     "metadata": {},
     "output_type": "execute_result"
    }
   ],
   "source": [
    "enc_circ.qasm()"
   ]
  },
  {
   "cell_type": "code",
   "execution_count": 240,
   "id": "07bd307e",
   "metadata": {},
   "outputs": [],
   "source": []
  },
  {
   "cell_type": "code",
   "execution_count": 253,
   "id": "e57e2884",
   "metadata": {},
   "outputs": [
    {
     "data": {
      "image/png": "[encoded data removed]",
      "text/plain": [
       "<Figure size 1708.89x785.944 with 1 Axes>"
      ]
     },
     "execution_count": 253,
     "metadata": {},
     "output_type": "execute_result"
    }
   ],
   "source": [
    "qasmqc.draw(output='mpl')"
   ]
  },
  {
   "cell_type": "code",
   "execution_count": 261,
   "id": "05b40270",
   "metadata": {},
   "outputs": [
    {
     "ename": "TypeError",
     "evalue": "unsupported operand type(s) for +: 'QuantumCircuit' and 'QuantumCircuit'",
     "output_type": "error",
     "traceback": [
      "\u001b[0;31m---------------------------------------------------------------------------\u001b[0m",
      "\u001b[0;31mTypeError\u001b[0m                                 Traceback (most recent call last)",
      "Cell \u001b[0;32mIn[261], line 1\u001b[0m\n\u001b[0;32m----> 1\u001b[0m \u001b[43mqasmqc\u001b[49m\u001b[43m \u001b[49m\u001b[38;5;241;43m+\u001b[39;49m\u001b[43m \u001b[49m\u001b[43mqc\u001b[49m\n",
      "\u001b[0;31mTypeError\u001b[0m: unsupported operand type(s) for +: 'QuantumCircuit' and 'QuantumCircuit'"
     ]
    }
   ],
   "source": [
    "qasmqc + qc"
   ]
  },
  {
   "cell_type": "code",
   "execution_count": null,
   "id": "69d3f617",
   "metadata": {},
   "outputs": [],
   "source": [
    "### SCRATCH BELOW ###"
   ]
  },
  {
   "cell_type": "code",
   "execution_count": 118,
   "id": "d3356265",
   "metadata": {},
   "outputs": [],
   "source": [
    "import stim\n",
    "import numpy as np\n",
    "from typing import List\n",
    "\n",
    "\n",
    "def parity_check_matrix_to_stabilizers(matrix: np.ndarray) -> List[stim.PauliString]:\n",
    "    num_rows, num_cols = matrix.shape\n",
    "    assert num_cols % 2 == 0\n",
    "    num_qubits = num_cols // 2\n",
    "\n",
    "    matrix = matrix.astype(np.bool)  # indicate the data isn't bit packed\n",
    "    return [\n",
    "        stim.PauliString.from_numpy(\n",
    "            xs=matrix[row, :num_qubits],\n",
    "            zs=matrix[row, num_qubits:],\n",
    "        )\n",
    "        for row in range(num_rows)\n",
    "    ]\n",
    "\n",
    "def parity_check_matrix_to_encoder(matrix: np.ndarray) -> stim.Circuit:\n",
    "    stabilizers = parity_check_matrix_to_stabilizers(matrix)\n",
    "    tableau = stim.Tableau.from_stabilizers(\n",
    "        stabilizers,\n",
    "        allow_underconstrained=True,\n",
    "        allow_redundant=True\n",
    "    )\n",
    "    return tableau.to_circuit(method='elimination')"
   ]
  },
  {
   "cell_type": "code",
   "execution_count": null,
   "id": "f69c20d4",
   "metadata": {},
   "outputs": [],
   "source": []
  },
  {
   "cell_type": "code",
   "execution_count": 120,
   "id": "dbf58327",
   "metadata": {},
   "outputs": [],
   "source": [
    "H0 = np.concatenate((Hx, Hz),axis=1)\n",
    "circuit_stab = parity_check_matrix_to_encoder(H0)"
   ]
  },
  {
   "cell_type": "code",
   "execution_count": 121,
   "id": "fae8fdf5",
   "metadata": {},
   "outputs": [
    {
     "data": {
      "image/svg+xml": [
       "<svg viewBox=\"0 0 1632 480\"  version=\"1.1\" xmlns=\"http://www.w3.org/2000/svg\">\n",
       "<g id=\"qubit_lines\">\n",
       "<path id=\"qubit_line:0\" d=\"M64,64 L1600,64 \" stroke=\"black\"/>\n",
       "<text dominant-baseline=\"central\" text-anchor=\"end\" font-family=\"monospace\" font-size=\"12\" x=\"64\" y=\"64\">q0</text>\n",
       "<path id=\"qubit_line:1\" d=\"M64,128 L1600,128 \" stroke=\"black\"/>\n",
       "<text dominant-baseline=\"central\" text-anchor=\"end\" font-family=\"monospace\" font-size=\"12\" x=\"64\" y=\"128\">q1</text>\n",
       "<path id=\"qubit_line:2\" d=\"M64,192 L1600,192 \" stroke=\"black\"/>\n",
       "<text dominant-baseline=\"central\" text-anchor=\"end\" font-family=\"monospace\" font-size=\"12\" x=\"64\" y=\"192\">q2</text>\n",
       "<path id=\"qubit_line:3\" d=\"M64,256 L1600,256 \" stroke=\"black\"/>\n",
       "<text dominant-baseline=\"central\" text-anchor=\"end\" font-family=\"monospace\" font-size=\"12\" x=\"64\" y=\"256\">q3</text>\n",
       "<path id=\"qubit_line:4\" d=\"M64,320 L1600,320 \" stroke=\"black\"/>\n",
       "<text dominant-baseline=\"central\" text-anchor=\"end\" font-family=\"monospace\" font-size=\"12\" x=\"64\" y=\"320\">q4</text>\n",
       "<path id=\"qubit_line:5\" d=\"M64,384 L1600,384 \" stroke=\"black\"/>\n",
       "<text dominant-baseline=\"central\" text-anchor=\"end\" font-family=\"monospace\" font-size=\"12\" x=\"64\" y=\"384\">q5</text>\n",
       "</g>\n",
       "<rect x=\"80\" y=\"48\" width=\"32\" height=\"32\" stroke=\"black\" fill=\"white\"/>\n",
       "<text dominant-baseline=\"central\" text-anchor=\"middle\" font-family=\"monospace\" font-size=\"30\" x=\"96\" y=\"64\">S</text>\n",
       "<rect x=\"144\" y=\"48\" width=\"32\" height=\"32\" stroke=\"black\" fill=\"white\"/>\n",
       "<text dominant-baseline=\"central\" text-anchor=\"middle\" font-family=\"monospace\" font-size=\"30\" x=\"160\" y=\"64\">H</text>\n",
       "<rect x=\"208\" y=\"48\" width=\"32\" height=\"32\" stroke=\"black\" fill=\"white\"/>\n",
       "<text dominant-baseline=\"central\" text-anchor=\"middle\" font-family=\"monospace\" font-size=\"30\" x=\"224\" y=\"64\">S</text>\n",
       "<rect x=\"208\" y=\"176\" width=\"32\" height=\"32\" stroke=\"black\" fill=\"white\"/>\n",
       "<text dominant-baseline=\"central\" text-anchor=\"middle\" font-family=\"monospace\" font-size=\"30\" x=\"224\" y=\"192\">S</text>\n",
       "<rect x=\"208\" y=\"304\" width=\"32\" height=\"32\" stroke=\"black\" fill=\"white\"/>\n",
       "<text dominant-baseline=\"central\" text-anchor=\"middle\" font-family=\"monospace\" font-size=\"30\" x=\"224\" y=\"320\">S</text>\n",
       "<rect x=\"208\" y=\"368\" width=\"32\" height=\"32\" stroke=\"black\" fill=\"white\"/>\n",
       "<text dominant-baseline=\"central\" text-anchor=\"middle\" font-family=\"monospace\" font-size=\"30\" x=\"224\" y=\"384\">S</text>\n",
       "<rect x=\"272\" y=\"176\" width=\"32\" height=\"32\" stroke=\"black\" fill=\"white\"/>\n",
       "<text dominant-baseline=\"central\" text-anchor=\"middle\" font-family=\"monospace\" font-size=\"30\" x=\"288\" y=\"192\">H</text>\n",
       "<rect x=\"272\" y=\"304\" width=\"32\" height=\"32\" stroke=\"black\" fill=\"white\"/>\n",
       "<text dominant-baseline=\"central\" text-anchor=\"middle\" font-family=\"monospace\" font-size=\"30\" x=\"288\" y=\"320\">H</text>\n",
       "<rect x=\"272\" y=\"368\" width=\"32\" height=\"32\" stroke=\"black\" fill=\"white\"/>\n",
       "<text dominant-baseline=\"central\" text-anchor=\"middle\" font-family=\"monospace\" font-size=\"30\" x=\"288\" y=\"384\">H</text>\n",
       "<path d=\"M288,64 L288,128 \" stroke=\"black\"/>\n",
       "<circle cx=\"288\" cy=\"128\" r=\"12\" stroke=\"none\" fill=\"black\"/>\n",
       "<circle cx=\"288\" cy=\"64\" r=\"12\" stroke=\"black\" fill=\"white\"/>\n",
       "<path d=\"M276,64 L300,64 M288,52 L288,76 \" stroke=\"black\"/>\n",
       "<path d=\"M352,64 L352,192 \" stroke=\"black\"/>\n",
       "<circle cx=\"352\" cy=\"192\" r=\"12\" stroke=\"none\" fill=\"black\"/>\n",
       "<circle cx=\"352\" cy=\"64\" r=\"12\" stroke=\"black\" fill=\"white\"/>\n",
       "<path d=\"M340,64 L364,64 M352,52 L352,76 \" stroke=\"black\"/>\n",
       "<path d=\"M416,64 L416,320 \" stroke=\"black\"/>\n",
       "<circle cx=\"416\" cy=\"320\" r=\"12\" stroke=\"none\" fill=\"black\"/>\n",
       "<circle cx=\"416\" cy=\"64\" r=\"12\" stroke=\"black\" fill=\"white\"/>\n",
       "<path d=\"M404,64 L428,64 M416,52 L416,76 \" stroke=\"black\"/>\n",
       "<path d=\"M480,64 L480,384 \" stroke=\"black\"/>\n",
       "<circle cx=\"480\" cy=\"384\" r=\"12\" stroke=\"none\" fill=\"black\"/>\n",
       "<circle cx=\"480\" cy=\"64\" r=\"12\" stroke=\"black\" fill=\"white\"/>\n",
       "<path d=\"M468,64 L492,64 M480,52 L480,76 \" stroke=\"black\"/>\n",
       "<rect x=\"528\" y=\"112\" width=\"32\" height=\"32\" stroke=\"black\" fill=\"white\"/>\n",
       "<text dominant-baseline=\"central\" text-anchor=\"middle\" font-family=\"monospace\" font-size=\"30\" x=\"544\" y=\"128\">S</text>\n",
       "<rect x=\"592\" y=\"112\" width=\"32\" height=\"32\" stroke=\"black\" fill=\"white\"/>\n",
       "<text dominant-baseline=\"central\" text-anchor=\"middle\" font-family=\"monospace\" font-size=\"30\" x=\"608\" y=\"128\">H</text>\n",
       "<rect x=\"656\" y=\"112\" width=\"32\" height=\"32\" stroke=\"black\" fill=\"white\"/>\n",
       "<text dominant-baseline=\"central\" text-anchor=\"middle\" font-family=\"monospace\" font-size=\"30\" x=\"672\" y=\"128\">S</text>\n",
       "<rect x=\"656\" y=\"240\" width=\"32\" height=\"32\" stroke=\"black\" fill=\"white\"/>\n",
       "<text dominant-baseline=\"central\" text-anchor=\"middle\" font-family=\"monospace\" font-size=\"30\" x=\"672\" y=\"256\">S</text>\n",
       "<rect x=\"720\" y=\"240\" width=\"32\" height=\"32\" stroke=\"black\" fill=\"white\"/>\n",
       "<text dominant-baseline=\"central\" text-anchor=\"middle\" font-family=\"monospace\" font-size=\"30\" x=\"736\" y=\"256\">H</text>\n",
       "<path d=\"M736,128 L736,192 \" stroke=\"black\"/>\n",
       "<circle cx=\"736\" cy=\"192\" r=\"12\" stroke=\"none\" fill=\"black\"/>\n",
       "<circle cx=\"736\" cy=\"128\" r=\"12\" stroke=\"black\" fill=\"white\"/>\n",
       "<path d=\"M724,128 L748,128 M736,116 L736,140 \" stroke=\"black\"/>\n",
       "<path d=\"M800,128 L800,256 \" stroke=\"black\"/>\n",
       "<circle cx=\"800\" cy=\"256\" r=\"12\" stroke=\"none\" fill=\"black\"/>\n",
       "<circle cx=\"800\" cy=\"128\" r=\"12\" stroke=\"black\" fill=\"white\"/>\n",
       "<path d=\"M788,128 L812,128 M800,116 L800,140 \" stroke=\"black\"/>\n",
       "<path d=\"M864,128 L864,320 \" stroke=\"black\"/>\n",
       "<circle cx=\"864\" cy=\"320\" r=\"12\" stroke=\"none\" fill=\"black\"/>\n",
       "<circle cx=\"864\" cy=\"128\" r=\"12\" stroke=\"black\" fill=\"white\"/>\n",
       "<path d=\"M852,128 L876,128 M864,116 L864,140 \" stroke=\"black\"/>\n",
       "<rect x=\"912\" y=\"176\" width=\"32\" height=\"32\" stroke=\"black\" fill=\"white\"/>\n",
       "<text dominant-baseline=\"central\" text-anchor=\"middle\" font-family=\"monospace\" font-size=\"30\" x=\"928\" y=\"192\">H</text>\n",
       "<rect x=\"976\" y=\"176\" width=\"32\" height=\"32\" stroke=\"black\" fill=\"white\"/>\n",
       "<text dominant-baseline=\"central\" text-anchor=\"middle\" font-family=\"monospace\" font-size=\"30\" x=\"992\" y=\"192\">S</text>\n",
       "<rect x=\"976\" y=\"240\" width=\"32\" height=\"32\" stroke=\"black\" fill=\"white\"/>\n",
       "<text dominant-baseline=\"central\" text-anchor=\"middle\" font-family=\"monospace\" font-size=\"30\" x=\"992\" y=\"256\">H</text>\n",
       "<rect x=\"1040\" y=\"240\" width=\"32\" height=\"32\" stroke=\"black\" fill=\"white\"/>\n",
       "<text dominant-baseline=\"central\" text-anchor=\"middle\" font-family=\"monospace\" font-size=\"30\" x=\"1056\" y=\"256\">S</text>\n",
       "<rect x=\"1040\" y=\"304\" width=\"32\" height=\"32\" stroke=\"black\" fill=\"white\"/>\n",
       "<text dominant-baseline=\"central\" text-anchor=\"middle\" font-family=\"monospace\" font-size=\"30\" x=\"1056\" y=\"320\">H</text>\n",
       "<rect x=\"1104\" y=\"304\" width=\"32\" height=\"32\" stroke=\"black\" fill=\"white\"/>\n",
       "<text dominant-baseline=\"central\" text-anchor=\"middle\" font-family=\"monospace\" font-size=\"30\" x=\"1120\" y=\"320\">S</text>\n",
       "<rect x=\"1104\" y=\"368\" width=\"32\" height=\"32\" stroke=\"black\" fill=\"white\"/>\n",
       "<text dominant-baseline=\"central\" text-anchor=\"middle\" font-family=\"monospace\" font-size=\"30\" x=\"1120\" y=\"384\">H</text>\n",
       "<rect x=\"1168\" y=\"368\" width=\"32\" height=\"32\" stroke=\"black\" fill=\"white\"/>\n",
       "<text dominant-baseline=\"central\" text-anchor=\"middle\" font-family=\"monospace\" font-size=\"30\" x=\"1184\" y=\"384\">S</text>\n",
       "<rect x=\"1168\" y=\"48\" width=\"32\" height=\"32\" stroke=\"black\" fill=\"white\"/>\n",
       "<text dominant-baseline=\"central\" text-anchor=\"middle\" font-family=\"monospace\" font-size=\"30\" x=\"1184\" y=\"64\">S</text>\n",
       "<rect x=\"1232\" y=\"48\" width=\"32\" height=\"32\" stroke=\"black\" fill=\"white\"/>\n",
       "<text dominant-baseline=\"central\" text-anchor=\"middle\" font-family=\"monospace\" font-size=\"30\" x=\"1248\" y=\"64\">S</text>\n",
       "<rect x=\"1232\" y=\"112\" width=\"32\" height=\"32\" stroke=\"black\" fill=\"white\"/>\n",
       "<text dominant-baseline=\"central\" text-anchor=\"middle\" font-family=\"monospace\" font-size=\"30\" x=\"1248\" y=\"128\">S</text>\n",
       "<rect x=\"1296\" y=\"112\" width=\"32\" height=\"32\" stroke=\"black\" fill=\"white\"/>\n",
       "<text dominant-baseline=\"central\" text-anchor=\"middle\" font-family=\"monospace\" font-size=\"30\" x=\"1312\" y=\"128\">S</text>\n",
       "<rect x=\"1296\" y=\"176\" width=\"32\" height=\"32\" stroke=\"black\" fill=\"white\"/>\n",
       "<text dominant-baseline=\"central\" text-anchor=\"middle\" font-family=\"monospace\" font-size=\"30\" x=\"1312\" y=\"192\">S</text>\n",
       "<rect x=\"1360\" y=\"176\" width=\"32\" height=\"32\" stroke=\"black\" fill=\"white\"/>\n",
       "<text dominant-baseline=\"central\" text-anchor=\"middle\" font-family=\"monospace\" font-size=\"30\" x=\"1376\" y=\"192\">S</text>\n",
       "<rect x=\"1360\" y=\"240\" width=\"32\" height=\"32\" stroke=\"black\" fill=\"white\"/>\n",
       "<text dominant-baseline=\"central\" text-anchor=\"middle\" font-family=\"monospace\" font-size=\"30\" x=\"1376\" y=\"256\">S</text>\n",
       "<rect x=\"1424\" y=\"240\" width=\"32\" height=\"32\" stroke=\"black\" fill=\"white\"/>\n",
       "<text dominant-baseline=\"central\" text-anchor=\"middle\" font-family=\"monospace\" font-size=\"30\" x=\"1440\" y=\"256\">S</text>\n",
       "<rect x=\"1424\" y=\"304\" width=\"32\" height=\"32\" stroke=\"black\" fill=\"white\"/>\n",
       "<text dominant-baseline=\"central\" text-anchor=\"middle\" font-family=\"monospace\" font-size=\"30\" x=\"1440\" y=\"320\">S</text>\n",
       "<rect x=\"1488\" y=\"304\" width=\"32\" height=\"32\" stroke=\"black\" fill=\"white\"/>\n",
       "<text dominant-baseline=\"central\" text-anchor=\"middle\" font-family=\"monospace\" font-size=\"30\" x=\"1504\" y=\"320\">S</text>\n",
       "<rect x=\"1488\" y=\"368\" width=\"32\" height=\"32\" stroke=\"black\" fill=\"white\"/>\n",
       "<text dominant-baseline=\"central\" text-anchor=\"middle\" font-family=\"monospace\" font-size=\"30\" x=\"1504\" y=\"384\">S</text>\n",
       "<rect x=\"1552\" y=\"368\" width=\"32\" height=\"32\" stroke=\"black\" fill=\"white\"/>\n",
       "<text dominant-baseline=\"central\" text-anchor=\"middle\" font-family=\"monospace\" font-size=\"30\" x=\"1568\" y=\"384\">S</text>\n",
       "</svg>"
      ],
      "text/plain": [
       "<svg viewBox=\"0 0 1632 480\"  version=\"1.1\" xmlns=\"http://www.w3.org/2000/svg\">\n",
       "<g id=\"qubit_lines\">\n",
       "<path id=\"qubit_line:0\" d=\"M64,64 L1600,64 \" stroke=\"black\"/>\n",
       "<text dominant-baseline=\"central\" text-anchor=\"end\" font-family=\"monospace\" font-size=\"12\" x=\"64\" y=\"64\">q0</text>\n",
       "<path id=\"qubit_line:1\" d=\"M64,128 L1600,128 \" stroke=\"black\"/>\n",
       "<text dominant-baseline=\"central\" text-anchor=\"end\" font-family=\"monospace\" font-size=\"12\" x=\"64\" y=\"128\">q1</text>\n",
       "<path id=\"qubit_line:2\" d=\"M64,192 L1600,192 \" stroke=\"black\"/>\n",
       "<text dominant-baseline=\"central\" text-anchor=\"end\" font-family=\"monospace\" font-size=\"12\" x=\"64\" y=\"192\">q2</text>\n",
       "<path id=\"qubit_line:3\" d=\"M64,256 L1600,256 \" stroke=\"black\"/>\n",
       "<text dominant-baseline=\"central\" text-anchor=\"end\" font-family=\"monospace\" font-size=\"12\" x=\"64\" y=\"256\">q3</text>\n",
       "<path id=\"qubit_line:4\" d=\"M64,320 L1600,320 \" stroke=\"black\"/>\n",
       "<text dominant-baseline=\"central\" text-anchor=\"end\" font-family=\"monospace\" font-size=\"12\" x=\"64\" y=\"320\">q4</text>\n",
       "<path id=\"qubit_line:5\" d=\"M64,384 L1600,384 \" stroke=\"black\"/>\n",
       "<text dominant-baseline=\"central\" text-anchor=\"end\" font-family=\"monospace\" font-size=\"12\" x=\"64\" y=\"384\">q5</text>\n",
       "</g>\n",
       "<rect x=\"80\" y=\"48\" width=\"32\" height=\"32\" stroke=\"black\" fill=\"white\"/>\n",
       "<text dominant-baseline=\"central\" text-anchor=\"middle\" font-family=\"monospace\" font-size=\"30\" x=\"96\" y=\"64\">S</text>\n",
       "<rect x=\"144\" y=\"48\" width=\"32\" height=\"32\" stroke=\"black\" fill=\"white\"/>\n",
       "<text dominant-baseline=\"central\" text-anchor=\"middle\" font-family=\"monospace\" font-size=\"30\" x=\"160\" y=\"64\">H</text>\n",
       "<rect x=\"208\" y=\"48\" width=\"32\" height=\"32\" stroke=\"black\" fill=\"white\"/>\n",
       "<text dominant-baseline=\"central\" text-anchor=\"middle\" font-family=\"monospace\" font-size=\"30\" x=\"224\" y=\"64\">S</text>\n",
       "<rect x=\"208\" y=\"176\" width=\"32\" height=\"32\" stroke=\"black\" fill=\"white\"/>\n",
       "<text dominant-baseline=\"central\" text-anchor=\"middle\" font-family=\"monospace\" font-size=\"30\" x=\"224\" y=\"192\">S</text>\n",
       "<rect x=\"208\" y=\"304\" width=\"32\" height=\"32\" stroke=\"black\" fill=\"white\"/>\n",
       "<text dominant-baseline=\"central\" text-anchor=\"middle\" font-family=\"monospace\" font-size=\"30\" x=\"224\" y=\"320\">S</text>\n",
       "<rect x=\"208\" y=\"368\" width=\"32\" height=\"32\" stroke=\"black\" fill=\"white\"/>\n",
       "<text dominant-baseline=\"central\" text-anchor=\"middle\" font-family=\"monospace\" font-size=\"30\" x=\"224\" y=\"384\">S</text>\n",
       "<rect x=\"272\" y=\"176\" width=\"32\" height=\"32\" stroke=\"black\" fill=\"white\"/>\n",
       "<text dominant-baseline=\"central\" text-anchor=\"middle\" font-family=\"monospace\" font-size=\"30\" x=\"288\" y=\"192\">H</text>\n",
       "<rect x=\"272\" y=\"304\" width=\"32\" height=\"32\" stroke=\"black\" fill=\"white\"/>\n",
       "<text dominant-baseline=\"central\" text-anchor=\"middle\" font-family=\"monospace\" font-size=\"30\" x=\"288\" y=\"320\">H</text>\n",
       "<rect x=\"272\" y=\"368\" width=\"32\" height=\"32\" stroke=\"black\" fill=\"white\"/>\n",
       "<text dominant-baseline=\"central\" text-anchor=\"middle\" font-family=\"monospace\" font-size=\"30\" x=\"288\" y=\"384\">H</text>\n",
       "<path d=\"M288,64 L288,128 \" stroke=\"black\"/>\n",
       "<circle cx=\"288\" cy=\"128\" r=\"12\" stroke=\"none\" fill=\"black\"/>\n",
       "<circle cx=\"288\" cy=\"64\" r=\"12\" stroke=\"black\" fill=\"white\"/>\n",
       "<path d=\"M276,64 L300,64 M288,52 L288,76 \" stroke=\"black\"/>\n",
       "<path d=\"M352,64 L352,192 \" stroke=\"black\"/>\n",
       "<circle cx=\"352\" cy=\"192\" r=\"12\" stroke=\"none\" fill=\"black\"/>\n",
       "<circle cx=\"352\" cy=\"64\" r=\"12\" stroke=\"black\" fill=\"white\"/>\n",
       "<path d=\"M340,64 L364,64 M352,52 L352,76 \" stroke=\"black\"/>\n",
       "<path d=\"M416,64 L416,320 \" stroke=\"black\"/>\n",
       "<circle cx=\"416\" cy=\"320\" r=\"12\" stroke=\"none\" fill=\"black\"/>\n",
       "<circle cx=\"416\" cy=\"64\" r=\"12\" stroke=\"black\" fill=\"white\"/>\n",
       "<path d=\"M404,64 L428,64 M416,52 L416,76 \" stroke=\"black\"/>\n",
       "<path d=\"M480,64 L480,384 \" stroke=\"black\"/>\n",
       "<circle cx=\"480\" cy=\"384\" r=\"12\" stroke=\"none\" fill=\"black\"/>\n",
       "<circle cx=\"480\" cy=\"64\" r=\"12\" stroke=\"black\" fill=\"white\"/>\n",
       "<path d=\"M468,64 L492,64 M480,52 L480,76 \" stroke=\"black\"/>\n",
       "<rect x=\"528\" y=\"112\" width=\"32\" height=\"32\" stroke=\"black\" fill=\"white\"/>\n",
       "<text dominant-baseline=\"central\" text-anchor=\"middle\" font-family=\"monospace\" font-size=\"30\" x=\"544\" y=\"128\">S</text>\n",
       "<rect x=\"592\" y=\"112\" width=\"32\" height=\"32\" stroke=\"black\" fill=\"white\"/>\n",
       "<text dominant-baseline=\"central\" text-anchor=\"middle\" font-family=\"monospace\" font-size=\"30\" x=\"608\" y=\"128\">H</text>\n",
       "<rect x=\"656\" y=\"112\" width=\"32\" height=\"32\" stroke=\"black\" fill=\"white\"/>\n",
       "<text dominant-baseline=\"central\" text-anchor=\"middle\" font-family=\"monospace\" font-size=\"30\" x=\"672\" y=\"128\">S</text>\n",
       "<rect x=\"656\" y=\"240\" width=\"32\" height=\"32\" stroke=\"black\" fill=\"white\"/>\n",
       "<text dominant-baseline=\"central\" text-anchor=\"middle\" font-family=\"monospace\" font-size=\"30\" x=\"672\" y=\"256\">S</text>\n",
       "<rect x=\"720\" y=\"240\" width=\"32\" height=\"32\" stroke=\"black\" fill=\"white\"/>\n",
       "<text dominant-baseline=\"central\" text-anchor=\"middle\" font-family=\"monospace\" font-size=\"30\" x=\"736\" y=\"256\">H</text>\n",
       "<path d=\"M736,128 L736,192 \" stroke=\"black\"/>\n",
       "<circle cx=\"736\" cy=\"192\" r=\"12\" stroke=\"none\" fill=\"black\"/>\n",
       "<circle cx=\"736\" cy=\"128\" r=\"12\" stroke=\"black\" fill=\"white\"/>\n",
       "<path d=\"M724,128 L748,128 M736,116 L736,140 \" stroke=\"black\"/>\n",
       "<path d=\"M800,128 L800,256 \" stroke=\"black\"/>\n",
       "<circle cx=\"800\" cy=\"256\" r=\"12\" stroke=\"none\" fill=\"black\"/>\n",
       "<circle cx=\"800\" cy=\"128\" r=\"12\" stroke=\"black\" fill=\"white\"/>\n",
       "<path d=\"M788,128 L812,128 M800,116 L800,140 \" stroke=\"black\"/>\n",
       "<path d=\"M864,128 L864,320 \" stroke=\"black\"/>\n",
       "<circle cx=\"864\" cy=\"320\" r=\"12\" stroke=\"none\" fill=\"black\"/>\n",
       "<circle cx=\"864\" cy=\"128\" r=\"12\" stroke=\"black\" fill=\"white\"/>\n",
       "<path d=\"M852,128 L876,128 M864,116 L864,140 \" stroke=\"black\"/>\n",
       "<rect x=\"912\" y=\"176\" width=\"32\" height=\"32\" stroke=\"black\" fill=\"white\"/>\n",
       "<text dominant-baseline=\"central\" text-anchor=\"middle\" font-family=\"monospace\" font-size=\"30\" x=\"928\" y=\"192\">H</text>\n",
       "<rect x=\"976\" y=\"176\" width=\"32\" height=\"32\" stroke=\"black\" fill=\"white\"/>\n",
       "<text dominant-baseline=\"central\" text-anchor=\"middle\" font-family=\"monospace\" font-size=\"30\" x=\"992\" y=\"192\">S</text>\n",
       "<rect x=\"976\" y=\"240\" width=\"32\" height=\"32\" stroke=\"black\" fill=\"white\"/>\n",
       "<text dominant-baseline=\"central\" text-anchor=\"middle\" font-family=\"monospace\" font-size=\"30\" x=\"992\" y=\"256\">H</text>\n",
       "<rect x=\"1040\" y=\"240\" width=\"32\" height=\"32\" stroke=\"black\" fill=\"white\"/>\n",
       "<text dominant-baseline=\"central\" text-anchor=\"middle\" font-family=\"monospace\" font-size=\"30\" x=\"1056\" y=\"256\">S</text>\n",
       "<rect x=\"1040\" y=\"304\" width=\"32\" height=\"32\" stroke=\"black\" fill=\"white\"/>\n",
       "<text dominant-baseline=\"central\" text-anchor=\"middle\" font-family=\"monospace\" font-size=\"30\" x=\"1056\" y=\"320\">H</text>\n",
       "<rect x=\"1104\" y=\"304\" width=\"32\" height=\"32\" stroke=\"black\" fill=\"white\"/>\n",
       "<text dominant-baseline=\"central\" text-anchor=\"middle\" font-family=\"monospace\" font-size=\"30\" x=\"1120\" y=\"320\">S</text>\n",
       "<rect x=\"1104\" y=\"368\" width=\"32\" height=\"32\" stroke=\"black\" fill=\"white\"/>\n",
       "<text dominant-baseline=\"central\" text-anchor=\"middle\" font-family=\"monospace\" font-size=\"30\" x=\"1120\" y=\"384\">H</text>\n",
       "<rect x=\"1168\" y=\"368\" width=\"32\" height=\"32\" stroke=\"black\" fill=\"white\"/>\n",
       "<text dominant-baseline=\"central\" text-anchor=\"middle\" font-family=\"monospace\" font-size=\"30\" x=\"1184\" y=\"384\">S</text>\n",
       "<rect x=\"1168\" y=\"48\" width=\"32\" height=\"32\" stroke=\"black\" fill=\"white\"/>\n",
       "<text dominant-baseline=\"central\" text-anchor=\"middle\" font-family=\"monospace\" font-size=\"30\" x=\"1184\" y=\"64\">S</text>\n",
       "<rect x=\"1232\" y=\"48\" width=\"32\" height=\"32\" stroke=\"black\" fill=\"white\"/>\n",
       "<text dominant-baseline=\"central\" text-anchor=\"middle\" font-family=\"monospace\" font-size=\"30\" x=\"1248\" y=\"64\">S</text>\n",
       "<rect x=\"1232\" y=\"112\" width=\"32\" height=\"32\" stroke=\"black\" fill=\"white\"/>\n",
       "<text dominant-baseline=\"central\" text-anchor=\"middle\" font-family=\"monospace\" font-size=\"30\" x=\"1248\" y=\"128\">S</text>\n",
       "<rect x=\"1296\" y=\"112\" width=\"32\" height=\"32\" stroke=\"black\" fill=\"white\"/>\n",
       "<text dominant-baseline=\"central\" text-anchor=\"middle\" font-family=\"monospace\" font-size=\"30\" x=\"1312\" y=\"128\">S</text>\n",
       "<rect x=\"1296\" y=\"176\" width=\"32\" height=\"32\" stroke=\"black\" fill=\"white\"/>\n",
       "<text dominant-baseline=\"central\" text-anchor=\"middle\" font-family=\"monospace\" font-size=\"30\" x=\"1312\" y=\"192\">S</text>\n",
       "<rect x=\"1360\" y=\"176\" width=\"32\" height=\"32\" stroke=\"black\" fill=\"white\"/>\n",
       "<text dominant-baseline=\"central\" text-anchor=\"middle\" font-family=\"monospace\" font-size=\"30\" x=\"1376\" y=\"192\">S</text>\n",
       "<rect x=\"1360\" y=\"240\" width=\"32\" height=\"32\" stroke=\"black\" fill=\"white\"/>\n",
       "<text dominant-baseline=\"central\" text-anchor=\"middle\" font-family=\"monospace\" font-size=\"30\" x=\"1376\" y=\"256\">S</text>\n",
       "<rect x=\"1424\" y=\"240\" width=\"32\" height=\"32\" stroke=\"black\" fill=\"white\"/>\n",
       "<text dominant-baseline=\"central\" text-anchor=\"middle\" font-family=\"monospace\" font-size=\"30\" x=\"1440\" y=\"256\">S</text>\n",
       "<rect x=\"1424\" y=\"304\" width=\"32\" height=\"32\" stroke=\"black\" fill=\"white\"/>\n",
       "<text dominant-baseline=\"central\" text-anchor=\"middle\" font-family=\"monospace\" font-size=\"30\" x=\"1440\" y=\"320\">S</text>\n",
       "<rect x=\"1488\" y=\"304\" width=\"32\" height=\"32\" stroke=\"black\" fill=\"white\"/>\n",
       "<text dominant-baseline=\"central\" text-anchor=\"middle\" font-family=\"monospace\" font-size=\"30\" x=\"1504\" y=\"320\">S</text>\n",
       "<rect x=\"1488\" y=\"368\" width=\"32\" height=\"32\" stroke=\"black\" fill=\"white\"/>\n",
       "<text dominant-baseline=\"central\" text-anchor=\"middle\" font-family=\"monospace\" font-size=\"30\" x=\"1504\" y=\"384\">S</text>\n",
       "<rect x=\"1552\" y=\"368\" width=\"32\" height=\"32\" stroke=\"black\" fill=\"white\"/>\n",
       "<text dominant-baseline=\"central\" text-anchor=\"middle\" font-family=\"monospace\" font-size=\"30\" x=\"1568\" y=\"384\">S</text>\n",
       "</svg>"
      ]
     },
     "execution_count": 121,
     "metadata": {},
     "output_type": "execute_result"
    }
   ],
   "source": [
    "circuit_stab.diagram('timeline-svg')"
   ]
  },
  {
   "cell_type": "code",
   "execution_count": 88,
   "id": "f3b3ef95",
   "metadata": {},
   "outputs": [
    {
     "name": "stdout",
     "output_type": "stream",
     "text": [
      "[]\n"
     ]
    }
   ],
   "source": [
    "sampler = circuit_stab.compile_sampler()\n",
    "print(sampler.sample(shots=100))"
   ]
  },
  {
   "cell_type": "code",
   "execution_count": 89,
   "id": "12679dd5",
   "metadata": {},
   "outputs": [
    {
     "data": {
      "text/plain": [
       "stim.CompiledMeasurementSampler(stim.Circuit('''\n",
       "    S 0\n",
       "    H 0\n",
       "    S 0 2 4 5\n",
       "    H 2 4 5\n",
       "    CX 1 0 2 0 4 0 5 0\n",
       "    S 1\n",
       "    H 1\n",
       "    S 1 3\n",
       "    H 3\n",
       "    CX 2 1 3 1 4 1\n",
       "    H 2\n",
       "    S 2\n",
       "    H 3\n",
       "    S 3\n",
       "    H 4\n",
       "    S 4\n",
       "    H 5\n",
       "    S 5 0 0 1 1 2 2 3 3 4 4 5 5\n",
       "'''))"
      ]
     },
     "execution_count": 89,
     "metadata": {},
     "output_type": "execute_result"
    }
   ],
   "source": [
    "sampler"
   ]
  },
  {
   "cell_type": "code",
   "execution_count": 90,
   "id": "6f0b7e04",
   "metadata": {},
   "outputs": [
    {
     "name": "stdout",
     "output_type": "stream",
     "text": [
      "[[ True  True]\n",
      " [False False]\n",
      " [False False]\n",
      " [False False]\n",
      " [False False]\n",
      " [False False]\n",
      " [ True  True]\n",
      " [False False]\n",
      " [False False]\n",
      " [ True  True]]\n"
     ]
    }
   ],
   "source": [
    "circuit = stim.Circuit()\n",
    "\n",
    "# First, the circuit will initialize a Bell pair.\n",
    "circuit.append(\"H\", [0])\n",
    "circuit.append(\"CNOT\", [0, 1])\n",
    "\n",
    "# Then, the circuit will measure both qubits of the Bell pair in the Z basis.\n",
    "circuit.append(\"M\", [0, 1])\n",
    "sampler = circuit.compile_sampler()\n",
    "print(sampler.sample(shots=10))"
   ]
  },
  {
   "cell_type": "code",
   "execution_count": 245,
   "id": "0b77cfb5",
   "metadata": {},
   "outputs": [],
   "source": [
    "from bposd.css import css_code"
   ]
  },
  {
   "cell_type": "code",
   "execution_count": 248,
   "id": "9da84cea",
   "metadata": {},
   "outputs": [
    {
     "ename": "AttributeError",
     "evalue": "module 'ldpc' has no attribute 'helpers'",
     "output_type": "error",
     "traceback": [
      "\u001b[0;31m---------------------------------------------------------------------------\u001b[0m",
      "\u001b[0;31mAttributeError\u001b[0m                            Traceback (most recent call last)",
      "Cell \u001b[0;32mIn[248], line 4\u001b[0m\n\u001b[1;32m      2\u001b[0m \u001b[38;5;28;01mfrom\u001b[39;00m \u001b[38;5;21;01mbposd\u001b[39;00m\u001b[38;5;21;01m.\u001b[39;00m\u001b[38;5;21;01mcss\u001b[39;00m \u001b[38;5;28;01mimport\u001b[39;00m css_code\n\u001b[1;32m      3\u001b[0m h\u001b[38;5;241m=\u001b[39mhamming_code(\u001b[38;5;241m3\u001b[39m) \u001b[38;5;66;03m#Hamming code parity check matrix\u001b[39;00m\n\u001b[0;32m----> 4\u001b[0m steane_code\u001b[38;5;241m=\u001b[39m\u001b[43mcss_code\u001b[49m\u001b[43m(\u001b[49m\u001b[43mhx\u001b[49m\u001b[38;5;241;43m=\u001b[39;49m\u001b[43mh\u001b[49m\u001b[43m,\u001b[49m\u001b[43mhz\u001b[49m\u001b[38;5;241;43m=\u001b[39;49m\u001b[43mh\u001b[49m\u001b[43m)\u001b[49m \u001b[38;5;66;03m#create Steane code where both hx and hz are Hamming codes\u001b[39;00m\n\u001b[1;32m      5\u001b[0m \u001b[38;5;28mprint\u001b[39m(\u001b[38;5;124m\"\u001b[39m\u001b[38;5;124mHx\u001b[39m\u001b[38;5;124m\"\u001b[39m)\n\u001b[1;32m      6\u001b[0m \u001b[38;5;28mprint\u001b[39m(steane_code\u001b[38;5;241m.\u001b[39mhx)\n",
      "File \u001b[0;32m~/qec_f24/project_env/lib/python3.11/site-packages/bposd/css.py:31\u001b[0m, in \u001b[0;36mcss_code.__init__\u001b[0;34m(self, hx, hz, code_distance, name)\u001b[0m\n\u001b[1;32m     28\u001b[0m     \u001b[38;5;28;01mraise\u001b[39;00m \u001b[38;5;167;01mException\u001b[39;00m(\u001b[38;5;124m\"\u001b[39m\u001b[38;5;124mError: hx and hz matrices must have equal numbers of columns!\u001b[39m\u001b[38;5;124m\"\u001b[39m)\n\u001b[1;32m     30\u001b[0m \u001b[38;5;28;01mif\u001b[39;00m nx\u001b[38;5;241m!=\u001b[39m\u001b[38;5;241m0\u001b[39m:\n\u001b[0;32m---> 31\u001b[0m     \u001b[38;5;28;43mself\u001b[39;49m\u001b[38;5;241;43m.\u001b[39;49m\u001b[43mcompute_dimension\u001b[49m\u001b[43m(\u001b[49m\u001b[43m)\u001b[49m\n\u001b[1;32m     32\u001b[0m     \u001b[38;5;28mself\u001b[39m\u001b[38;5;241m.\u001b[39mcompute_ldpc_params()\n\u001b[1;32m     33\u001b[0m     \u001b[38;5;28mself\u001b[39m\u001b[38;5;241m.\u001b[39mcompute_logicals()\n",
      "File \u001b[0;32m~/qec_f24/project_env/lib/python3.11/site-packages/bposd/css.py:50\u001b[0m, in \u001b[0;36mcss_code.compute_dimension\u001b[0;34m(self)\u001b[0m\n\u001b[1;32m     47\u001b[0m \u001b[38;5;28mself\u001b[39m\u001b[38;5;241m.\u001b[39mN\u001b[38;5;241m=\u001b[39m\u001b[38;5;28mself\u001b[39m\u001b[38;5;241m.\u001b[39mhx\u001b[38;5;241m.\u001b[39mshape[\u001b[38;5;241m1\u001b[39m]\n\u001b[1;32m     48\u001b[0m \u001b[38;5;28;01massert\u001b[39;00m \u001b[38;5;28mself\u001b[39m\u001b[38;5;241m.\u001b[39mN \u001b[38;5;241m==\u001b[39m \u001b[38;5;28mself\u001b[39m\u001b[38;5;241m.\u001b[39mhz\u001b[38;5;241m.\u001b[39mshape[\u001b[38;5;241m1\u001b[39m], \u001b[38;5;124m\"\u001b[39m\u001b[38;5;124mCode block length (N) inconsistent!\u001b[39m\u001b[38;5;124m\"\u001b[39m\n\u001b[0;32m---> 50\u001b[0m \u001b[38;5;28mself\u001b[39m\u001b[38;5;241m.\u001b[39mK\u001b[38;5;241m=\u001b[39m\u001b[38;5;28mself\u001b[39m\u001b[38;5;241m.\u001b[39mN\u001b[38;5;241m-\u001b[39m\u001b[43mmod2\u001b[49m\u001b[38;5;241;43m.\u001b[39;49m\u001b[43mrank\u001b[49m\u001b[43m(\u001b[49m\u001b[38;5;28;43mself\u001b[39;49m\u001b[38;5;241;43m.\u001b[39;49m\u001b[43mhx\u001b[49m\u001b[43m)\u001b[49m\u001b[38;5;241m-\u001b[39mmod2\u001b[38;5;241m.\u001b[39mrank(\u001b[38;5;28mself\u001b[39m\u001b[38;5;241m.\u001b[39mhz)\n\u001b[1;32m     51\u001b[0m \u001b[38;5;28;01mreturn\u001b[39;00m \u001b[38;5;28mself\u001b[39m\u001b[38;5;241m.\u001b[39mK\n",
      "File \u001b[0;32msrc_python/ldpc/mod2/_mod2.pyx:245\u001b[0m, in \u001b[0;36mldpc.mod2._mod2.rank\u001b[0;34m()\u001b[0m\n",
      "File \u001b[0;32msrc_python/ldpc/mod2/_mod2.pyx:159\u001b[0m, in \u001b[0;36mldpc.mod2._mod2.Py2CscList\u001b[0;34m()\u001b[0m\n",
      "\u001b[0;31mAttributeError\u001b[0m: module 'ldpc' has no attribute 'helpers'"
     ]
    }
   ],
   "source": [
    "from ldpc.codes import hamming_code\n",
    "from bposd.css import css_code\n",
    "h=hamming_code(3) #Hamming code parity check matrix\n",
    "steane_code=css_code(hx=h,hz=h) #create Steane code where both hx and hz are Hamming codes\n",
    "print(\"Hx\")\n",
    "print(steane_code.hx)\n",
    "print(\"Hz\")\n",
    "print(steane_code.hz)"
   ]
  },
  {
   "cell_type": "code",
   "execution_count": null,
   "id": "f1ebf122",
   "metadata": {},
   "outputs": [],
   "source": []
  }
 ],
 "metadata": {
  "colab": {
   "provenance": []
  },
  "kernelspec": {
   "display_name": "qiskit_env",
   "language": "python",
   "name": "python3"
  },
  "language_info": {
   "codemirror_mode": {
    "name": "ipython",
    "version": 3
   },
   "file_extension": ".py",
   "mimetype": "text/x-python",
   "name": "python",
   "nbconvert_exporter": "python",
   "pygments_lexer": "ipython3",
   "version": "3.13.0"
  }
 },
 "nbformat": 4,
 "nbformat_minor": 5
}
