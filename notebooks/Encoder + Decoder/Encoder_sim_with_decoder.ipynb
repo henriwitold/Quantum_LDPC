{
 "cells": [
  {
   "cell_type": "code",
   "execution_count": 1,
   "id": "e99c1b42",
   "metadata": {
    "id": "e99c1b42"
   },
   "outputs": [],
   "source": [
    "import numpy as np\n",
    "from qiskit import QuantumCircuit"
   ]
  },
  {
   "cell_type": "code",
   "execution_count": 19,
   "id": "e50fa2d1",
   "metadata": {
    "id": "e50fa2d1"
   },
   "outputs": [],
   "source": [
    "import numpy as np\n",
    "\n",
    "# def generate_bicycle_ldpc(m, n):\n",
    "#     \"\"\"\n",
    "#     Generate a bicycle LDPC code.\n",
    "#     Parameters:\n",
    "#         m: Number of rows (check bits).\n",
    "#         n: Number of columns (code bits).\n",
    "#     Returns:\n",
    "#         Hx, Hz: LDPC parity-check matrices for X and Z errors.\n",
    "#     \"\"\"\n",
    "#     H = np.random.randint(0, 2, (m, n // 2))\n",
    "#     Hx = np.concatenate((H, H), axis=1)\n",
    "#     Hz = np.concatenate((H[:, ::-1], H[:, ::-1]), axis=1)\n",
    "#     return Hx, Hz\n",
    "\n",
    "def generate_unicycle_ldpc(m, n):\n",
    "    \"\"\"\n",
    "    Generate a unicycle LDPC code.\n",
    "    Parameters:\n",
    "        m: Number of rows (check bits).\n",
    "        n: Number of columns (code bits).\n",
    "    Returns:\n",
    "        Hx, Hz: LDPC parity-check matrices for X and Z errors.\n",
    "    \"\"\"\n",
    "    H = np.random.randint(0, 2, (m, n))\n",
    "    Hx = H\n",
    "    Hz = H[:, ::-1]  # Reverse the columns for unicycle codes\n",
    "    return Hx, Hz\n",
    "\n",
    "def rand_bin_array(K, N):\n",
    "    arr = np.zeros(N)\n",
    "    arr[:K]  = 1\n",
    "    np.random.shuffle(arr)\n",
    "    return arr\n",
    "\n",
    "def cyclic_shift_matrix(arr):\n",
    "    N = len(arr)\n",
    "    matrix = np.zeros((N, N), dtype=arr.dtype)  # Create a matrix of size N x N\n",
    "    for i in range(N):\n",
    "        matrix[i] = np.roll(arr, i)  # Shift the array by i positions\n",
    "    return matrix\n",
    "\n",
    "def generate_bicycle_ldpc_1(n, m, k):\n",
    "    n_sub = int(n/2)\n",
    "    row = rand_bin_array(k, n_sub)\n",
    "    c = cyclic_shift_matrix(row)\n",
    "    return np.concatenate((c, c.T), axis=1)"
   ]
  },
  {
   "cell_type": "code",
   "execution_count": 51,
   "id": "a0378571",
   "metadata": {
    "id": "a0378571"
   },
   "outputs": [
    {
     "name": "stdout",
     "output_type": "stream",
     "text": [
      "Orthogonality check (should be zero matrix):\n",
      "[[0. 0. 0. 0. 0.]\n",
      " [0. 0. 0. 0. 0.]\n",
      " [0. 0. 0. 0. 0.]\n",
      " [0. 0. 0. 0. 0.]\n",
      " [0. 0. 0. 0. 0.]]\n",
      "[[0. 1. 0. 0. 1. 0. 1. 0. 0. 1.]\n",
      " [1. 0. 1. 0. 0. 1. 0. 1. 0. 0.]\n",
      " [0. 1. 0. 1. 0. 0. 1. 0. 1. 0.]\n",
      " [0. 0. 1. 0. 1. 0. 0. 1. 0. 1.]\n",
      " [1. 0. 0. 1. 0. 1. 0. 0. 1. 0.]]\n",
      "[[0. 1. 0. 0. 1. 0. 1. 0. 0. 1.]\n",
      " [1. 0. 1. 0. 0. 1. 0. 1. 0. 0.]\n",
      " [0. 1. 0. 1. 0. 0. 1. 0. 1. 0.]\n",
      " [0. 0. 1. 0. 1. 0. 0. 1. 0. 1.]\n",
      " [1. 0. 0. 1. 0. 1. 0. 0. 1. 0.]]\n",
      "5\n"
     ]
    }
   ],
   "source": [
    "# H_X matrix from https://arxiv.org/pdf/2405.07242\n",
    "# Hx = np.array([\n",
    "#     [1, 0, 0, 0, 1, 0, 0, 0, 1, 1],\n",
    "#     [0, 1, 0, 0, 0, 1, 1, 0, 0, 1],\n",
    "#     [0, 0, 1, 1, 0, 0, 0, 1, 0, 1]\n",
    "# ])\n",
    "\n",
    "# # H_Z matrix\n",
    "# Hz = np.array([\n",
    "#     [1, 0, 0, 0, 0, 1, 0, 1, 0, 1],\n",
    "#     [0, 1, 0, 1, 0, 0, 0, 0, 1, 1],\n",
    "#     [0, 0, 1, 0, 1, 0, 1, 0, 0, 1]\n",
    "# ])\n",
    "\n",
    "# USE BICYCLE PARITY CHECK MATRICES\n",
    "Hx = generate_bicycle_ldpc_1(10, 3, 2)\n",
    "Hz = Hx\n",
    "\n",
    "### USE STEANE CODE \n",
    "# Hx = np.array([\n",
    "#             [1, 1, 1, 1, 0, 0, 0],\n",
    "#             [1, 1, 0, 0, 1, 1, 0],\n",
    "#             [1, 0, 1, 0, 1, 0, 1]\n",
    "#         ], dtype=int)\n",
    "\n",
    "# Hz = np.array([\n",
    "#             [1, 1, 1, 1, 0, 0, 0],\n",
    "#             [1, 1, 0, 0, 1, 1, 0],\n",
    "#             [1, 0, 1, 0, 1, 0, 1]\n",
    "#         ], dtype=int)\n",
    "\n",
    "# Hx = np.array([[0., 0., 1., 1., 0., 1., 1., 0.],\n",
    "#                [1., 0., 0., 1., 0., 0., 1., 1.],\n",
    "#                [1., 1., 0., 0., 1., 0., 0., 1.],\n",
    "#                [0., 1., 1., 0., 1., 1., 0., 0.]])\n",
    "\n",
    "# Hz = Hx\n",
    "\n",
    "# H=np.array([[1, 1, 0, 0, 1, 1, 0, 0, 0, 0, 0, 0, 0, 0, 0, 0],\n",
    "#             [0, 0, 1, 0, 0, 0, 1, 1, 0, 0, 0, 0, 1, 0, 0, 0],\n",
    "#             [0, 0, 0, 1, 1, 0, 1, 0, 0, 0, 0, 0, 0, 1, 0, 0],\n",
    "#             [0, 0, 0, 0, 0, 1, 0, 0, 1, 1, 0, 0, 0, 0, 0, 1],\n",
    "#             [0, 1, 0, 0, 0, 0, 0, 1, 1, 0, 0, 1, 0, 0, 0, 0],\n",
    "#             [0, 0, 0, 0, 0, 0, 0, 0, 1, 0, 0, 0, 1, 1, 1, 0],\n",
    "#             [1, 0, 0, 0, 0, 0, 0, 1, 0, 0, 0, 0, 0, 1, 0, 1],\n",
    "#             [0, 0, 0, 1, 0, 1, 0, 0, 0, 0, 1, 0, 1, 0, 0, 0],\n",
    "#             [0, 0, 1, 1, 0, 0, 0, 0, 0, 0, 0, 1, 0, 0, 0, 1],\n",
    "#             [0, 0, 0, 0, 1, 0, 0, 0, 0, 1, 1, 1, 0, 0, 0, 0],\n",
    "#             [0, 1, 0, 0, 0, 0, 1, 0, 0, 0, 1, 0, 0, 0, 1, 0],\n",
    "#             [1, 0, 1, 0, 0, 0, 0, 0, 0, 1, 0, 0, 0, 0, 1, 0]])\n",
    "# Hx = H\n",
    "# Hz = H\n",
    "\n",
    "# # 验证自正交性质 (HxHz^T = 0 mod 2)\n",
    "# check_orthogonality = np.mod(np.dot(Hx, Hz.T), 2)\n",
    "\n",
    "\n",
    "zeros = np.zeros(Hx.shape)\n",
    "\n",
    "rank = np.linalg.matrix_rank(Hx)\n",
    "\n",
    "print(Hx)\n",
    "print(Hz)\n",
    "# print(check_orthogonality)\n",
    "print(rank)"
   ]
  },
  {
   "cell_type": "code",
   "execution_count": 21,
   "id": "9a521c8c",
   "metadata": {},
   "outputs": [],
   "source": [
    "H0 = np.concatenate((np.concatenate((Hx, zeros), axis=1), np.concatenate((zeros, Hz), axis=1))) #in the standard form for a CSS code"
   ]
  },
  {
   "cell_type": "code",
   "execution_count": 22,
   "id": "0c1c05ea",
   "metadata": {},
   "outputs": [
    {
     "data": {
      "text/plain": [
       "array([[1., 0., 1., 0., 0., 1., 0., 0., 1., 0., 0., 0., 0., 0., 0., 0.,\n",
       "        0., 0., 0., 0.],\n",
       "       [0., 1., 0., 1., 0., 0., 1., 0., 0., 1., 0., 0., 0., 0., 0., 0.,\n",
       "        0., 0., 0., 0.],\n",
       "       [0., 0., 1., 0., 1., 1., 0., 1., 0., 0., 0., 0., 0., 0., 0., 0.,\n",
       "        0., 0., 0., 0.],\n",
       "       [1., 0., 0., 1., 0., 0., 1., 0., 1., 0., 0., 0., 0., 0., 0., 0.,\n",
       "        0., 0., 0., 0.],\n",
       "       [0., 1., 0., 0., 1., 0., 0., 1., 0., 1., 0., 0., 0., 0., 0., 0.,\n",
       "        0., 0., 0., 0.],\n",
       "       [0., 0., 0., 0., 0., 0., 0., 0., 0., 0., 1., 0., 1., 0., 0., 1.,\n",
       "        0., 0., 1., 0.],\n",
       "       [0., 0., 0., 0., 0., 0., 0., 0., 0., 0., 0., 1., 0., 1., 0., 0.,\n",
       "        1., 0., 0., 1.],\n",
       "       [0., 0., 0., 0., 0., 0., 0., 0., 0., 0., 0., 0., 1., 0., 1., 1.,\n",
       "        0., 1., 0., 0.],\n",
       "       [0., 0., 0., 0., 0., 0., 0., 0., 0., 0., 1., 0., 0., 1., 0., 0.,\n",
       "        1., 0., 1., 0.],\n",
       "       [0., 0., 0., 0., 0., 0., 0., 0., 0., 0., 0., 1., 0., 0., 1., 0.,\n",
       "        0., 1., 0., 1.]])"
      ]
     },
     "execution_count": 22,
     "metadata": {},
     "output_type": "execute_result"
    }
   ],
   "source": [
    "H0"
   ]
  },
  {
   "cell_type": "code",
   "execution_count": 23,
   "id": "a76a7a47",
   "metadata": {
    "id": "a76a7a47"
   },
   "outputs": [],
   "source": [
    "def get_stabilizers(H_sub, stab):\n",
    "    all_stab = []\n",
    "    for n in range(len(H_sub)):\n",
    "        curr_str = ''\n",
    "        row = H_sub[n]\n",
    "        for m in row:\n",
    "            if m:\n",
    "                curr_str += stab\n",
    "            else:\n",
    "                curr_str += 'I'\n",
    "        print(curr_str)\n",
    "        all_stab.append(curr_str)\n",
    "    return all_stab"
   ]
  },
  {
   "cell_type": "code",
   "execution_count": 24,
   "id": "c4b50765",
   "metadata": {
    "id": "c4b50765",
    "outputId": "c48773a4-926a-421b-d854-300f519a55c6"
   },
   "outputs": [
    {
     "name": "stdout",
     "output_type": "stream",
     "text": [
      "XIXIIXIIXI\n",
      "IXIXIIXIIX\n",
      "IIXIXXIXII\n",
      "XIIXIIXIXI\n",
      "IXIIXIIXIX\n"
     ]
    },
    {
     "data": {
      "text/plain": [
       "['XIXIIXIIXI', 'IXIXIIXIIX', 'IIXIXXIXII', 'XIIXIIXIXI', 'IXIIXIIXIX']"
      ]
     },
     "execution_count": 24,
     "metadata": {},
     "output_type": "execute_result"
    }
   ],
   "source": [
    "get_stabilizers(Hx, 'X')"
   ]
  },
  {
   "cell_type": "code",
   "execution_count": 25,
   "id": "b6796ee1",
   "metadata": {
    "id": "b6796ee1",
    "outputId": "0e04ee64-45c4-459a-a304-2901694385c9",
    "scrolled": true
   },
   "outputs": [],
   "source": [
    "def make_stabilizer_circ(Hx, Hz, noise_inject=None, input_qc=None):\n",
    "    \"\"\"\n",
    "    Generate a stabilizer circuit given Hx and Hz. \n",
    "    noise_inject: a list of functions which take in a qc and with probability p, adds a single pauli to each qubit. \n",
    "    ^The functions in noise_inject are shown in below example, and require error prob and number of data qubits\n",
    "    as input (so the ancillas will not have errors). \n",
    "    \n",
    "    \"\"\"\n",
    "    if input_qc:\n",
    "        data = input_qc.qregs[0]\n",
    "        ancilla = input_qc.qregs[1]\n",
    "        \n",
    "    qc = QuantumCircuit(Hx.shape[1] + Hx.shape[0] + Hz.shape[0], Hx.shape[0] + Hz.shape[0])\n",
    "    x_offset = Hx.shape[1]\n",
    "    z_offset = Hx.shape[1] + Hx.shape[0]\n",
    "\n",
    "    for i in range(len(Hx)):\n",
    "        row  = Hx[i]\n",
    "        #print(row)\n",
    "        for j in range(len(row)):\n",
    "            curr = row[j]\n",
    "            #print(curr)\n",
    "            if curr:\n",
    "                #print(i, j, curr)\n",
    "                qc.cx(j, i + x_offset) #need to track offset\n",
    "                print(\"Added X stabilizer from qubit \" + str(j) + \" to ancilla \" + str(i))\n",
    "                qc.barrier()\n",
    "\n",
    "    for i in range(len(Hz)):\n",
    "        row  = Hz[i]\n",
    "        #print(row)\n",
    "        for j in range(len(row)):\n",
    "            curr = row[j]\n",
    "            #print(curr)\n",
    "            if curr:\n",
    "                #print(i, j, curr)\n",
    "                qc.cz(j, i + z_offset) #need to track offset\n",
    "                print(\"Added Z stabilizer from qubit \" + str(j) + \" to ancilla \" + str(i))\n",
    "                qc.barrier()\n",
    "\n",
    "    #log where errors were added \n",
    "    logs = []\n",
    "    for f in noise_inject:\n",
    "        log = None\n",
    "        logs.append(log)\n",
    "    #qc.x(10)\n",
    "    qc.measure(range(Hx.shape[1], Hx.shape[1] + Hx.shape[0] + Hz.shape[0]), range(Hx.shape[0] + Hz.shape[0]))\n",
    "    if input_qc:\n",
    "        qc = input_qc.append(qc)\n",
    "    if noise_inject:\n",
    "        return qc, logs\n",
    "    else:\n",
    "        return qc"
   ]
  },
  {
   "cell_type": "code",
   "execution_count": 26,
   "id": "3c843ebd",
   "metadata": {},
   "outputs": [],
   "source": [
    "def make_stabilizer_circ_1(Hx, Hz,  qc, noise_inject=None):\n",
    "    \"\"\"\n",
    "    Generate a stabilizer circuit given Hx and Hz. \n",
    "    noise_inject: a list of functions which take in a qc and with probability p, adds a single pauli to each qubit. \n",
    "    ^The functions in noise_inject are shown in below example, and require error prob and number of data qubits\n",
    "    as input (so the ancillas will not have errors). \n",
    "    \n",
    "    \"\"\"\n",
    "    qc.barrier()\n",
    "    data = qc.qregs[0]\n",
    "    ancilla = qc.qregs[1]\n",
    "\n",
    "    x_offset = 0\n",
    "    z_offset = Hx.shape[0]\n",
    "    \n",
    "    for i in range(len(Hx)):\n",
    "        row  = Hx[i]\n",
    "        #print(row)\n",
    "        for j in range(len(row)):\n",
    "            curr = row[j]\n",
    "            #print(curr)\n",
    "            if curr:\n",
    "                #print(i, j, curr)\n",
    "                qc.cx(data[j], ancilla[i]) #need to track offset\n",
    "                print(j, i)\n",
    "                print(\"Added X stabilizer from qubit \" + str(j) + \" to ancilla \" + str(i))\n",
    "                qc.barrier()\n",
    "\n",
    "    for i in range(len(Hz)):\n",
    "        row  = Hz[i]\n",
    "        #print(row)\n",
    "        for j in range(len(row)):\n",
    "            curr = row[j]\n",
    "            #print(curr)\n",
    "            if curr:\n",
    "                #print(i, j, curr)\n",
    "                print(j, i)\n",
    "                qc.cz(data[j], ancilla[i + z_offset]) #need to track offset\n",
    "                print(\"Added Z stabilizer from qubit \" + str(j) + \" to ancilla \" + str(i+ z_offset))\n",
    "                qc.barrier()\n",
    "\n",
    "    #log where errors were added \n",
    "    logs = []\n",
    "#     for f in noise_inject:\n",
    "#         log = None\n",
    "#         logs.append(log)\n",
    "    #qc.x(10)\n",
    "    print(ancilla)\n",
    "    print(qc.cregs[0])\n",
    "    qc.measure(ancilla, qc.cregs[0])\n",
    "    if noise_inject:\n",
    "        return qc, logs\n",
    "    else:\n",
    "        return qc"
   ]
  },
  {
   "cell_type": "code",
   "execution_count": 27,
   "id": "2b22897f",
   "metadata": {},
   "outputs": [],
   "source": [
    "# cd = stac.CommonCodes.generate_code('[[7,1,3]]')\n",
    "# stac.print_matrix(cd.generator_matrix, augmented=True)\n",
    "# cd.construct_standard_form()\n",
    "# stac.print_matrix(cd.standard_generator_matrix, augmented=True)\n",
    "\n",
    "\n",
    "# cd.construct_logical_operators()\n",
    "# print(\"Logical X =\", cd.logical_xs)\n",
    "# stac.print_paulis(cd.logical_xs)\n",
    "\n",
    "# print(\"\\nLogical Z =\", cd.logical_zs)\n",
    "# stac.print_paulis(cd.logical_zs)\n",
    "\n",
    "# matrix3 = np.array([\n",
    "#     [0, 1, 1, 0, 0, 0, 0, 0, 0, 1, 1, 0, 0, 0, 0, 0],\n",
    "#     [1, 1, 0, 1, 0, 0, 0, 0, 1, 1, 0, 1, 0, 0, 0, 0],\n",
    "#     [1, 1, 1, 0, 1, 0, 0, 0, 1, 1, 1, 0, 1, 0, 0, 0],\n",
    "#     [1, 0, 0, 1, 1, 1, 0, 0, 1, 0, 0, 1, 1, 1, 0, 0],\n",
    "#     [0, 0, 1, 0, 1, 1, 1, 0, 0, 0, 1, 0, 1, 1, 1, 0],\n",
    "#     [0, 0, 0, 1, 0, 1, 1, 1, 0, 0, 0, 1, 0, 1, 1, 1]\n",
    "# ])\n",
    "\n",
    "# matrix4 = np.array([\n",
    "#     [0, 1, 1, 0, 0, 0, 0, 0],\n",
    "#     [1, 1, 0, 1, 0, 0, 0, 0],\n",
    "#     [1, 1, 1, 0, 1, 0, 0, 0],\n",
    "#     [1, 0, 0, 1, 1, 1, 0, 0],\n",
    "#     [0, 0, 1, 0, 1, 1, 1, 0],\n",
    "#     [0, 0, 0, 1, 0, 1, 1, 1]\n",
    "# ])"
   ]
  },
  {
   "cell_type": "code",
   "execution_count": 33,
   "id": "2b54b762",
   "metadata": {},
   "outputs": [
    {
     "ename": "AttributeError",
     "evalue": "module 'stac' has no attribute 'Code'",
     "output_type": "error",
     "traceback": [
      "\u001b[0;31m---------------------------------------------------------------------------\u001b[0m",
      "\u001b[0;31mAttributeError\u001b[0m                            Traceback (most recent call last)",
      "Cell \u001b[0;32mIn[33], line 8\u001b[0m\n\u001b[1;32m      2\u001b[0m \u001b[38;5;28;01mfrom\u001b[39;00m \u001b[38;5;21;01mqiskit\u001b[39;00m \u001b[38;5;28;01mimport\u001b[39;00m QuantumRegister\n\u001b[1;32m      4\u001b[0m \u001b[38;5;66;03m# Hx = matrix3\u001b[39;00m\n\u001b[1;32m      5\u001b[0m \u001b[38;5;66;03m# Hz = Hx\u001b[39;00m\n\u001b[0;32m----> 8\u001b[0m cd \u001b[38;5;241m=\u001b[39m \u001b[43mstac\u001b[49m\u001b[38;5;241;43m.\u001b[39;49m\u001b[43mCode\u001b[49m(np\u001b[38;5;241m.\u001b[39mconcatenate((Hx, zeros))\u001b[38;5;241m.\u001b[39mastype(\u001b[38;5;28mint\u001b[39m), np\u001b[38;5;241m.\u001b[39mconcatenate((zeros, Hz))\u001b[38;5;241m.\u001b[39mastype(\u001b[38;5;28mint\u001b[39m))\n\u001b[1;32m     10\u001b[0m \u001b[38;5;66;03m#cd = stac.Code(Hx.astype(int),Hz.astype(int))\u001b[39;00m\n\u001b[1;32m     11\u001b[0m stac\u001b[38;5;241m.\u001b[39mprint_matrix(cd\u001b[38;5;241m.\u001b[39mgenerator_matrix, augmented\u001b[38;5;241m=\u001b[39m\u001b[38;5;28;01mTrue\u001b[39;00m)\n",
      "\u001b[0;31mAttributeError\u001b[0m: module 'stac' has no attribute 'Code'"
     ]
    }
   ],
   "source": [
    "import stac\n",
    "from qiskit import QuantumRegister\n",
    "\n",
    "# Hx = matrix3\n",
    "# Hz = Hx\n",
    "\n",
    "\n",
    "cd = stac.Code(np.concatenate((Hx, zeros)).astype(int), np.concatenate((zeros, Hz)).astype(int))\n",
    "\n",
    "#cd = stac.Code(Hx.astype(int),Hz.astype(int))\n",
    "stac.print_matrix(cd.generator_matrix, augmented=True)\n",
    "cd.construct_logical_operators()\n",
    "cd.construct_standard_form()\n",
    "stac.print_matrix(cd.standard_generator_matrix, augmented=True)\n",
    "print(\"Logical X =\", cd.logical_xs)\n",
    "print(\"Logical Z =\", cd.logical_zs)\n"
   ]
  },
  {
   "cell_type": "code",
   "execution_count": null,
   "id": "d15bb33f",
   "metadata": {
    "scrolled": true
   },
   "outputs": [],
   "source": [
    "# enc_circ = cd.construct_encoding_circuit()\n",
    "# enc_qc = QuantumCircuit.from_qasm_str(enc_circ.qasm())\n",
    "\n",
    "# syn_circ= cd.construct_syndrome_circuit()\n",
    "# syn_qc = QuantumCircuit.from_qasm_str(syn_circ.qasm())\n",
    "\n",
    "# # ### ADD ERROR \n",
    "# # enc_qc.barrier()\n",
    "# # enc_qc.x(1)\n",
    "# # enc_qc.barrier()\n",
    "\n",
    "# qr2 = QuantumRegister(len(enc_qc.qregs[0]))\n",
    "# enc_qc.add_register(qr2)\n",
    "# qc = make_stabilizer_circ_1(Hx, Hz, enc_qc)\n",
    "# qc.draw(output=\"mpl\")"
   ]
  },
  {
   "cell_type": "code",
   "execution_count": null,
   "id": "cde9899d",
   "metadata": {},
   "outputs": [
    {
     "ename": "NameError",
     "evalue": "name 'cd' is not defined",
     "output_type": "error",
     "traceback": [
      "\u001b[0;31m---------------------------------------------------------------------------\u001b[0m",
      "\u001b[0;31mNameError\u001b[0m                                 Traceback (most recent call last)",
      "Cell \u001b[0;32mIn[17], line 1\u001b[0m\n\u001b[0;32m----> 1\u001b[0m circ \u001b[38;5;241m=\u001b[39m \u001b[43mcd\u001b[49m\u001b[38;5;241m.\u001b[39mconstruct_encoding_circuit(\u001b[38;5;124m'\u001b[39m\u001b[38;5;124mnon_ft\u001b[39m\u001b[38;5;124m'\u001b[39m)\n\u001b[1;32m      2\u001b[0m circ\u001b[38;5;241m.\u001b[39mappend(\u001b[38;5;124m'\u001b[39m\u001b[38;5;124mTICK\u001b[39m\u001b[38;5;124m'\u001b[39m)\n\u001b[1;32m      4\u001b[0m \u001b[38;5;66;03m# Step 2\u001b[39;00m\n\u001b[1;32m      5\u001b[0m \u001b[38;5;66;03m#circ.append('Z', 2)\u001b[39;00m\n",
      "\u001b[0;31mNameError\u001b[0m: name 'cd' is not defined"
     ]
    }
   ],
   "source": [
    "circ = cd.construct_encoding_circuit('non_ft')\n",
    "circ.append('TICK')\n",
    "\n",
    "# Step 2\n",
    "#circ.append('Z', 2)\n",
    "circ.append('X', 2)\n",
    "\n",
    "# Step 3\n",
    "cd.construct_syndrome_circuit();\n",
    "circ += cd.syndrome_circuit\n",
    "\n",
    "circ.draw()\n"
   ]
  },
  {
   "cell_type": "code",
   "execution_count": null,
   "id": "cd7e15de",
   "metadata": {},
   "outputs": [],
   "source": [
    "circ = QuantumCircuit.from_qasm_str(circ.qasm())"
   ]
  },
  {
   "cell_type": "code",
   "execution_count": 30,
   "id": "324eb215",
   "metadata": {
    "id": "324eb215"
   },
   "outputs": [],
   "source": [
    "from qiskit_aer.noise import NoiseModel, depolarizing_error\n",
    "from qiskit.quantum_info import SparsePauliOp\n",
    "from qiskit.transpiler.preset_passmanagers import generate_preset_pass_manager\n",
    "from qiskit_aer import AerSimulator, Aer\n",
    "from qiskit_aer.primitives import EstimatorV2\n",
    "from qiskit import transpile"
   ]
  },
  {
   "cell_type": "code",
   "execution_count": 31,
   "id": "f0e95848",
   "metadata": {},
   "outputs": [],
   "source": [
    "def add_random_x_gate(circuit, p, n):\n",
    "    \"\"\"\n",
    "    Randomly applies an X gate to each qubit in the quantum circuit with probability p.\n",
    "    \n",
    "    Parameters:\n",
    "    - circuit (QuantumCircuit): The quantum circuit to modify.\n",
    "    - p (float): The probability of applying an X gate to each qubit.\n",
    "    \"\"\"\n",
    "    num_qubits = n\n",
    "    log = []\n",
    "    # For each qubit in the circuit, apply an X gate with probability p\n",
    "    for qubit in range(num_qubits):\n",
    "        if np.random.random() < p:  # With probability p, apply the X gate\n",
    "            circuit.x(qubit)  # Apply X gate to the qubit\n",
    "            log.append(qubit)\n",
    "    return log\n",
    "            \n",
    "def add_random_z_gate(circuit, p, n):\n",
    "    \"\"\"\n",
    "    Randomly applies an Z gate to each qubit in the quantum circuit with probability p.\n",
    "    \n",
    "    Parameters:\n",
    "    - circuit (QuantumCircuit): The quantum circuit to modify.\n",
    "    - p (float): The probability of applying an z gate to each qubit.\n",
    "    \"\"\"\n",
    "    num_qubits = n\n",
    "    log = []\n",
    "    # For each qubit in the circuit, apply a z gate with probability p\n",
    "    for qubit in range(num_qubits):\n",
    "        if np.random.random() < p:  # With probability p, apply the z gate\n",
    "            circuit.z(qubit)  # Apply z gate to the qubit\n",
    "            log.append(qubit)\n",
    "        \n",
    "    return log\n",
    "\n",
    "# Helper functions to parameterize above in terms of only qc.\n",
    "def add_x(p, n):\n",
    "    return lambda qc: add_random_x_gate(qc, p, n)\n",
    "\n",
    "def add_z(p, n):\n",
    "    return lambda qc: add_random_z_gate(qc, p, n)"
   ]
  },
  {
   "cell_type": "code",
   "execution_count": 32,
   "id": "43e7decb",
   "metadata": {
    "id": "43e7decb",
    "outputId": "cb1f14c2-1088-4506-9c35-dfe9fa5a0efe"
   },
   "outputs": [
    {
     "ename": "NameError",
     "evalue": "name 'circ' is not defined",
     "output_type": "error",
     "traceback": [
      "\u001b[0;31m---------------------------------------------------------------------------\u001b[0m",
      "\u001b[0;31mNameError\u001b[0m                                 Traceback (most recent call last)",
      "Cell \u001b[0;32mIn[32], line 3\u001b[0m\n\u001b[1;32m      1\u001b[0m \u001b[38;5;66;03m# Transpile the circuit for the qasm simulator\u001b[39;00m\n\u001b[0;32m----> 3\u001b[0m qc \u001b[38;5;241m=\u001b[39m \u001b[43mcirc\u001b[49m\n\u001b[1;32m      5\u001b[0m simulator \u001b[38;5;241m=\u001b[39m Aer\u001b[38;5;241m.\u001b[39mget_backend(\u001b[38;5;124m'\u001b[39m\u001b[38;5;124mqasm_simulator\u001b[39m\u001b[38;5;124m'\u001b[39m)\n\u001b[1;32m      6\u001b[0m transpiled_circuit \u001b[38;5;241m=\u001b[39m transpile(qc, backend\u001b[38;5;241m=\u001b[39msimulator)\n",
      "\u001b[0;31mNameError\u001b[0m: name 'circ' is not defined"
     ]
    }
   ],
   "source": [
    "# Transpile the circuit for the qasm simulator\n",
    "\n",
    "qc = circ\n",
    "\n",
    "simulator = Aer.get_backend('qasm_simulator')\n",
    "transpiled_circuit = transpile(qc, backend=simulator)\n",
    "\n",
    "# Simulate the circuit\n",
    "job = simulator.run(transpiled_circuit, shots=1024)\n",
    "result = job.result()\n",
    "counts = result.get_counts()\n",
    "\n",
    "# Display the measurement results\n",
    "print(\"Measurement results:\")\n",
    "print(counts)\n",
    "\n",
    "# # Calculate expectation values of stabilizers\n",
    "# stabilizers = get_stabilizers(Hx, 'X') + get_stabilizers(Hz, 'Z')\n",
    "\n",
    "\n",
    "# print(\"\\nStabilizer operators:\")\n",
    "# print(stabilizers)\n",
    "\n",
    "# # Expectation value calculation\n",
    "# expectation_values = {}\n",
    "# for stabilizer in stabilizers:\n",
    "#     pauli_op = SparsePauliOp.from_list([(stabilizer, 1)])\n",
    "#     exp_val = result.get_counts(qc)\n",
    "#     expectation_values[stabilizer] = exp_val\n",
    "\n",
    "# print(\"\\nExpectation values:\")\n",
    "# for stabilizer, value in expectation_values.items():\n",
    "#     print(f\"{stabilizer}: {value}\")"
   ]
  },
  {
   "cell_type": "code",
   "execution_count": 35,
   "id": "758bd9f3",
   "metadata": {},
   "outputs": [
    {
     "ename": "ImportError",
     "evalue": "cannot import name 'broadcast_to' from 'numpy.lib.stride_tricks' (/Users/henridubourg/Library/Mobile Documents/com~apple~CloudDocs/Columbia/Courses/Quantum Error Correction/Project/qiskit_env/lib/python3.13/site-packages/numpy/lib/stride_tricks.py)",
     "output_type": "error",
     "traceback": [
      "\u001b[0;31m---------------------------------------------------------------------------\u001b[0m",
      "\u001b[0;31mImportError\u001b[0m                               Traceback (most recent call last)",
      "Cell \u001b[0;32mIn[35], line 1\u001b[0m\n\u001b[0;32m----> 1\u001b[0m \u001b[38;5;28;01mimport\u001b[39;00m \u001b[38;5;21;01mldpc\u001b[39;00m\u001b[38;5;21;01m.\u001b[39;00m\u001b[38;5;21;01mcodes\u001b[39;00m\n\u001b[1;32m      2\u001b[0m \u001b[38;5;28;01mfrom\u001b[39;00m \u001b[38;5;21;01mldpc\u001b[39;00m \u001b[38;5;28;01mimport\u001b[39;00m BpOsdDecoder\n",
      "File \u001b[0;32m~/Library/Mobile Documents/com~apple~CloudDocs/Columbia/Courses/Quantum Error Correction/Project/qiskit_env/lib/python3.13/site-packages/ldpc/__init__.py:5\u001b[0m\n\u001b[1;32m      1\u001b[0m \u001b[38;5;28;01mimport\u001b[39;00m \u001b[38;5;21;01mimportlib\u001b[39;00m\u001b[38;5;21;01m.\u001b[39;00m\u001b[38;5;21;01mmetadata\u001b[39;00m\n\u001b[1;32m      3\u001b[0m __version__ \u001b[38;5;241m=\u001b[39m importlib\u001b[38;5;241m.\u001b[39mmetadata\u001b[38;5;241m.\u001b[39mversion(\u001b[38;5;124m\"\u001b[39m\u001b[38;5;124mldpc\u001b[39m\u001b[38;5;124m\"\u001b[39m)\n\u001b[0;32m----> 5\u001b[0m \u001b[38;5;28;01mfrom\u001b[39;00m \u001b[38;5;21;01mldpc\u001b[39;00m\u001b[38;5;21;01m.\u001b[39;00m\u001b[38;5;21;01mbp_decoder\u001b[39;00m \u001b[38;5;28;01mimport\u001b[39;00m BpDecoder\n\u001b[1;32m      6\u001b[0m \u001b[38;5;28;01mfrom\u001b[39;00m \u001b[38;5;21;01mldpc\u001b[39;00m\u001b[38;5;21;01m.\u001b[39;00m\u001b[38;5;21;01mbposd_decoder\u001b[39;00m \u001b[38;5;28;01mimport\u001b[39;00m BpOsdDecoder\n\u001b[1;32m      7\u001b[0m \u001b[38;5;28;01mfrom\u001b[39;00m \u001b[38;5;21;01mldpc\u001b[39;00m\u001b[38;5;21;01m.\u001b[39;00m\u001b[38;5;21;01mbp_decoder\u001b[39;00m \u001b[38;5;28;01mimport\u001b[39;00m SoftInfoBpDecoder\n",
      "File \u001b[0;32m~/Library/Mobile Documents/com~apple~CloudDocs/Columbia/Courses/Quantum Error Correction/Project/qiskit_env/lib/python3.13/site-packages/ldpc/bp_decoder/__init__.py:1\u001b[0m\n\u001b[0;32m----> 1\u001b[0m \u001b[38;5;28;01mfrom\u001b[39;00m \u001b[38;5;21;01mldpc\u001b[39;00m\u001b[38;5;21;01m.\u001b[39;00m\u001b[38;5;21;01mbp_decoder\u001b[39;00m\u001b[38;5;21;01m.\u001b[39;00m\u001b[38;5;21;01m_bp_decoder\u001b[39;00m \u001b[38;5;28;01mimport\u001b[39;00m BpDecoder, SoftInfoBpDecoder, io_test, BpDecoderBase\n\u001b[1;32m      2\u001b[0m \u001b[38;5;28;01mfrom\u001b[39;00m \u001b[38;5;21;01mldpc\u001b[39;00m\u001b[38;5;21;01m.\u001b[39;00m\u001b[38;5;21;01m_legacy_ldpc_v1\u001b[39;00m\u001b[38;5;21;01m.\u001b[39;00m\u001b[38;5;21;01m_legacy_bp_decoder\u001b[39;00m \u001b[38;5;28;01mimport\u001b[39;00m bp_decoder\n",
      "File \u001b[0;32msrc_python/ldpc/bp_decoder/_bp_decoder.pyx:4\u001b[0m, in \u001b[0;36minit ldpc.bp_decoder._bp_decoder\u001b[0;34m()\u001b[0m\n",
      "File \u001b[0;32m~/Library/Mobile Documents/com~apple~CloudDocs/Columbia/Courses/Quantum Error Correction/Project/qiskit_env/lib/python3.13/site-packages/scipy/sparse/__init__.py:293\u001b[0m\n\u001b[1;32m    287\u001b[0m \u001b[38;5;66;03m# Original code by Travis Oliphant.\u001b[39;00m\n\u001b[1;32m    288\u001b[0m \u001b[38;5;66;03m# Modified and extended by Ed Schofield, Robert Cimrman,\u001b[39;00m\n\u001b[1;32m    289\u001b[0m \u001b[38;5;66;03m# Nathan Bell, and Jake Vanderplas.\u001b[39;00m\n\u001b[1;32m    291\u001b[0m \u001b[38;5;28;01mimport\u001b[39;00m \u001b[38;5;21;01mwarnings\u001b[39;00m \u001b[38;5;28;01mas\u001b[39;00m \u001b[38;5;21;01m_warnings\u001b[39;00m\n\u001b[0;32m--> 293\u001b[0m \u001b[38;5;28;01mfrom\u001b[39;00m \u001b[38;5;21;01m.\u001b[39;00m\u001b[38;5;21;01m_base\u001b[39;00m \u001b[38;5;28;01mimport\u001b[39;00m \u001b[38;5;241m*\u001b[39m\n\u001b[1;32m    294\u001b[0m \u001b[38;5;28;01mfrom\u001b[39;00m \u001b[38;5;21;01m.\u001b[39;00m\u001b[38;5;21;01m_csr\u001b[39;00m \u001b[38;5;28;01mimport\u001b[39;00m \u001b[38;5;241m*\u001b[39m\n\u001b[1;32m    295\u001b[0m \u001b[38;5;28;01mfrom\u001b[39;00m \u001b[38;5;21;01m.\u001b[39;00m\u001b[38;5;21;01m_csc\u001b[39;00m \u001b[38;5;28;01mimport\u001b[39;00m \u001b[38;5;241m*\u001b[39m\n",
      "File \u001b[0;32m~/Library/Mobile Documents/com~apple~CloudDocs/Columbia/Courses/Quantum Error Correction/Project/qiskit_env/lib/python3.13/site-packages/scipy/sparse/_base.py:5\u001b[0m\n\u001b[1;32m      1\u001b[0m \u001b[38;5;124;03m\"\"\"Base class for sparse matrices\"\"\"\u001b[39;00m\n\u001b[1;32m      3\u001b[0m \u001b[38;5;28;01mimport\u001b[39;00m \u001b[38;5;21;01mnumpy\u001b[39;00m \u001b[38;5;28;01mas\u001b[39;00m \u001b[38;5;21;01mnp\u001b[39;00m\n\u001b[0;32m----> 5\u001b[0m \u001b[38;5;28;01mfrom\u001b[39;00m \u001b[38;5;21;01m.\u001b[39;00m\u001b[38;5;21;01m_sputils\u001b[39;00m \u001b[38;5;28;01mimport\u001b[39;00m (asmatrix, check_reshape_kwargs, check_shape,\n\u001b[1;32m      6\u001b[0m                        get_sum_dtype, isdense, isscalarlike,\n\u001b[1;32m      7\u001b[0m                        matrix, validateaxis,)\n\u001b[1;32m      9\u001b[0m \u001b[38;5;28;01mfrom\u001b[39;00m \u001b[38;5;21;01m.\u001b[39;00m\u001b[38;5;21;01m_matrix\u001b[39;00m \u001b[38;5;28;01mimport\u001b[39;00m spmatrix\n\u001b[1;32m     11\u001b[0m __all__ \u001b[38;5;241m=\u001b[39m [\u001b[38;5;124m'\u001b[39m\u001b[38;5;124misspmatrix\u001b[39m\u001b[38;5;124m'\u001b[39m, \u001b[38;5;124m'\u001b[39m\u001b[38;5;124missparse\u001b[39m\u001b[38;5;124m'\u001b[39m, \u001b[38;5;124m'\u001b[39m\u001b[38;5;124msparray\u001b[39m\u001b[38;5;124m'\u001b[39m,\n\u001b[1;32m     12\u001b[0m            \u001b[38;5;124m'\u001b[39m\u001b[38;5;124mSparseWarning\u001b[39m\u001b[38;5;124m'\u001b[39m, \u001b[38;5;124m'\u001b[39m\u001b[38;5;124mSparseEfficiencyWarning\u001b[39m\u001b[38;5;124m'\u001b[39m]\n",
      "File \u001b[0;32m~/Library/Mobile Documents/com~apple~CloudDocs/Columbia/Courses/Quantum Error Correction/Project/qiskit_env/lib/python3.13/site-packages/scipy/sparse/_sputils.py:10\u001b[0m\n\u001b[1;32m      8\u001b[0m \u001b[38;5;28;01mfrom\u001b[39;00m \u001b[38;5;21;01mmath\u001b[39;00m \u001b[38;5;28;01mimport\u001b[39;00m prod\n\u001b[1;32m      9\u001b[0m \u001b[38;5;28;01mimport\u001b[39;00m \u001b[38;5;21;01mscipy\u001b[39;00m\u001b[38;5;21;01m.\u001b[39;00m\u001b[38;5;21;01msparse\u001b[39;00m \u001b[38;5;28;01mas\u001b[39;00m \u001b[38;5;21;01msp\u001b[39;00m\n\u001b[0;32m---> 10\u001b[0m \u001b[38;5;28;01mfrom\u001b[39;00m \u001b[38;5;21;01mscipy\u001b[39;00m\u001b[38;5;21;01m.\u001b[39;00m\u001b[38;5;21;01m_lib\u001b[39;00m\u001b[38;5;21;01m.\u001b[39;00m\u001b[38;5;21;01m_util\u001b[39;00m \u001b[38;5;28;01mimport\u001b[39;00m np_long, np_ulong\n\u001b[1;32m     13\u001b[0m __all__ \u001b[38;5;241m=\u001b[39m [\u001b[38;5;124m'\u001b[39m\u001b[38;5;124mupcast\u001b[39m\u001b[38;5;124m'\u001b[39m, \u001b[38;5;124m'\u001b[39m\u001b[38;5;124mgetdtype\u001b[39m\u001b[38;5;124m'\u001b[39m, \u001b[38;5;124m'\u001b[39m\u001b[38;5;124mgetdata\u001b[39m\u001b[38;5;124m'\u001b[39m, \u001b[38;5;124m'\u001b[39m\u001b[38;5;124misscalarlike\u001b[39m\u001b[38;5;124m'\u001b[39m, \u001b[38;5;124m'\u001b[39m\u001b[38;5;124misintlike\u001b[39m\u001b[38;5;124m'\u001b[39m,\n\u001b[1;32m     14\u001b[0m            \u001b[38;5;124m'\u001b[39m\u001b[38;5;124misshape\u001b[39m\u001b[38;5;124m'\u001b[39m, \u001b[38;5;124m'\u001b[39m\u001b[38;5;124missequence\u001b[39m\u001b[38;5;124m'\u001b[39m, \u001b[38;5;124m'\u001b[39m\u001b[38;5;124misdense\u001b[39m\u001b[38;5;124m'\u001b[39m, \u001b[38;5;124m'\u001b[39m\u001b[38;5;124mismatrix\u001b[39m\u001b[38;5;124m'\u001b[39m, \u001b[38;5;124m'\u001b[39m\u001b[38;5;124mget_sum_dtype\u001b[39m\u001b[38;5;124m'\u001b[39m]\n\u001b[1;32m     16\u001b[0m supported_dtypes \u001b[38;5;241m=\u001b[39m [np\u001b[38;5;241m.\u001b[39mbool_, np\u001b[38;5;241m.\u001b[39mbyte, np\u001b[38;5;241m.\u001b[39mubyte, np\u001b[38;5;241m.\u001b[39mshort, np\u001b[38;5;241m.\u001b[39mushort, np\u001b[38;5;241m.\u001b[39mintc,\n\u001b[1;32m     17\u001b[0m                     np\u001b[38;5;241m.\u001b[39muintc, np_long, np_ulong, np\u001b[38;5;241m.\u001b[39mlonglong, np\u001b[38;5;241m.\u001b[39mulonglong,\n\u001b[1;32m     18\u001b[0m                     np\u001b[38;5;241m.\u001b[39mfloat32, np\u001b[38;5;241m.\u001b[39mfloat64, np\u001b[38;5;241m.\u001b[39mlongdouble, \n\u001b[1;32m     19\u001b[0m                     np\u001b[38;5;241m.\u001b[39mcomplex64, np\u001b[38;5;241m.\u001b[39mcomplex128, np\u001b[38;5;241m.\u001b[39mclongdouble]\n",
      "File \u001b[0;32m~/Library/Mobile Documents/com~apple~CloudDocs/Columbia/Courses/Quantum Error Correction/Project/qiskit_env/lib/python3.13/site-packages/scipy/_lib/_util.py:18\u001b[0m\n\u001b[1;32m     10\u001b[0m \u001b[38;5;28;01mfrom\u001b[39;00m \u001b[38;5;21;01mtyping\u001b[39;00m \u001b[38;5;28;01mimport\u001b[39;00m (\n\u001b[1;32m     11\u001b[0m     Optional,\n\u001b[1;32m     12\u001b[0m     Union,\n\u001b[1;32m     13\u001b[0m     TYPE_CHECKING,\n\u001b[1;32m     14\u001b[0m     TypeVar,\n\u001b[1;32m     15\u001b[0m )\n\u001b[1;32m     17\u001b[0m \u001b[38;5;28;01mimport\u001b[39;00m \u001b[38;5;21;01mnumpy\u001b[39;00m \u001b[38;5;28;01mas\u001b[39;00m \u001b[38;5;21;01mnp\u001b[39;00m\n\u001b[0;32m---> 18\u001b[0m \u001b[38;5;28;01mfrom\u001b[39;00m \u001b[38;5;21;01mscipy\u001b[39;00m\u001b[38;5;21;01m.\u001b[39;00m\u001b[38;5;21;01m_lib\u001b[39;00m\u001b[38;5;21;01m.\u001b[39;00m\u001b[38;5;21;01m_array_api\u001b[39;00m \u001b[38;5;28;01mimport\u001b[39;00m array_namespace, is_numpy, size \u001b[38;5;28;01mas\u001b[39;00m xp_size\n\u001b[1;32m     21\u001b[0m AxisError: \u001b[38;5;28mtype\u001b[39m[\u001b[38;5;167;01mException\u001b[39;00m]\n\u001b[1;32m     22\u001b[0m ComplexWarning: \u001b[38;5;28mtype\u001b[39m[\u001b[38;5;167;01mWarning\u001b[39;00m]\n",
      "File \u001b[0;32m~/Library/Mobile Documents/com~apple~CloudDocs/Columbia/Courses/Quantum Error Correction/Project/qiskit_env/lib/python3.13/site-packages/scipy/_lib/_array_api.py:21\u001b[0m\n\u001b[1;32m     18\u001b[0m \u001b[38;5;28;01mimport\u001b[39;00m \u001b[38;5;21;01mnumpy\u001b[39;00m\u001b[38;5;21;01m.\u001b[39;00m\u001b[38;5;21;01mtyping\u001b[39;00m \u001b[38;5;28;01mas\u001b[39;00m \u001b[38;5;21;01mnpt\u001b[39;00m\n\u001b[1;32m     20\u001b[0m \u001b[38;5;28;01mfrom\u001b[39;00m \u001b[38;5;21;01mscipy\u001b[39;00m\u001b[38;5;21;01m.\u001b[39;00m\u001b[38;5;21;01m_lib\u001b[39;00m \u001b[38;5;28;01mimport\u001b[39;00m array_api_compat\n\u001b[0;32m---> 21\u001b[0m \u001b[38;5;28;01mfrom\u001b[39;00m \u001b[38;5;21;01mscipy\u001b[39;00m\u001b[38;5;21;01m.\u001b[39;00m\u001b[38;5;21;01m_lib\u001b[39;00m\u001b[38;5;21;01m.\u001b[39;00m\u001b[38;5;21;01marray_api_compat\u001b[39;00m \u001b[38;5;28;01mimport\u001b[39;00m (\n\u001b[1;32m     22\u001b[0m     is_array_api_obj,\n\u001b[1;32m     23\u001b[0m     size,\n\u001b[1;32m     24\u001b[0m     numpy \u001b[38;5;28;01mas\u001b[39;00m np_compat,\n\u001b[1;32m     25\u001b[0m     device\n\u001b[1;32m     26\u001b[0m )\n\u001b[1;32m     28\u001b[0m __all__ \u001b[38;5;241m=\u001b[39m [\u001b[38;5;124m'\u001b[39m\u001b[38;5;124marray_namespace\u001b[39m\u001b[38;5;124m'\u001b[39m, \u001b[38;5;124m'\u001b[39m\u001b[38;5;124m_asarray\u001b[39m\u001b[38;5;124m'\u001b[39m, \u001b[38;5;124m'\u001b[39m\u001b[38;5;124msize\u001b[39m\u001b[38;5;124m'\u001b[39m, \u001b[38;5;124m'\u001b[39m\u001b[38;5;124mdevice\u001b[39m\u001b[38;5;124m'\u001b[39m]\n\u001b[1;32m     31\u001b[0m \u001b[38;5;66;03m# To enable array API and strict array-like input validation\u001b[39;00m\n",
      "File \u001b[0;32m~/Library/Mobile Documents/com~apple~CloudDocs/Columbia/Courses/Quantum Error Correction/Project/qiskit_env/lib/python3.13/site-packages/scipy/_lib/array_api_compat/numpy/__init__.py:1\u001b[0m\n\u001b[0;32m----> 1\u001b[0m \u001b[38;5;28;01mfrom\u001b[39;00m \u001b[38;5;21;01mnumpy\u001b[39;00m \u001b[38;5;28;01mimport\u001b[39;00m \u001b[38;5;241m*\u001b[39m \u001b[38;5;66;03m# noqa: F403\u001b[39;00m\n\u001b[1;32m      3\u001b[0m \u001b[38;5;66;03m# from numpy import * doesn't overwrite these builtin names\u001b[39;00m\n\u001b[1;32m      4\u001b[0m \u001b[38;5;28;01mfrom\u001b[39;00m \u001b[38;5;21;01mnumpy\u001b[39;00m \u001b[38;5;28;01mimport\u001b[39;00m \u001b[38;5;28mabs\u001b[39m, \u001b[38;5;28mmax\u001b[39m, \u001b[38;5;28mmin\u001b[39m, \u001b[38;5;28mround\u001b[39m \u001b[38;5;66;03m# noqa: F401\u001b[39;00m\n",
      "File \u001b[0;32m~/Library/Mobile Documents/com~apple~CloudDocs/Columbia/Courses/Quantum Error Correction/Project/qiskit_env/lib/python3.13/site-packages/numpy/__init__.py:346\u001b[0m, in \u001b[0;36m__getattr__\u001b[0;34m(attr)\u001b[0m\n\u001b[1;32m    338\u001b[0m     public_symbols -= {\n\u001b[1;32m    339\u001b[0m         \"core\", \"matrixlib\",\n\u001b[1;32m    340\u001b[0m         # These were moved in 1.25 and may be deprecated eventually:\n\u001b[1;32m    341\u001b[0m         \"ModuleDeprecationWarning\", \"VisibleDeprecationWarning\",\n\u001b[1;32m    342\u001b[0m         \"ComplexWarning\", \"TooHardError\", \"AxisError\"\n\u001b[1;32m    343\u001b[0m     }\n\u001b[1;32m    344\u001b[0m     return list(public_symbols)\n\u001b[0;32m--> 346\u001b[0m # Pytest testing\n\u001b[1;32m    347\u001b[0m from numpy._pytesttester import PytestTester\n\u001b[1;32m    348\u001b[0m test = PytestTester(__name__)\n",
      "File \u001b[0;32m~/Library/Mobile Documents/com~apple~CloudDocs/Columbia/Courses/Quantum Error Correction/Project/qiskit_env/lib/python3.13/site-packages/numpy/ma/__init__.py:42\u001b[0m\n\u001b[1;32m      1\u001b[0m \u001b[38;5;124;03m\"\"\"\u001b[39;00m\n\u001b[1;32m      2\u001b[0m \u001b[38;5;124;03m=============\u001b[39;00m\n\u001b[1;32m      3\u001b[0m \u001b[38;5;124;03mMasked Arrays\u001b[39;00m\n\u001b[0;32m   (...)\u001b[0m\n\u001b[1;32m     40\u001b[0m \n\u001b[1;32m     41\u001b[0m \u001b[38;5;124;03m\"\"\"\u001b[39;00m\n\u001b[0;32m---> 42\u001b[0m \u001b[38;5;28;01mfrom\u001b[39;00m \u001b[38;5;21;01m.\u001b[39;00m \u001b[38;5;28;01mimport\u001b[39;00m core\n\u001b[1;32m     43\u001b[0m \u001b[38;5;28;01mfrom\u001b[39;00m \u001b[38;5;21;01m.\u001b[39;00m\u001b[38;5;21;01mcore\u001b[39;00m \u001b[38;5;28;01mimport\u001b[39;00m \u001b[38;5;241m*\u001b[39m\n\u001b[1;32m     45\u001b[0m \u001b[38;5;28;01mfrom\u001b[39;00m \u001b[38;5;21;01m.\u001b[39;00m \u001b[38;5;28;01mimport\u001b[39;00m extras\n",
      "File \u001b[0;32m~/Library/Mobile Documents/com~apple~CloudDocs/Columbia/Courses/Quantum Error Correction/Project/qiskit_env/lib/python3.13/site-packages/numpy/ma/core.py:37\u001b[0m\n\u001b[1;32m     35\u001b[0m \u001b[38;5;28;01mfrom\u001b[39;00m \u001b[38;5;21;01mnumpy\u001b[39;00m \u001b[38;5;28;01mimport\u001b[39;00m ndarray, amax, amin, iscomplexobj, bool_, _NoValue\n\u001b[1;32m     36\u001b[0m \u001b[38;5;28;01mfrom\u001b[39;00m \u001b[38;5;21;01mnumpy\u001b[39;00m \u001b[38;5;28;01mimport\u001b[39;00m array \u001b[38;5;28;01mas\u001b[39;00m narray\n\u001b[0;32m---> 37\u001b[0m \u001b[38;5;28;01mfrom\u001b[39;00m \u001b[38;5;21;01mnumpy\u001b[39;00m\u001b[38;5;21;01m.\u001b[39;00m\u001b[38;5;21;01mlib\u001b[39;00m\u001b[38;5;21;01m.\u001b[39;00m\u001b[38;5;21;01mfunction_base\u001b[39;00m \u001b[38;5;28;01mimport\u001b[39;00m angle\n\u001b[1;32m     38\u001b[0m \u001b[38;5;28;01mfrom\u001b[39;00m \u001b[38;5;21;01mnumpy\u001b[39;00m\u001b[38;5;21;01m.\u001b[39;00m\u001b[38;5;21;01mcompat\u001b[39;00m \u001b[38;5;28;01mimport\u001b[39;00m (\n\u001b[1;32m     39\u001b[0m     getargspec, formatargspec, long, unicode, \u001b[38;5;28mbytes\u001b[39m\n\u001b[1;32m     40\u001b[0m     )\n\u001b[1;32m     41\u001b[0m \u001b[38;5;28;01mfrom\u001b[39;00m \u001b[38;5;21;01mnumpy\u001b[39;00m \u001b[38;5;28;01mimport\u001b[39;00m expand_dims\n",
      "File \u001b[0;32m~/Library/Mobile Documents/com~apple~CloudDocs/Columbia/Courses/Quantum Error Correction/Project/qiskit_env/lib/python3.13/site-packages/numpy/lib/function_base.py:25\u001b[0m\n\u001b[1;32m     23\u001b[0m \u001b[38;5;28;01mfrom\u001b[39;00m \u001b[38;5;21;01mnumpy\u001b[39;00m\u001b[38;5;21;01m.\u001b[39;00m\u001b[38;5;21;01mcore\u001b[39;00m \u001b[38;5;28;01mimport\u001b[39;00m overrides\n\u001b[1;32m     24\u001b[0m \u001b[38;5;28;01mfrom\u001b[39;00m \u001b[38;5;21;01mnumpy\u001b[39;00m\u001b[38;5;21;01m.\u001b[39;00m\u001b[38;5;21;01mcore\u001b[39;00m\u001b[38;5;21;01m.\u001b[39;00m\u001b[38;5;21;01mfunction_base\u001b[39;00m \u001b[38;5;28;01mimport\u001b[39;00m add_newdoc\n\u001b[0;32m---> 25\u001b[0m \u001b[38;5;28;01mfrom\u001b[39;00m \u001b[38;5;21;01mnumpy\u001b[39;00m\u001b[38;5;21;01m.\u001b[39;00m\u001b[38;5;21;01mlib\u001b[39;00m\u001b[38;5;21;01m.\u001b[39;00m\u001b[38;5;21;01mtwodim_base\u001b[39;00m \u001b[38;5;28;01mimport\u001b[39;00m diag\n\u001b[1;32m     26\u001b[0m \u001b[38;5;28;01mfrom\u001b[39;00m \u001b[38;5;21;01mnumpy\u001b[39;00m\u001b[38;5;21;01m.\u001b[39;00m\u001b[38;5;21;01mcore\u001b[39;00m\u001b[38;5;21;01m.\u001b[39;00m\u001b[38;5;21;01mmultiarray\u001b[39;00m \u001b[38;5;28;01mimport\u001b[39;00m (\n\u001b[1;32m     27\u001b[0m     _place, add_docstring, bincount, normalize_axis_index, _monotonicity,\n\u001b[1;32m     28\u001b[0m     interp \u001b[38;5;28;01mas\u001b[39;00m compiled_interp, interp_complex \u001b[38;5;28;01mas\u001b[39;00m compiled_interp_complex\n\u001b[1;32m     29\u001b[0m     )\n\u001b[1;32m     30\u001b[0m \u001b[38;5;28;01mfrom\u001b[39;00m \u001b[38;5;21;01mnumpy\u001b[39;00m\u001b[38;5;21;01m.\u001b[39;00m\u001b[38;5;21;01mcore\u001b[39;00m\u001b[38;5;21;01m.\u001b[39;00m\u001b[38;5;21;01mumath\u001b[39;00m \u001b[38;5;28;01mimport\u001b[39;00m _add_newdoc_ufunc \u001b[38;5;28;01mas\u001b[39;00m add_newdoc_ufunc\n",
      "File \u001b[0;32m~/Library/Mobile Documents/com~apple~CloudDocs/Columbia/Courses/Quantum Error Correction/Project/qiskit_env/lib/python3.13/site-packages/numpy/lib/twodim_base.py:15\u001b[0m\n\u001b[1;32m     13\u001b[0m \u001b[38;5;28;01mfrom\u001b[39;00m \u001b[38;5;21;01mnumpy\u001b[39;00m\u001b[38;5;21;01m.\u001b[39;00m\u001b[38;5;21;01mcore\u001b[39;00m \u001b[38;5;28;01mimport\u001b[39;00m overrides\n\u001b[1;32m     14\u001b[0m \u001b[38;5;28;01mfrom\u001b[39;00m \u001b[38;5;21;01mnumpy\u001b[39;00m\u001b[38;5;21;01m.\u001b[39;00m\u001b[38;5;21;01mcore\u001b[39;00m \u001b[38;5;28;01mimport\u001b[39;00m iinfo\n\u001b[0;32m---> 15\u001b[0m \u001b[38;5;28;01mfrom\u001b[39;00m \u001b[38;5;21;01mnumpy\u001b[39;00m\u001b[38;5;21;01m.\u001b[39;00m\u001b[38;5;21;01mlib\u001b[39;00m\u001b[38;5;21;01m.\u001b[39;00m\u001b[38;5;21;01mstride_tricks\u001b[39;00m \u001b[38;5;28;01mimport\u001b[39;00m broadcast_to\n\u001b[1;32m     18\u001b[0m __all__ \u001b[38;5;241m=\u001b[39m [\n\u001b[1;32m     19\u001b[0m     \u001b[38;5;124m'\u001b[39m\u001b[38;5;124mdiag\u001b[39m\u001b[38;5;124m'\u001b[39m, \u001b[38;5;124m'\u001b[39m\u001b[38;5;124mdiagflat\u001b[39m\u001b[38;5;124m'\u001b[39m, \u001b[38;5;124m'\u001b[39m\u001b[38;5;124meye\u001b[39m\u001b[38;5;124m'\u001b[39m, \u001b[38;5;124m'\u001b[39m\u001b[38;5;124mfliplr\u001b[39m\u001b[38;5;124m'\u001b[39m, \u001b[38;5;124m'\u001b[39m\u001b[38;5;124mflipud\u001b[39m\u001b[38;5;124m'\u001b[39m, \u001b[38;5;124m'\u001b[39m\u001b[38;5;124mtri\u001b[39m\u001b[38;5;124m'\u001b[39m, \u001b[38;5;124m'\u001b[39m\u001b[38;5;124mtriu\u001b[39m\u001b[38;5;124m'\u001b[39m,\n\u001b[1;32m     20\u001b[0m     \u001b[38;5;124m'\u001b[39m\u001b[38;5;124mtril\u001b[39m\u001b[38;5;124m'\u001b[39m, \u001b[38;5;124m'\u001b[39m\u001b[38;5;124mvander\u001b[39m\u001b[38;5;124m'\u001b[39m, \u001b[38;5;124m'\u001b[39m\u001b[38;5;124mhistogram2d\u001b[39m\u001b[38;5;124m'\u001b[39m, \u001b[38;5;124m'\u001b[39m\u001b[38;5;124mmask_indices\u001b[39m\u001b[38;5;124m'\u001b[39m, \u001b[38;5;124m'\u001b[39m\u001b[38;5;124mtril_indices\u001b[39m\u001b[38;5;124m'\u001b[39m,\n\u001b[1;32m     21\u001b[0m     \u001b[38;5;124m'\u001b[39m\u001b[38;5;124mtril_indices_from\u001b[39m\u001b[38;5;124m'\u001b[39m, \u001b[38;5;124m'\u001b[39m\u001b[38;5;124mtriu_indices\u001b[39m\u001b[38;5;124m'\u001b[39m, \u001b[38;5;124m'\u001b[39m\u001b[38;5;124mtriu_indices_from\u001b[39m\u001b[38;5;124m'\u001b[39m, ]\n\u001b[1;32m     24\u001b[0m array_function_dispatch \u001b[38;5;241m=\u001b[39m functools\u001b[38;5;241m.\u001b[39mpartial(\n\u001b[1;32m     25\u001b[0m     overrides\u001b[38;5;241m.\u001b[39marray_function_dispatch, module\u001b[38;5;241m=\u001b[39m\u001b[38;5;124m'\u001b[39m\u001b[38;5;124mnumpy\u001b[39m\u001b[38;5;124m'\u001b[39m)\n",
      "\u001b[0;31mImportError\u001b[0m: cannot import name 'broadcast_to' from 'numpy.lib.stride_tricks' (/Users/henridubourg/Library/Mobile Documents/com~apple~CloudDocs/Columbia/Courses/Quantum Error Correction/Project/qiskit_env/lib/python3.13/site-packages/numpy/lib/stride_tricks.py)"
     ]
    }
   ],
   "source": [
    "import ldpc.codes\n",
    "from ldpc import BpOsdDecoder\n"
   ]
  },
  {
   "cell_type": "code",
   "execution_count": 36,
   "id": "8a1e0518",
   "metadata": {},
   "outputs": [
    {
     "ename": "NameError",
     "evalue": "name 'BpOsdDecoder' is not defined",
     "output_type": "error",
     "traceback": [
      "\u001b[0;31m---------------------------------------------------------------------------\u001b[0m",
      "\u001b[0;31mNameError\u001b[0m                                 Traceback (most recent call last)",
      "Cell \u001b[0;32mIn[36], line 1\u001b[0m\n\u001b[0;32m----> 1\u001b[0m bp_osd \u001b[38;5;241m=\u001b[39m \u001b[43mBpOsdDecoder\u001b[49m(\n\u001b[1;32m      2\u001b[0m             H0,\n\u001b[1;32m      3\u001b[0m             error_rate \u001b[38;5;241m=\u001b[39m \u001b[38;5;241m0.05\u001b[39m,\n\u001b[1;32m      4\u001b[0m             bp_method \u001b[38;5;241m=\u001b[39m \u001b[38;5;124m'\u001b[39m\u001b[38;5;124mproduct_sum\u001b[39m\u001b[38;5;124m'\u001b[39m,\n\u001b[1;32m      5\u001b[0m             max_iter \u001b[38;5;241m=\u001b[39m \u001b[38;5;241m15\u001b[39m,\n\u001b[1;32m      6\u001b[0m             schedule \u001b[38;5;241m=\u001b[39m \u001b[38;5;124m'\u001b[39m\u001b[38;5;124mserial\u001b[39m\u001b[38;5;124m'\u001b[39m,\n\u001b[1;32m      7\u001b[0m             osd_method \u001b[38;5;241m=\u001b[39m \u001b[38;5;124m'\u001b[39m\u001b[38;5;124mosd_cs\u001b[39m\u001b[38;5;124m'\u001b[39m, \u001b[38;5;66;03m#set to OSD_0 for fast solve\u001b[39;00m\n\u001b[1;32m      8\u001b[0m             osd_order \u001b[38;5;241m=\u001b[39m \u001b[38;5;241m2\u001b[39m\n\u001b[1;32m      9\u001b[0m         )\n\u001b[1;32m     11\u001b[0m syndrome \u001b[38;5;241m=\u001b[39m np\u001b[38;5;241m.\u001b[39marray([\u001b[38;5;241m0\u001b[39m,\u001b[38;5;241m0\u001b[39m,\u001b[38;5;241m0\u001b[39m,\u001b[38;5;241m0\u001b[39m,\u001b[38;5;241m0\u001b[39m,\u001b[38;5;241m0\u001b[39m,\u001b[38;5;241m0\u001b[39m,\u001b[38;5;241m1\u001b[39m])\n\u001b[1;32m     13\u001b[0m \u001b[38;5;28mprint\u001b[39m(\u001b[38;5;124mf\u001b[39m\u001b[38;5;124m\"\u001b[39m\u001b[38;5;124mSyndrome: \u001b[39m\u001b[38;5;132;01m{\u001b[39;00msyndrome\u001b[38;5;132;01m}\u001b[39;00m\u001b[38;5;124m\"\u001b[39m)\n",
      "\u001b[0;31mNameError\u001b[0m: name 'BpOsdDecoder' is not defined"
     ]
    }
   ],
   "source": [
    "\n",
    "bp_osd = BpOsdDecoder(\n",
    "            H0,\n",
    "            error_rate = 0.05,\n",
    "            bp_method = 'product_sum',\n",
    "            max_iter = 15,\n",
    "            schedule = 'serial',\n",
    "            osd_method = 'osd_cs', #set to OSD_0 for fast solve\n",
    "            osd_order = 2\n",
    "        )\n",
    "\n",
    "syndrome = np.array([0,0,0,0,0,0,0,1])\n",
    "\n",
    "print(f\"Syndrome: {syndrome}\")\n",
    "decoding = bp_osd.decode(syndrome)\n",
    "print(f\"Decoding: {decoding}\")\n",
    "decoding_syndrome = H0@decoding % 2"
   ]
  },
  {
   "cell_type": "code",
   "execution_count": null,
   "id": "47dae235",
   "metadata": {
    "id": "47dae235",
    "outputId": "15a610b1-7f51-4fb0-d69a-431f917d6d04"
   },
   "outputs": [
    {
     "ename": "NameError",
     "evalue": "name 'stabilizers' is not defined",
     "output_type": "error",
     "traceback": [
      "\u001b[0;31m---------------------------------------------------------------------------\u001b[0m",
      "\u001b[0;31mNameError\u001b[0m                                 Traceback (most recent call last)",
      "Cell \u001b[0;32mIn[75], line 3\u001b[0m\n\u001b[1;32m      1\u001b[0m \u001b[38;5;66;03m# Adjust stabilizers to match the number of measured qubits\u001b[39;00m\n\u001b[1;32m      2\u001b[0m num_measured_qubits \u001b[38;5;241m=\u001b[39m \u001b[38;5;28mlen\u001b[39m(Hx) \u001b[38;5;241m+\u001b[39m \u001b[38;5;28mlen\u001b[39m(Hz)  \u001b[38;5;66;03m# Number of stabilizer measurements\u001b[39;00m\n\u001b[0;32m----> 3\u001b[0m aligned_stabilizers \u001b[38;5;241m=\u001b[39m [stabilizer[:num_measured_qubits] \u001b[38;5;28;01mfor\u001b[39;00m stabilizer \u001b[38;5;129;01min\u001b[39;00m \u001b[43mstabilizers\u001b[49m]\n\u001b[1;32m      5\u001b[0m \u001b[38;5;28;01mdef\u001b[39;00m \u001b[38;5;21mcompute_stabilizer_expectation\u001b[39m(counts, stabilizer):\n\u001b[1;32m      6\u001b[0m     expectation \u001b[38;5;241m=\u001b[39m \u001b[38;5;241m0\u001b[39m\n",
      "\u001b[0;31mNameError\u001b[0m: name 'stabilizers' is not defined"
     ]
    }
   ],
   "source": [
    "# Adjust stabilizers to match the number of measured qubits\n",
    "num_measured_qubits = len(Hx) + len(Hz)  # Number of stabilizer measurements\n",
    "aligned_stabilizers = [stabilizer[:num_measured_qubits] for stabilizer in stabilizers]\n",
    "\n",
    "def compute_stabilizer_expectation(counts, stabilizer):\n",
    "    expectation = 0\n",
    "    total_shots = sum(counts.values())\n",
    "\n",
    "    for bitstring, count in counts.items():\n",
    "        parity = 1\n",
    "        for i, char in enumerate(stabilizer[::-1]): #account for little endian-ness!\n",
    "            if char == 'X':\n",
    "                parity *= (-1) ** int(bitstring[i])\n",
    "            if char == 'Z':\n",
    "                parity *= (-1) ** int(bitstring[i])  # Flip sign based on bit value\n",
    "        expectation += parity * count\n",
    "\n",
    "    return expectation / total_shots\n",
    "\n",
    "# Compute expectation values for aligned stabilizers\n",
    "print(\"\\nStabilizer Expectation Values:\")\n",
    "for stabilizer in aligned_stabilizers:\n",
    "    expectation = compute_stabilizer_expectation(counts, stabilizer)\n",
    "    print(f\"{stabilizer}: {expectation}\")\n",
    "\n",
    "\n"
   ]
  },
  {
   "cell_type": "code",
   "execution_count": null,
   "id": "0f4a0426",
   "metadata": {
    "id": "0f4a0426",
    "outputId": "75779a1b-c288-4bbb-d037-b70ca317f129"
   },
   "outputs": [
    {
     "name": "stdout",
     "output_type": "stream",
     "text": [
      "Noisy simulation counts:\n",
      "{'00000100': 845, '00000101': 14, '00000000': 32, '00001100': 51, '00000110': 35, '00000111': 15, '00001001': 1, '00001101': 9, '00000010': 10, '00001110': 2, '00001000': 9, '00000001': 1}\n"
     ]
    }
   ],
   "source": [
    "###ok, let's try for noisy simulation\n",
    "# i removed params and replcaed it with None in pub\n",
    "\n",
    "from qiskit.quantum_info import SparsePauliOp\n",
    "from qiskit.transpiler.preset_passmanagers import generate_preset_pass_manager\n",
    "from qiskit_aer import AerSimulator\n",
    "from qiskit_aer.primitives import SamplerV2 as Sampler\n",
    "from qiskit_aer.noise import NoiseModel, depolarizing_error\n",
    "from qiskit import transpile\n",
    "\n",
    "# Define the noise model\n",
    "num_shots = 1024\n",
    "noise_model = NoiseModel()\n",
    "cx_depolarizing_prob = 0.02\n",
    "\n",
    "noise_model.add_all_qubit_quantum_error(\n",
    "    depolarizing_error(cx_depolarizing_prob, 2), [\"cx\"]\n",
    ")\n",
    "\n",
    "# Define the sampler with the noise model\n",
    "noisy_sampler = Sampler(\n",
    "    options=dict(backend_options=dict(noise_model=noise_model))\n",
    ")\n",
    "\n",
    "\n",
    "# Transpile the circuit for the AerSimulator\n",
    "simulator = AerSimulator()\n",
    "pass_manager = generate_preset_pass_manager(3, simulator)\n",
    "isa_circuit = pass_manager.run(qc)\n",
    "\n",
    "# Submit the job to the noisy sampler\n",
    "pub = (isa_circuit, None, num_shots)  # No params required\n",
    "job = noisy_sampler.run([pub])\n",
    "\n",
    "# Retrieve and display results\n",
    "result = job.result()\n",
    "pub_result = result[0]\n",
    "\n",
    "# Retrieve and print counts\n",
    "counts = pub_result.data.c.get_counts()\n",
    "print(\"Noisy simulation counts:\")\n",
    "print(counts)\n"
   ]
  },
  {
   "cell_type": "code",
   "execution_count": 37,
   "id": "d6fd48ba",
   "metadata": {},
   "outputs": [],
   "source": [
    "from qiskit_aer.noise import NoiseModel, depolarizing_error, pauli_error, amplitude_damping_error\n",
    "\n",
    "def create_noise_model(noise_type=\"depolarizing\", prob=0.01):\n",
    "    # Create different noise models.\n",
    "    noise_model = NoiseModel()\n",
    "\n",
    "    if noise_type == \"depolarizing\":\n",
    "        noise_model.add_all_qubit_quantum_error(depolarizing_error(prob, 1), [\"u1\", \"u2\", \"u3\"])\n",
    "        noise_model.add_all_qubit_quantum_error(depolarizing_error(prob, 2), [\"cx\"])\n",
    "    elif noise_type == \"bit_flip\":\n",
    "        noise_model.add_all_qubit_quantum_error(pauli_error([(\"X\", prob), (\"I\", 1 - prob)]), [\"u1\", \"u2\", \"u3\"])\n",
    "    elif noise_type == \"amplitude_damping\":\n",
    "        noise_model.add_all_qubit_quantum_error(amplitude_damping_error(prob), [\"u1\", \"u2\", \"u3\"])\n",
    "    else:\n",
    "        raise ValueError(\"Unsupported noise type. Choose from 'depolarizing', 'bit_flip', or 'amplitude_damping'.\")\n",
    "\n",
    "    return noise_model\n",
    "\n",
    "def simulate_noisy_circuit(qc, noise_model, shots=1024):\n",
    "    # Simulate qc with different noise models\n",
    "    simulator = AerSimulator()\n",
    "    transpiled_circuit = transpile(qc, backend=simulator)\n",
    "    simulator.set_options(noise_model=noise_model)\n",
    "    job = simulator.run(transpiled_circuit, shots=shots)\n",
    "    result = job.result()\n",
    "    return result.get_counts()\n",
    "\n",
    "\n",
    "def create_noise_model(noise_type=\"depolarizing\", prob=0.01):\n",
    "    # Create different noise models\n",
    "    noise_model = NoiseModel()\n",
    "\n",
    "    if noise_type == \"depolarizing\":\n",
    "        noise_model.add_all_qubit_quantum_error(depolarizing_error(prob, 1), [\"u1\", \"u2\", \"u3\"])\n",
    "        noise_model.add_all_qubit_quantum_error(depolarizing_error(prob, 2), [\"cx\"])\n",
    "    elif noise_type == \"bit_flip\":\n",
    "        noise_model.add_all_qubit_quantum_error(pauli_error([(\"X\", prob), (\"I\", 1 - prob)]), [\"u1\", \"u2\", \"u3\"])\n",
    "    elif noise_type == \"amplitude_damping\":\n",
    "        noise_model.add_all_qubit_quantum_error(amplitude_damping_error(prob), [\"u1\", \"u2\", \"u3\"])\n",
    "    else:\n",
    "        raise ValueError(\"Unsupported noise type. Choose from 'depolarizing', 'bit_flip', or 'amplitude_damping'.\")\n",
    "\n",
    "    return noise_model"
   ]
  },
  {
   "cell_type": "code",
   "execution_count": 38,
   "id": "4dd98fbc",
   "metadata": {},
   "outputs": [
    {
     "ename": "AttributeError",
     "evalue": "module 'stac' has no attribute 'Code'",
     "output_type": "error",
     "traceback": [
      "\u001b[0;31m---------------------------------------------------------------------------\u001b[0m",
      "\u001b[0;31mAttributeError\u001b[0m                            Traceback (most recent call last)",
      "Cell \u001b[0;32mIn[38], line 3\u001b[0m\n\u001b[1;32m      1\u001b[0m \u001b[38;5;28;01mimport\u001b[39;00m \u001b[38;5;21;01mstac\u001b[39;00m\n\u001b[0;32m----> 3\u001b[0m cd \u001b[38;5;241m=\u001b[39m \u001b[43mstac\u001b[49m\u001b[38;5;241;43m.\u001b[39;49m\u001b[43mCode\u001b[49m(Hx\u001b[38;5;241m.\u001b[39mastype(\u001b[38;5;28mint\u001b[39m), Hz\u001b[38;5;241m.\u001b[39mastype(\u001b[38;5;28mint\u001b[39m))\n\u001b[1;32m      4\u001b[0m stac\u001b[38;5;241m.\u001b[39mprint_matrix(cd\u001b[38;5;241m.\u001b[39mgenerator_matrix, augmented\u001b[38;5;241m=\u001b[39m\u001b[38;5;28;01mTrue\u001b[39;00m)\n\u001b[1;32m      5\u001b[0m cd\u001b[38;5;241m.\u001b[39mconstruct_logical_operators()\n",
      "\u001b[0;31mAttributeError\u001b[0m: module 'stac' has no attribute 'Code'"
     ]
    }
   ],
   "source": [
    "import stac\n",
    "\n",
    "cd = stac.Code(Hx.astype(int), Hz.astype(int))\n",
    "stac.print_matrix(cd.generator_matrix, augmented=True)\n",
    "cd.construct_logical_operators()\n",
    "print(\"Logical X =\", cd.logical_xs)\n",
    "print(\"Logical Z =\", cd.logical_zs)\n",
    "enc_circ = cd.construct_encoding_circuit()\n",
    "qasmqc = QuantumCircuit.from_qasm_str(enc_circ.qasm())"
   ]
  },
  {
   "cell_type": "code",
   "execution_count": 39,
   "id": "be3ec50f",
   "metadata": {},
   "outputs": [
    {
     "ename": "NameError",
     "evalue": "name 'cd' is not defined",
     "output_type": "error",
     "traceback": [
      "\u001b[0;31m---------------------------------------------------------------------------\u001b[0m",
      "\u001b[0;31mNameError\u001b[0m                                 Traceback (most recent call last)",
      "Cell \u001b[0;32mIn[39], line 1\u001b[0m\n\u001b[0;32m----> 1\u001b[0m \u001b[43mcd\u001b[49m\u001b[38;5;241m.\u001b[39mconstruct_standard_form()\n\u001b[1;32m      2\u001b[0m stac\u001b[38;5;241m.\u001b[39mprint_matrix(cd\u001b[38;5;241m.\u001b[39mstandard_generator_matrix, augmented\u001b[38;5;241m=\u001b[39m\u001b[38;5;28;01mTrue\u001b[39;00m)\n\u001b[1;32m      4\u001b[0m \u001b[38;5;28mprint\u001b[39m(\u001b[38;5;124m\"\u001b[39m\u001b[38;5;124mLogical X =\u001b[39m\u001b[38;5;124m\"\u001b[39m, cd\u001b[38;5;241m.\u001b[39mlogical_xs)\n",
      "\u001b[0;31mNameError\u001b[0m: name 'cd' is not defined"
     ]
    }
   ],
   "source": [
    "cd.construct_standard_form()\n",
    "stac.print_matrix(cd.standard_generator_matrix, augmented=True)\n",
    "\n",
    "print(\"Logical X =\", cd.logical_xs)\n",
    "print(\"Logical Z =\", cd.logical_zs)\n"
   ]
  },
  {
   "cell_type": "code",
   "execution_count": 40,
   "id": "3eb9c1ab",
   "metadata": {},
   "outputs": [
    {
     "ename": "NameError",
     "evalue": "name 'cd' is not defined",
     "output_type": "error",
     "traceback": [
      "\u001b[0;31m---------------------------------------------------------------------------\u001b[0m",
      "\u001b[0;31mNameError\u001b[0m                                 Traceback (most recent call last)",
      "Cell \u001b[0;32mIn[40], line 1\u001b[0m\n\u001b[0;32m----> 1\u001b[0m enc_circ \u001b[38;5;241m=\u001b[39m \u001b[43mcd\u001b[49m\u001b[38;5;241m.\u001b[39mconstruct_encoding_circuit()\n",
      "\u001b[0;31mNameError\u001b[0m: name 'cd' is not defined"
     ]
    }
   ],
   "source": [
    "enc_circ = cd.construct_encoding_circuit()"
   ]
  },
  {
   "cell_type": "code",
   "execution_count": 41,
   "id": "9f1c25ef",
   "metadata": {},
   "outputs": [
    {
     "ename": "NameError",
     "evalue": "name 'enc_circ' is not defined",
     "output_type": "error",
     "traceback": [
      "\u001b[0;31m---------------------------------------------------------------------------\u001b[0m",
      "\u001b[0;31mNameError\u001b[0m                                 Traceback (most recent call last)",
      "Cell \u001b[0;32mIn[41], line 1\u001b[0m\n\u001b[0;32m----> 1\u001b[0m \u001b[43menc_circ\u001b[49m\u001b[38;5;241m.\u001b[39mdraw()\n",
      "\u001b[0;31mNameError\u001b[0m: name 'enc_circ' is not defined"
     ]
    }
   ],
   "source": [
    "enc_circ.draw()"
   ]
  },
  {
   "cell_type": "code",
   "execution_count": 42,
   "id": "afefd73a",
   "metadata": {},
   "outputs": [
    {
     "ename": "NameError",
     "evalue": "name 'enc_circ' is not defined",
     "output_type": "error",
     "traceback": [
      "\u001b[0;31m---------------------------------------------------------------------------\u001b[0m",
      "\u001b[0;31mNameError\u001b[0m                                 Traceback (most recent call last)",
      "Cell \u001b[0;32mIn[42], line 1\u001b[0m\n\u001b[0;32m----> 1\u001b[0m \u001b[43menc_circ\u001b[49m\u001b[38;5;241m.\u001b[39mqasm()\n",
      "\u001b[0;31mNameError\u001b[0m: name 'enc_circ' is not defined"
     ]
    }
   ],
   "source": [
    "enc_circ.qasm()"
   ]
  },
  {
   "cell_type": "code",
   "execution_count": 43,
   "id": "e57e2884",
   "metadata": {},
   "outputs": [
    {
     "ename": "NameError",
     "evalue": "name 'qasmqc' is not defined",
     "output_type": "error",
     "traceback": [
      "\u001b[0;31m---------------------------------------------------------------------------\u001b[0m",
      "\u001b[0;31mNameError\u001b[0m                                 Traceback (most recent call last)",
      "Cell \u001b[0;32mIn[43], line 1\u001b[0m\n\u001b[0;32m----> 1\u001b[0m \u001b[43mqasmqc\u001b[49m\u001b[38;5;241m.\u001b[39mdraw(output\u001b[38;5;241m=\u001b[39m\u001b[38;5;124m'\u001b[39m\u001b[38;5;124mmpl\u001b[39m\u001b[38;5;124m'\u001b[39m)\n",
      "\u001b[0;31mNameError\u001b[0m: name 'qasmqc' is not defined"
     ]
    }
   ],
   "source": [
    "qasmqc.draw(output='mpl')"
   ]
  },
  {
   "cell_type": "code",
   "execution_count": 44,
   "id": "05b40270",
   "metadata": {},
   "outputs": [
    {
     "ename": "NameError",
     "evalue": "name 'qasmqc' is not defined",
     "output_type": "error",
     "traceback": [
      "\u001b[0;31m---------------------------------------------------------------------------\u001b[0m",
      "\u001b[0;31mNameError\u001b[0m                                 Traceback (most recent call last)",
      "Cell \u001b[0;32mIn[44], line 1\u001b[0m\n\u001b[0;32m----> 1\u001b[0m \u001b[43mqasmqc\u001b[49m \u001b[38;5;241m+\u001b[39m qc\n",
      "\u001b[0;31mNameError\u001b[0m: name 'qasmqc' is not defined"
     ]
    }
   ],
   "source": [
    "qasmqc + qc"
   ]
  },
  {
   "cell_type": "code",
   "execution_count": 45,
   "id": "69d3f617",
   "metadata": {},
   "outputs": [],
   "source": [
    "### SCRATCH BELOW ###"
   ]
  },
  {
   "cell_type": "code",
   "execution_count": 47,
   "id": "d3356265",
   "metadata": {},
   "outputs": [],
   "source": [
    "import stim\n",
    "import numpy as np\n",
    "from typing import List\n",
    "\n",
    "\n",
    "def parity_check_matrix_to_stabilizers(matrix: np.ndarray) -> List[stim.PauliString]:\n",
    "    num_rows, num_cols = matrix.shape\n",
    "    assert num_cols % 2 == 0\n",
    "    num_qubits = num_cols // 2\n",
    "\n",
    "    matrix = matrix.astype(np.bool)  # indicate the data isn't bit packed\n",
    "    return [\n",
    "        stim.PauliString.from_numpy(\n",
    "            xs=matrix[row, :num_qubits],\n",
    "            zs=matrix[row, num_qubits:],\n",
    "        )\n",
    "        for row in range(num_rows)\n",
    "    ]\n",
    "\n",
    "def parity_check_matrix_to_encoder(matrix: np.ndarray) -> stim.Circuit:\n",
    "    stabilizers = parity_check_matrix_to_stabilizers(matrix)\n",
    "    tableau = stim.Tableau.from_stabilizers(\n",
    "        stabilizers,\n",
    "        allow_underconstrained=True,\n",
    "        allow_redundant=True\n",
    "    )\n",
    "    return tableau.to_circuit(method='elimination')"
   ]
  },
  {
   "cell_type": "code",
   "execution_count": 48,
   "id": "dbf58327",
   "metadata": {},
   "outputs": [
    {
     "ename": "ValueError",
     "evalue": "Bit data must be a 1-dimensional numpy array with dtype=np.uint8 or dtype=np.bool_",
     "output_type": "error",
     "traceback": [
      "\u001b[0;31m---------------------------------------------------------------------------\u001b[0m",
      "\u001b[0;31mValueError\u001b[0m                                Traceback (most recent call last)",
      "Cell \u001b[0;32mIn[48], line 2\u001b[0m\n\u001b[1;32m      1\u001b[0m H0 \u001b[38;5;241m=\u001b[39m np\u001b[38;5;241m.\u001b[39mconcatenate((Hx, Hz),axis\u001b[38;5;241m=\u001b[39m\u001b[38;5;241m1\u001b[39m)\n\u001b[0;32m----> 2\u001b[0m circuit_stab \u001b[38;5;241m=\u001b[39m \u001b[43mparity_check_matrix_to_encoder\u001b[49m\u001b[43m(\u001b[49m\u001b[43mH0\u001b[49m\u001b[43m)\u001b[49m\n",
      "Cell \u001b[0;32mIn[47], line 21\u001b[0m, in \u001b[0;36mparity_check_matrix_to_encoder\u001b[0;34m(matrix)\u001b[0m\n\u001b[1;32m     20\u001b[0m \u001b[38;5;28;01mdef\u001b[39;00m \u001b[38;5;21mparity_check_matrix_to_encoder\u001b[39m(matrix: np\u001b[38;5;241m.\u001b[39mndarray) \u001b[38;5;241m-\u001b[39m\u001b[38;5;241m>\u001b[39m stim\u001b[38;5;241m.\u001b[39mCircuit:\n\u001b[0;32m---> 21\u001b[0m     stabilizers \u001b[38;5;241m=\u001b[39m \u001b[43mparity_check_matrix_to_stabilizers\u001b[49m\u001b[43m(\u001b[49m\u001b[43mmatrix\u001b[49m\u001b[43m)\u001b[49m\n\u001b[1;32m     22\u001b[0m     tableau \u001b[38;5;241m=\u001b[39m stim\u001b[38;5;241m.\u001b[39mTableau\u001b[38;5;241m.\u001b[39mfrom_stabilizers(\n\u001b[1;32m     23\u001b[0m         stabilizers,\n\u001b[1;32m     24\u001b[0m         allow_underconstrained\u001b[38;5;241m=\u001b[39m\u001b[38;5;28;01mTrue\u001b[39;00m,\n\u001b[1;32m     25\u001b[0m         allow_redundant\u001b[38;5;241m=\u001b[39m\u001b[38;5;28;01mTrue\u001b[39;00m\n\u001b[1;32m     26\u001b[0m     )\n\u001b[1;32m     27\u001b[0m     \u001b[38;5;28;01mreturn\u001b[39;00m tableau\u001b[38;5;241m.\u001b[39mto_circuit(method\u001b[38;5;241m=\u001b[39m\u001b[38;5;124m'\u001b[39m\u001b[38;5;124melimination\u001b[39m\u001b[38;5;124m'\u001b[39m)\n",
      "Cell \u001b[0;32mIn[47], line 13\u001b[0m, in \u001b[0;36mparity_check_matrix_to_stabilizers\u001b[0;34m(matrix)\u001b[0m\n\u001b[1;32m      9\u001b[0m num_qubits \u001b[38;5;241m=\u001b[39m num_cols \u001b[38;5;241m/\u001b[39m\u001b[38;5;241m/\u001b[39m \u001b[38;5;241m2\u001b[39m\n\u001b[1;32m     11\u001b[0m matrix \u001b[38;5;241m=\u001b[39m matrix\u001b[38;5;241m.\u001b[39mastype(np\u001b[38;5;241m.\u001b[39mbool)  \u001b[38;5;66;03m# indicate the data isn't bit packed\u001b[39;00m\n\u001b[1;32m     12\u001b[0m \u001b[38;5;28;01mreturn\u001b[39;00m [\n\u001b[0;32m---> 13\u001b[0m     \u001b[43mstim\u001b[49m\u001b[38;5;241;43m.\u001b[39;49m\u001b[43mPauliString\u001b[49m\u001b[38;5;241;43m.\u001b[39;49m\u001b[43mfrom_numpy\u001b[49m\u001b[43m(\u001b[49m\n\u001b[1;32m     14\u001b[0m \u001b[43m        \u001b[49m\u001b[43mxs\u001b[49m\u001b[38;5;241;43m=\u001b[39;49m\u001b[43mmatrix\u001b[49m\u001b[43m[\u001b[49m\u001b[43mrow\u001b[49m\u001b[43m,\u001b[49m\u001b[43m \u001b[49m\u001b[43m:\u001b[49m\u001b[43mnum_qubits\u001b[49m\u001b[43m]\u001b[49m\u001b[43m,\u001b[49m\n\u001b[1;32m     15\u001b[0m \u001b[43m        \u001b[49m\u001b[43mzs\u001b[49m\u001b[38;5;241;43m=\u001b[39;49m\u001b[43mmatrix\u001b[49m\u001b[43m[\u001b[49m\u001b[43mrow\u001b[49m\u001b[43m,\u001b[49m\u001b[43m \u001b[49m\u001b[43mnum_qubits\u001b[49m\u001b[43m:\u001b[49m\u001b[43m]\u001b[49m\u001b[43m,\u001b[49m\n\u001b[1;32m     16\u001b[0m \u001b[43m    \u001b[49m\u001b[43m)\u001b[49m\n\u001b[1;32m     17\u001b[0m     \u001b[38;5;28;01mfor\u001b[39;00m row \u001b[38;5;129;01min\u001b[39;00m \u001b[38;5;28mrange\u001b[39m(num_rows)\n\u001b[1;32m     18\u001b[0m ]\n",
      "\u001b[0;31mValueError\u001b[0m: Bit data must be a 1-dimensional numpy array with dtype=np.uint8 or dtype=np.bool_"
     ]
    }
   ],
   "source": [
    "H0 = np.concatenate((Hx, Hz),axis=1)\n",
    "circuit_stab = parity_check_matrix_to_encoder(H0)"
   ]
  },
  {
   "cell_type": "code",
   "execution_count": 49,
   "id": "fae8fdf5",
   "metadata": {},
   "outputs": [
    {
     "ename": "NameError",
     "evalue": "name 'circuit_stab' is not defined",
     "output_type": "error",
     "traceback": [
      "\u001b[0;31m---------------------------------------------------------------------------\u001b[0m",
      "\u001b[0;31mNameError\u001b[0m                                 Traceback (most recent call last)",
      "Cell \u001b[0;32mIn[49], line 1\u001b[0m\n\u001b[0;32m----> 1\u001b[0m \u001b[43mcircuit_stab\u001b[49m\u001b[38;5;241m.\u001b[39mdiagram(\u001b[38;5;124m'\u001b[39m\u001b[38;5;124mtimeline-svg\u001b[39m\u001b[38;5;124m'\u001b[39m)\n",
      "\u001b[0;31mNameError\u001b[0m: name 'circuit_stab' is not defined"
     ]
    }
   ],
   "source": [
    "circuit_stab.diagram('timeline-svg')"
   ]
  },
  {
   "cell_type": "code",
   "execution_count": 50,
   "id": "f3b3ef95",
   "metadata": {},
   "outputs": [
    {
     "ename": "NameError",
     "evalue": "name 'circuit_stab' is not defined",
     "output_type": "error",
     "traceback": [
      "\u001b[0;31m---------------------------------------------------------------------------\u001b[0m",
      "\u001b[0;31mNameError\u001b[0m                                 Traceback (most recent call last)",
      "Cell \u001b[0;32mIn[50], line 1\u001b[0m\n\u001b[0;32m----> 1\u001b[0m sampler \u001b[38;5;241m=\u001b[39m \u001b[43mcircuit_stab\u001b[49m\u001b[38;5;241m.\u001b[39mcompile_sampler()\n\u001b[1;32m      2\u001b[0m \u001b[38;5;28mprint\u001b[39m(sampler\u001b[38;5;241m.\u001b[39msample(shots\u001b[38;5;241m=\u001b[39m\u001b[38;5;241m100\u001b[39m))\n",
      "\u001b[0;31mNameError\u001b[0m: name 'circuit_stab' is not defined"
     ]
    }
   ],
   "source": [
    "sampler = circuit_stab.compile_sampler()\n",
    "print(sampler.sample(shots=100))"
   ]
  },
  {
   "cell_type": "code",
   "execution_count": null,
   "id": "12679dd5",
   "metadata": {},
   "outputs": [
    {
     "data": {
      "text/plain": [
       "stim.CompiledMeasurementSampler(stim.Circuit('''\n",
       "    S 0\n",
       "    H 0\n",
       "    S 0 2 4 5\n",
       "    H 2 4 5\n",
       "    CX 1 0 2 0 4 0 5 0\n",
       "    S 1\n",
       "    H 1\n",
       "    S 1 3\n",
       "    H 3\n",
       "    CX 2 1 3 1 4 1\n",
       "    H 2\n",
       "    S 2\n",
       "    H 3\n",
       "    S 3\n",
       "    H 4\n",
       "    S 4\n",
       "    H 5\n",
       "    S 5 0 0 1 1 2 2 3 3 4 4 5 5\n",
       "'''))"
      ]
     },
     "execution_count": 89,
     "metadata": {},
     "output_type": "execute_result"
    }
   ],
   "source": [
    "sampler"
   ]
  },
  {
   "cell_type": "code",
   "execution_count": null,
   "id": "6f0b7e04",
   "metadata": {},
   "outputs": [
    {
     "name": "stdout",
     "output_type": "stream",
     "text": [
      "[[ True  True]\n",
      " [False False]\n",
      " [False False]\n",
      " [False False]\n",
      " [False False]\n",
      " [False False]\n",
      " [ True  True]\n",
      " [False False]\n",
      " [False False]\n",
      " [ True  True]]\n"
     ]
    }
   ],
   "source": [
    "circuit = stim.Circuit()\n",
    "\n",
    "# First, the circuit will initialize a Bell pair.\n",
    "circuit.append(\"H\", [0])\n",
    "circuit.append(\"CNOT\", [0, 1])\n",
    "\n",
    "# Then, the circuit will measure both qubits of the Bell pair in the Z basis.\n",
    "circuit.append(\"M\", [0, 1])\n",
    "sampler = circuit.compile_sampler()\n",
    "print(sampler.sample(shots=10))"
   ]
  },
  {
   "cell_type": "code",
   "execution_count": null,
   "id": "0b77cfb5",
   "metadata": {},
   "outputs": [],
   "source": [
    "from bposd.css import css_code"
   ]
  },
  {
   "cell_type": "code",
   "execution_count": null,
   "id": "9da84cea",
   "metadata": {},
   "outputs": [
    {
     "ename": "AttributeError",
     "evalue": "module 'ldpc' has no attribute 'helpers'",
     "output_type": "error",
     "traceback": [
      "\u001b[0;31m---------------------------------------------------------------------------\u001b[0m",
      "\u001b[0;31mAttributeError\u001b[0m                            Traceback (most recent call last)",
      "Cell \u001b[0;32mIn[248], line 4\u001b[0m\n\u001b[1;32m      2\u001b[0m \u001b[38;5;28;01mfrom\u001b[39;00m \u001b[38;5;21;01mbposd\u001b[39;00m\u001b[38;5;21;01m.\u001b[39;00m\u001b[38;5;21;01mcss\u001b[39;00m \u001b[38;5;28;01mimport\u001b[39;00m css_code\n\u001b[1;32m      3\u001b[0m h\u001b[38;5;241m=\u001b[39mhamming_code(\u001b[38;5;241m3\u001b[39m) \u001b[38;5;66;03m#Hamming code parity check matrix\u001b[39;00m\n\u001b[0;32m----> 4\u001b[0m steane_code\u001b[38;5;241m=\u001b[39m\u001b[43mcss_code\u001b[49m\u001b[43m(\u001b[49m\u001b[43mhx\u001b[49m\u001b[38;5;241;43m=\u001b[39;49m\u001b[43mh\u001b[49m\u001b[43m,\u001b[49m\u001b[43mhz\u001b[49m\u001b[38;5;241;43m=\u001b[39;49m\u001b[43mh\u001b[49m\u001b[43m)\u001b[49m \u001b[38;5;66;03m#create Steane code where both hx and hz are Hamming codes\u001b[39;00m\n\u001b[1;32m      5\u001b[0m \u001b[38;5;28mprint\u001b[39m(\u001b[38;5;124m\"\u001b[39m\u001b[38;5;124mHx\u001b[39m\u001b[38;5;124m\"\u001b[39m)\n\u001b[1;32m      6\u001b[0m \u001b[38;5;28mprint\u001b[39m(steane_code\u001b[38;5;241m.\u001b[39mhx)\n",
      "File \u001b[0;32m~/qec_f24/project_env/lib/python3.11/site-packages/bposd/css.py:31\u001b[0m, in \u001b[0;36mcss_code.__init__\u001b[0;34m(self, hx, hz, code_distance, name)\u001b[0m\n\u001b[1;32m     28\u001b[0m     \u001b[38;5;28;01mraise\u001b[39;00m \u001b[38;5;167;01mException\u001b[39;00m(\u001b[38;5;124m\"\u001b[39m\u001b[38;5;124mError: hx and hz matrices must have equal numbers of columns!\u001b[39m\u001b[38;5;124m\"\u001b[39m)\n\u001b[1;32m     30\u001b[0m \u001b[38;5;28;01mif\u001b[39;00m nx\u001b[38;5;241m!=\u001b[39m\u001b[38;5;241m0\u001b[39m:\n\u001b[0;32m---> 31\u001b[0m     \u001b[38;5;28;43mself\u001b[39;49m\u001b[38;5;241;43m.\u001b[39;49m\u001b[43mcompute_dimension\u001b[49m\u001b[43m(\u001b[49m\u001b[43m)\u001b[49m\n\u001b[1;32m     32\u001b[0m     \u001b[38;5;28mself\u001b[39m\u001b[38;5;241m.\u001b[39mcompute_ldpc_params()\n\u001b[1;32m     33\u001b[0m     \u001b[38;5;28mself\u001b[39m\u001b[38;5;241m.\u001b[39mcompute_logicals()\n",
      "File \u001b[0;32m~/qec_f24/project_env/lib/python3.11/site-packages/bposd/css.py:50\u001b[0m, in \u001b[0;36mcss_code.compute_dimension\u001b[0;34m(self)\u001b[0m\n\u001b[1;32m     47\u001b[0m \u001b[38;5;28mself\u001b[39m\u001b[38;5;241m.\u001b[39mN\u001b[38;5;241m=\u001b[39m\u001b[38;5;28mself\u001b[39m\u001b[38;5;241m.\u001b[39mhx\u001b[38;5;241m.\u001b[39mshape[\u001b[38;5;241m1\u001b[39m]\n\u001b[1;32m     48\u001b[0m \u001b[38;5;28;01massert\u001b[39;00m \u001b[38;5;28mself\u001b[39m\u001b[38;5;241m.\u001b[39mN \u001b[38;5;241m==\u001b[39m \u001b[38;5;28mself\u001b[39m\u001b[38;5;241m.\u001b[39mhz\u001b[38;5;241m.\u001b[39mshape[\u001b[38;5;241m1\u001b[39m], \u001b[38;5;124m\"\u001b[39m\u001b[38;5;124mCode block length (N) inconsistent!\u001b[39m\u001b[38;5;124m\"\u001b[39m\n\u001b[0;32m---> 50\u001b[0m \u001b[38;5;28mself\u001b[39m\u001b[38;5;241m.\u001b[39mK\u001b[38;5;241m=\u001b[39m\u001b[38;5;28mself\u001b[39m\u001b[38;5;241m.\u001b[39mN\u001b[38;5;241m-\u001b[39m\u001b[43mmod2\u001b[49m\u001b[38;5;241;43m.\u001b[39;49m\u001b[43mrank\u001b[49m\u001b[43m(\u001b[49m\u001b[38;5;28;43mself\u001b[39;49m\u001b[38;5;241;43m.\u001b[39;49m\u001b[43mhx\u001b[49m\u001b[43m)\u001b[49m\u001b[38;5;241m-\u001b[39mmod2\u001b[38;5;241m.\u001b[39mrank(\u001b[38;5;28mself\u001b[39m\u001b[38;5;241m.\u001b[39mhz)\n\u001b[1;32m     51\u001b[0m \u001b[38;5;28;01mreturn\u001b[39;00m \u001b[38;5;28mself\u001b[39m\u001b[38;5;241m.\u001b[39mK\n",
      "File \u001b[0;32msrc_python/ldpc/mod2/_mod2.pyx:245\u001b[0m, in \u001b[0;36mldpc.mod2._mod2.rank\u001b[0;34m()\u001b[0m\n",
      "File \u001b[0;32msrc_python/ldpc/mod2/_mod2.pyx:159\u001b[0m, in \u001b[0;36mldpc.mod2._mod2.Py2CscList\u001b[0;34m()\u001b[0m\n",
      "\u001b[0;31mAttributeError\u001b[0m: module 'ldpc' has no attribute 'helpers'"
     ]
    }
   ],
   "source": [
    "from ldpc.codes import hamming_code\n",
    "from bposd.css import css_code\n",
    "h=hamming_code(3) #Hamming code parity check matrix\n",
    "steane_code=css_code(hx=h,hz=h) #create Steane code where both hx and hz are Hamming codes\n",
    "print(\"Hx\")\n",
    "print(steane_code.hx)\n",
    "print(\"Hz\")\n",
    "print(steane_code.hz)"
   ]
  }
 ],
 "metadata": {
  "colab": {
   "provenance": []
  },
  "kernelspec": {
   "display_name": "env",
   "language": "python",
   "name": "python3"
  },
  "language_info": {
   "codemirror_mode": {
    "name": "ipython",
    "version": 3
   },
   "file_extension": ".py",
   "mimetype": "text/x-python",
   "name": "python",
   "nbconvert_exporter": "python",
   "pygments_lexer": "ipython3",
   "version": "3.9.6"
  }
 },
 "nbformat": 4,
 "nbformat_minor": 5
}
